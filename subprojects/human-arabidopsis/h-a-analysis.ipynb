{
 "cells": [
  {
   "cell_type": "markdown",
   "metadata": {},
   "source": [
    "# Analyse correlations in alignment of reads to human and arabidopsis\n",
    "\n",
    "This notebook performs an analysis of a pair of full BAM files, one aligned to human genome and one to Arabidopsis.\n",
    "\n",
    "It is looking for insert size correlations, specifically the nature of small inserts.\n",
    "\n",
    "See also the subproject `small-fragments` for a detailed look at the read structure of small fragments.\n",
    "\n",
    "* Run the bash script before using this notebook."
   ]
  },
  {
   "cell_type": "markdown",
   "metadata": {},
   "source": [
    "## Supporting code"
   ]
  },
  {
   "cell_type": "code",
   "execution_count": 1,
   "metadata": {},
   "outputs": [],
   "source": [
    "import pysam\n",
    "import numpy as np\n",
    "import pandas as pd\n",
    "import seaborn as sns\n",
    "import matplotlib.pyplot as plt"
   ]
  },
  {
   "cell_type": "code",
   "execution_count": 2,
   "metadata": {},
   "outputs": [],
   "source": [
    "sample = \"NEB-100ng-1\"\n",
    "tags = ['arabidopsis', 'human']"
   ]
  },
  {
   "cell_type": "code",
   "execution_count": 3,
   "metadata": {},
   "outputs": [],
   "source": [
    "def next_valid_hq_read(it):\n",
    "    for r in it:\n",
    "        if r.is_read1 and r.is_proper_pair and r.mapping_quality >= 20 and not r.is_secondary:\n",
    "            return r\n",
    "    return None\n",
    "def next_valid_any_read(it):\n",
    "    for r in it:\n",
    "        if r.is_read1 and r.is_proper_pair and not r.is_secondary:\n",
    "            return r\n",
    "    return None"
   ]
  },
  {
   "cell_type": "code",
   "execution_count": 4,
   "metadata": {},
   "outputs": [
    {
     "name": "stdout",
     "output_type": "stream",
     "text": [
      "Processed 5000000 raw reads\n"
     ]
    }
   ],
   "source": [
    "bams = [pysam.AlignmentFile(f\"data/{sample}-{tag}-qsort.bam\") for tag in tags]\n",
    "iters = [bam.fetch(until_eof=True) for bam in bams]\n",
    "current_read = [None, next_valid_hq_read(iters[1])]\n",
    "\n",
    "# The list position acts as an index into arrays iters, current_read, etc.\n",
    "# It allows to swap around the files and all corresponding values.\n",
    "\n",
    "# Index into the other arrays: Determines which file is ahead in terms of query\n",
    "# names, and which one is behind.\n",
    "behind_file = 0\n",
    "ahead_file = 1\n",
    "# All other arrays stay fixed and are referenced through the position array.\n",
    "\n",
    "MAX_LEN = 1000\n",
    "size_corr = np.zeros((MAX_LEN, MAX_LEN))\n",
    "unique = [0, 0]\n",
    "both = 0\n",
    "\n",
    "SMALL_FRAG_THRESH = 35\n",
    "SMALL_FRAG_THRESH2 = 30\n",
    "\n",
    "unique_small = [0, 0]\n",
    "mapped_both_and_small = [0, 0]\n",
    "unique_small2 = [0, 0]\n",
    "mapped_both_and_small2 = [0, 0]\n",
    "\n",
    "counter = 0\n",
    "\n",
    "while current_read[1]:\n",
    "    current_read[behind_file] = next_valid_hq_read(iters[behind_file])\n",
    "    if not current_read[behind_file]:\n",
    "        break\n",
    "    elif current_read[behind_file].query_name > current_read[ahead_file].query_name:\n",
    "        # We found a greater one in the current iterator (which was behind before).\n",
    "        # Mark the read with qname less, in the \"ahead\" file, as unique to that file.\n",
    "        unique[ahead_file] += 1\n",
    "        if abs(current_read[ahead_file].tlen) < SMALL_FRAG_THRESH:\n",
    "            unique_small[ahead_file] += 1\n",
    "        if abs(current_read[ahead_file].tlen) < SMALL_FRAG_THRESH2:\n",
    "            unique_small2[ahead_file] += 1\n",
    "        # Then swap the order.\n",
    "        ahead_file, behind_file = behind_file, ahead_file\n",
    "    elif current_read[0].query_name == current_read[1].query_name:\n",
    "        tlens = [min(999, abs(current_read[i].tlen)) for i in (0,1)]\n",
    "        size_corr[tlens[0], tlens[1]] += 1\n",
    "        #size_corr[tlens[1], tlens[0]] += 1\n",
    "        both += 1\n",
    "        for i, t in zip([0,1], tlens):\n",
    "            if t < SMALL_FRAG_THRESH:\n",
    "                mapped_both_and_small[i] += 1\n",
    "            if t < SMALL_FRAG_THRESH2:\n",
    "                mapped_both_and_small2[i] += 1\n",
    "        current_read[ahead_file] = next_valid_hq_read(iters[ahead_file])\n",
    "    else:\n",
    "        # Our current iterator is still behind. The read we just processed was unique to our file.\n",
    "        unique[behind_file] += 1\n",
    "        if abs(current_read[behind_file].tlen) < SMALL_FRAG_THRESH:\n",
    "            unique_small[behind_file] += 1\n",
    "        if abs(current_read[behind_file].tlen) < SMALL_FRAG_THRESH2:\n",
    "            unique_small2[behind_file] += 1\n",
    "    counter += 1\n",
    "    if counter == 5e6:\n",
    "        print(\"Processed\", counter, \"raw reads\")\n",
    "        break"
   ]
  },
  {
   "cell_type": "code",
   "execution_count": 5,
   "metadata": {},
   "outputs": [],
   "source": [
    "c=plt.rcParams['axes.prop_cycle'].by_key()['color']"
   ]
  },
  {
   "cell_type": "markdown",
   "metadata": {},
   "source": [
    "## Overall read mapping correlations"
   ]
  },
  {
   "cell_type": "code",
   "execution_count": 6,
   "metadata": {},
   "outputs": [
    {
     "data": {
      "text/plain": [
       "<matplotlib.legend.Legend at 0x7f68b1fcc150>"
      ]
     },
     "execution_count": 6,
     "metadata": {},
     "output_type": "execute_result"
    },
    {
     "data": {
      "image/png": "[encoded data removed]",
      "text/plain": [
       "<Figure size 432x288 with 1 Axes>"
      ]
     },
     "metadata": {
      "needs_background": "light"
     },
     "output_type": "display_data"
    }
   ],
   "source": [
    "plt.barh([sample], [unique[0]], color=c[0], label=\"Arabidopsis only\")\n",
    "plt.barh([sample], [both], left=[unique[0]], color=c[1], label=\"Both\")\n",
    "plt.barh([sample], [unique[1]], left=[unique[0]+both], color=c[2], label=\"Human only\")\n",
    "plt.xlabel(\"High-quality read pairs\")\n",
    "plt.title(\"All reads\")\n",
    "plt.legend()"
   ]
  },
  {
   "cell_type": "code",
   "execution_count": 7,
   "metadata": {},
   "outputs": [],
   "source": [
    "def rebin(squareHist, factor_row, factor_col):\n",
    "    (nx0, ny0) = squareHist.shape\n",
    "    return sum(\n",
    "        squareHist[i::factor_row, j::factor_col]\n",
    "        for i in range(factor_row)\n",
    "        for j in range(factor_col)\n",
    "    )"
   ]
  },
  {
   "cell_type": "markdown",
   "metadata": {},
   "source": [
    "## 1. Correlation of mapped lengths for all reads mapping to both genomes"
   ]
  },
  {
   "cell_type": "code",
   "execution_count": 8,
   "metadata": {},
   "outputs": [
    {
     "data": {
      "text/plain": [
       "Text(0.5, 1.0, 'Reads mapped to both genomes')"
      ]
     },
     "execution_count": 8,
     "metadata": {},
     "output_type": "execute_result"
    },
    {
     "data": {
      "image/png": "[encoded data removed]",
      "text/plain": [
       "<Figure size 432x288 with 1 Axes>"
      ]
     },
     "metadata": {
      "needs_background": "light"
     },
     "output_type": "display_data"
    }
   ],
   "source": [
    "rebin_factor = 8\n",
    "maxlen = 400\n",
    "z = rebin(size_corr[:maxlen,:maxlen], rebin_factor, rebin_factor)\n",
    "x = list(range(0, maxlen+1, rebin_factor))\n",
    "y = list(range(0, maxlen+1, rebin_factor))\n",
    "plt.pcolormesh(x, y, z)\n",
    "plt.xlabel('mapped length in human genome')\n",
    "plt.ylabel('mapped length in arabidopsis genome')\n",
    "plt.title('Reads mapped to both genomes')"
   ]
  },
  {
   "cell_type": "markdown",
   "metadata": {},
   "source": [
    "So many reads mapping with short length to arabidopsis -- we can't see much at all."
   ]
  },
  {
   "cell_type": "code",
   "execution_count": 9,
   "metadata": {},
   "outputs": [
    {
     "data": {
      "text/plain": [
       "Text(0.5, 1.0, 'Range excludes shortest reads in arabidopsis genome')"
      ]
     },
     "execution_count": 9,
     "metadata": {},
     "output_type": "execute_result"
    },
    {
     "data": {
      "image/png": "[encoded data removed]",
      "text/plain": [
       "<Figure size 432x288 with 1 Axes>"
      ]
     },
     "metadata": {
      "needs_background": "light"
     },
     "output_type": "display_data"
    }
   ],
   "source": [
    "maxlen = 400\n",
    "z = rebin(size_corr[40:maxlen,:maxlen], 6, 8)\n",
    "x = list(range(0, maxlen+1, 8))\n",
    "y = list(range(40, maxlen+1, 6))\n",
    "plt.pcolormesh(x, y, z)\n",
    "\n",
    "plt.xlabel('mapped length in human genome')\n",
    "plt.ylabel('mapped length in arabidopsis genome')\n",
    "plt.title('Range excludes shortest reads in arabidopsis genome')"
   ]
  },
  {
   "cell_type": "code",
   "execution_count": 10,
   "metadata": {},
   "outputs": [
    {
     "name": "stdout",
     "output_type": "stream",
     "text": [
      "Number of reads with >100 length in both genomes: 313.5 ( 0.09865952080110901 %)\n",
      "Number of reads with <35 length in both genomes: 817.0 ( 0.2571126905725871 %)\n"
     ]
    }
   ],
   "source": [
    "print(\"Number of reads with >100 length in both genomes:\",\n",
    "     size_corr[100:,100:].sum() / 2, # Each read is counted twice, so divide by two\n",
    "     \"(\",\n",
    "      size_corr[100:,100:].sum() * 100.0 / size_corr.sum(),\n",
    "      \"%)\")\n",
    "print(\"Number of reads with <{} length in both genomes:\".format(SMALL_FRAG_THRESH),\n",
    "     size_corr[:SMALL_FRAG_THRESH,:SMALL_FRAG_THRESH].sum() / 2, # Each read is counted twice, so divide by two\n",
    "     \"(\",\n",
    "      size_corr[:SMALL_FRAG_THRESH,:SMALL_FRAG_THRESH].sum() * 100.0 / size_corr.sum(),\n",
    "      \"%)\")"
   ]
  },
  {
   "cell_type": "markdown",
   "metadata": {},
   "source": [
    "## 2. Study of short fragments and whether they map to the other genome\n",
    "\n",
    "Just picking human as one example. Considering all small reads mapping to the human genome, how many are also mapping to arabidopsis genome (with any size)."
   ]
  },
  {
   "cell_type": "code",
   "execution_count": 11,
   "metadata": {},
   "outputs": [
    {
     "data": {
      "image/png": "[encoded data removed]",
      "text/plain": [
       "<Figure size 432x288 with 1 Axes>"
      ]
     },
     "metadata": {
      "needs_background": "light"
     },
     "output_type": "display_data"
    }
   ],
   "source": [
    "plt.barh([sample], [mapped_both_and_small[1]], color=c[1], label=\"Both\")\n",
    "plt.barh([sample], [unique_small[1]], left=[mapped_both_and_smallReducing[1]], color=c[2], label=\"Human only\")\n",
    "plt.xlabel(\"Read pairs with length on human < {}\".format(SMALL_FRAG_THRESH))\n",
    "plt.title(\"Out of all small reads mapping to human genome\")\n",
    "plt.legend()\n",
    "plt.show()"
   ]
  },
  {
   "cell_type": "markdown",
   "metadata": {},
   "source": [
    "Reducing the size threshold to check if the human-only reads are from a tail of the ordinary insert size distribution:"
   ]
  },
  {
   "cell_type": "code",
   "execution_count": 13,
   "metadata": {},
   "outputs": [
    {
     "data": {
      "image/png": "[encoded data removed]",
      "text/plain": [
       "<Figure size 432x288 with 1 Axes>"
      ]
     },
     "metadata": {
      "needs_background": "light"
     },
     "output_type": "display_data"
    }
   ],
   "source": [
    "plt.barh([sample], [mapped_both_and_small2[1]], color=c[1], label=\"Both\")\n",
    "plt.barh([sample], [unique_small2[1]], left=[mapped_both_and_small2[1]], color=c[2], label=\"Human only\")\n",
    "plt.xlabel(\"Read pairs with length on human < {}\".format(SMALL_FRAG_THRESH2))\n",
    "plt.title(\"Out of all small reads mapping to human genome\")\n",
    "plt.legend()\n",
    "plt.show()"
   ]
  },
  {
   "cell_type": "markdown",
   "metadata": {},
   "source": [
    "Arabidopsis small reads"
   ]
  },
  {
   "cell_type": "code",
   "execution_count": 12,
   "metadata": {},
   "outputs": [
    {
     "data": {
      "image/png": "[encoded data removed]",
      "text/plain": [
       "<Figure size 432x288 with 1 Axes>"
      ]
     },
     "metadata": {
      "needs_background": "light"
     },
     "output_type": "display_data"
    }
   ],
   "source": [
    "plt.barh([sample], [unique_small[0]], color=c[0], label=\"Arabidopsis only\")\n",
    "plt.barh([sample], [mapped_both_and_small[0]], left=[unique_small[0]], color=c[1], label=\"Both\")\n",
    "plt.xlabel(\"Read pairs with length on arabidopsis < {}\".format(SMALL_FRAG_THRESH))\n",
    "plt.title(\"Out of all small reads mapping to arabidopsis genome\")\n",
    "plt.legend()\n",
    "plt.show()"
   ]
  },
  {
   "cell_type": "markdown",
   "metadata": {},
   "source": [
    "### No mapping quality requirement"
   ]
  },
  {
   "cell_type": "code",
   "execution_count": 14,
   "metadata": {},
   "outputs": [
    {
     "name": "stdout",
     "output_type": "stream",
     "text": [
      "Processed 5000000 raw reads\n"
     ]
    }
   ],
   "source": [
    "RA_SMALL_FRAG_THRESH = 35\n",
    "def reanalyse_no_mq_cut():\n",
    "    bams = [pysam.AlignmentFile(f\"data/{sample}-{tag}-qsort.bam\") for tag in tags]\n",
    "    iters = [bam.fetch(until_eof=True) for bam in bams]\n",
    "    current_read = [None, next_valid_any_read(iters[1])]\n",
    "    behind_file = 0\n",
    "    ahead_file = 1\n",
    "    MAX_LEN = 1000\n",
    "    unique_small = [0, 0]\n",
    "    mapped_both_and_small = [0, 0]\n",
    "    counter = 0\n",
    "    while current_read[1]:\n",
    "        current_read[behind_file] = next_valid_any_read(iters[behind_file])\n",
    "        if not current_read[behind_file]:\n",
    "            break\n",
    "        elif current_read[behind_file].query_name > current_read[ahead_file].query_name:\n",
    "            if abs(current_read[ahead_file].tlen) < RA_SMALL_FRAG_THRESH:\n",
    "                unique_small[ahead_file] += 1\n",
    "            ahead_file, behind_file = behind_file, ahead_file\n",
    "        elif current_read[0].query_name == current_read[1].query_name:\n",
    "            tlens = [min(999, abs(current_read[i].tlen)) for i in (0,1)]\n",
    "            for i, t in zip([0,1], tlens):\n",
    "                if t < RA_SMALL_FRAG_THRESH:\n",
    "                    mapped_both_and_small[i] += 1\n",
    "            current_read[ahead_file] = next_valid_hq_read(iters[ahead_file])\n",
    "        else:\n",
    "            if abs(current_read[behind_file].tlen) < RA_SMALL_FRAG_THRESH:\n",
    "                unique_small[behind_file] += 1\n",
    "        counter += 1\n",
    "        if counter == 5e6:\n",
    "            print(\"Processed\", counter, \"raw reads\")\n",
    "            break\n",
    "    return unique_small, mapped_both_and_small\n",
    "\n",
    "unique_small_nomq, mapped_both_and_small_nomq = reanalyse_no_mq_cut()"
   ]
  },
  {
   "cell_type": "code",
   "execution_count": 15,
   "metadata": {},
   "outputs": [
    {
     "data": {
      "image/png": "[encoded data removed]",
      "text/plain": [
       "<Figure size 432x288 with 1 Axes>"
      ]
     },
     "metadata": {
      "needs_background": "light"
     },
     "output_type": "display_data"
    }
   ],
   "source": [
    "plt.barh([sample], [mapped_both_and_small_nomq[1]], color=c[1], label=\"Both\")\n",
    "plt.barh([sample], [unique_small_nomq[1]], left=[mapped_both_and_small_nomq[1]], color=c[2], label=\"Human only\")\n",
    "plt.xlabel(\"Read pairs with length on human < {}\".format(RA_SMALL_FRAG_THRESH))\n",
    "plt.title(\"Out of all small reads mapping to human genome\")\n",
    "plt.legend()\n",
    "plt.show()"
   ]
  },
  {
   "cell_type": "markdown",
   "metadata": {},
   "source": [
    "## Conclusion\n",
    "\n",
    "We saw a sharp peak in the insert size distribution at sizes around 20-35 (very small!). The purpose of this notebook is the investigate if this peak has anything to do with DNA fragments from the other organism. Considering the peak at small inserts in humans, for example, is it caused by fragments from arabidopsis which are not actually so small, but get clipped because they don't fit well in the human genome.\n",
    "\n",
    "More concretely, we want to check the following hypotheses:\n",
    "1. Reads aligning to both genomes have short size in one and long (normal) size in the other\n",
    "2. A significant fraction of all the reads aligning to one of the organisms with a short insert size also maps to the other organism, and are as described in (1).\n",
    "\n",
    "Almost all of the reads that map to both genomes (in pairs, good quality, etc; see `get_read_pairs`) has a short insert size in one genome and a long insert size in the other. This confirms (1).\n",
    "\n",
    "Out of all the reads with length < SMALL_FRAG_THRESH (35) mapped to the human genome, a large fraction also maps to the arabidopsis genome, however it is not the majority. The reverse effect is much more pronounced: by far most of the reads aligning with a short size to the arabidopsis genome also align to the human -- with a short size (as seen in the above plots).\n",
    "\n",
    "Because there are vastly more human DNA fragments than Arabidopsis fragments in the libraries, the \"human only\" fraction of the small fragments (first plot in section (2)) can possibly be explained by the tail of the insert size distribution -- i.e. that they are genuine short fragments of human DNA. The plots in (2) reject this hypothesis: the fractions remain the same when reducing the threshold to SMALL_FRAG_THRESH2 (30). When looking at reads without requiring a mapping quality of 20, the majority of the reads are in both genomes, but a significant fraction is also only in human.\n",
    "\n",
    "\n",
    "An observation worth noting, even if not relevant to the origin of the spike at short sizes, is that there are so few reads mapping to both genomes at the same time with long lengths. This shows that the short-read sequencing data studied here (i.e. 150 bases PE) is sufficient to distinguish between the two genomes for each read pair independently."
   ]
  },
  {
   "cell_type": "code",
   "execution_count": null,
   "metadata": {},
   "outputs": [],
   "source": []
  }
 ],
 "metadata": {
  "kernelspec": {
   "display_name": "Python 3",
   "language": "python",
   "name": "python3"
  },
  "language_info": {
   "codemirror_mode": {
    "name": "ipython",
    "version": 3
   },
   "file_extension": ".py",
   "mimetype": "text/x-python",
   "name": "python",
   "nbconvert_exporter": "python",
   "pygments_lexer": "ipython3",
   "version": "3.7.4"
  }
 },
 "nbformat": 4,
 "nbformat_minor": 4
}
