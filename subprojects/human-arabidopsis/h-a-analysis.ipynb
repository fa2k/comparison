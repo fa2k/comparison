{
 "cells": [
  {
   "cell_type": "markdown",
   "metadata": {},
   "source": [
    "# Analyse correlations in alignment of reads to human and arabidopsis\n",
    "\n",
    "This notebook performs an analysis of a pair of full BAM files, one aligned to human genome and one to Arabidopsis.\n",
    "\n",
    "It is looking for insert size correlations, specifically the nature of small inserts.\n",
    "\n",
    "See also the subproject `small-fragments` for a detailed look at the read structure of small fragments.\n",
    "\n",
    "* Run the bash script before using this notebook."
   ]
  },
  {
   "cell_type": "markdown",
   "metadata": {},
   "source": [
    "## Supporting code"
   ]
  },
  {
   "cell_type": "code",
   "execution_count": 1,
   "metadata": {},
   "outputs": [],
   "source": [
    "import pysam\n",
    "import numpy as np\n",
    "import pandas as pd\n",
    "import seaborn as sns\n",
    "import matplotlib.pyplot as plt"
   ]
  },
  {
   "cell_type": "markdown",
   "metadata": {},
   "source": [
    "## Code from \"small fragments\" -- do we need it here?"
   ]
  },
  {
   "cell_type": "code",
   "execution_count": 2,
   "metadata": {},
   "outputs": [],
   "source": [
    "def get_read_pairs(bam, want_n_pairs, print_qname=False):\n",
    "    reads = []\n",
    "    for count, r in enumerate( bam.fetch()):\n",
    "        if not r.is_read1 or r.mapping_quality < 20 or not r.is_proper_pair:\n",
    "            continue\n",
    "        try:\n",
    "            m8 = bam.mate(r)\n",
    "        except ValueError:\n",
    "            continue\n",
    "        if m8.mapping_quality < 20 or abs(m8.reference_start - r.reference_start) > 3000:\n",
    "            continue\n",
    "        if print_qname:\n",
    "            print(\"\\n\", r.query_name)\n",
    "        reads.append((r, m8))\n",
    "        if len(reads) == want_n_pairs:\n",
    "            break\n",
    "    return reads"
   ]
  },
  {
   "cell_type": "code",
   "execution_count": 17,
   "metadata": {},
   "outputs": [],
   "source": [
    "sample = \"NEB-100ng-1\"\n",
    "tags = ['arabidopsis', 'human']"
   ]
  },
  {
   "cell_type": "code",
   "execution_count": 18,
   "metadata": {},
   "outputs": [],
   "source": [
    "def next_valid_read(it):\n",
    "    for r in it:\n",
    "        if r.is_read1 and r.is_proper_pair and r.mapping_quality >= 20 and not r.is_secondary:\n",
    "            return r\n",
    "    return None"
   ]
  },
  {
   "cell_type": "code",
   "execution_count": 73,
   "metadata": {},
   "outputs": [
    {
     "name": "stdout",
     "output_type": "stream",
     "text": [
      "Processed 5000000 raw reads\n"
     ]
    }
   ],
   "source": [
    "bams = [pysam.AlignmentFile(f\"data/{sample}-{tag}-qsort.bam\") for tag in tags]\n",
    "iters = [bam.fetch(until_eof=True) for bam in bams]\n",
    "current_read = [None, next_valid_read(iters[1])]\n",
    "\n",
    "# The list position acts as an index into arrays iters, current_read, etc.\n",
    "# It allows to swap around the files and all corresponding values.\n",
    "\n",
    "# Index into the other arrays: Determines which file is ahead in terms of query\n",
    "# names, and which one is behind.\n",
    "behind_file = 0\n",
    "ahead_file = 1\n",
    "# All other arrays stay fixed and are referenced through the position array.\n",
    "\n",
    "MAX_LEN = 1000\n",
    "size_corr = np.zeros((MAX_LEN, MAX_LEN))\n",
    "unique = [0, 0]\n",
    "both = 0\n",
    "\n",
    "SMALL_FRAG_THRESH = 35\n",
    "unique_small = [0, 0]\n",
    "mapped_both_and_small = [0, 0]\n",
    "\n",
    "counter = 0\n",
    "\n",
    "while current_read[1]:\n",
    "    current_read[behind_file] = next_valid_read(iters[behind_file])\n",
    "    if not current_read[behind_file]:\n",
    "        break\n",
    "    elif current_read[behind_file].query_name > current_read[ahead_file].query_name:\n",
    "        # We found a greater one in the current iterator (which was behind before).\n",
    "        # Mark the read with qname less, in the \"ahead\" file, as unique to that file.\n",
    "        unique[ahead_file] += 1\n",
    "        if abs(current_read[ahead_file].tlen) < SMALL_FRAG_THRESH:\n",
    "            unique_small[ahead_file] += 1\n",
    "        # Then swap the order.\n",
    "        ahead_file, behind_file = behind_file, ahead_file\n",
    "    elif current_read[0].query_name == current_read[1].query_name:\n",
    "        tlens = [min(999, abs(current_read[i].tlen)) for i in (0,1)]\n",
    "        size_corr[tlens[0], tlens[1]] += 1\n",
    "        size_corr[tlens[1], tlens[0]] += 1\n",
    "        both += 1\n",
    "        for i, t in zip([0,1], tlens):\n",
    "            if t < SMALL_FRAG_THRESH:\n",
    "                mapped_both_and_small[i] += 1\n",
    "        current_read[ahead_file] = next_valid_read(iters[ahead_file])\n",
    "    else:\n",
    "        # Our current iterator is still behind. The read we just processed was unique to our file.\n",
    "        unique[behind_file] += 1\n",
    "        if abs(current_read[behind_file].tlen) < SMALL_FRAG_THRESH:\n",
    "            unique_small[behind_file] += 1\n",
    "    counter += 1\n",
    "    if counter == 5e6:\n",
    "        print(\"Processed\", counter, \"raw reads\")\n",
    "        break"
   ]
  },
  {
   "cell_type": "markdown",
   "metadata": {},
   "source": [
    "## Overall read mapping correlations"
   ]
  },
  {
   "cell_type": "code",
   "execution_count": 74,
   "metadata": {},
   "outputs": [
    {
     "data": {
      "text/plain": [
       "<matplotlib.legend.Legend at 0x1a19d78350>"
      ]
     },
     "execution_count": 74,
     "metadata": {},
     "output_type": "execute_result"
    },
    {
     "data": {
      "image/png": "[encoded data removed]",
      "text/plain": [
       "<Figure size 432x288 with 1 Axes>"
      ]
     },
     "metadata": {
      "needs_background": "light"
     },
     "output_type": "display_data"
    }
   ],
   "source": [
    "plt.barh([sample], [unique[0]], label=\"Arabidopsis only\")\n",
    "plt.barh([sample], [both], left=[unique[0]], label=\"Both\")\n",
    "plt.barh([sample], [unique[1]], left=[unique[0]+both], label=\"Human only\")\n",
    "plt.xlabel(\"High-quality read pairs\")\n",
    "plt.title(\"All reads\")\n",
    "plt.legend()"
   ]
  },
  {
   "cell_type": "code",
   "execution_count": 75,
   "metadata": {},
   "outputs": [],
   "source": [
    "def rebin(squareHist, factor):\n",
    "    (nx0, ny0) = squareHist.shape\n",
    "    return sum(\n",
    "        squareHist[i::factor, j::factor]\n",
    "        for i in range(factor)\n",
    "        for j in range(factor)\n",
    "    )"
   ]
  },
  {
   "cell_type": "markdown",
   "metadata": {},
   "source": [
    "## Correlation of mapped lengths for all reads mapping to both genomes"
   ]
  },
  {
   "cell_type": "code",
   "execution_count": 76,
   "metadata": {},
   "outputs": [],
   "source": [
    "rebin_factor = 8\n",
    "maxlen = 400\n",
    "z = rebin(size_corr[:maxlen,:maxlen], rebin_factor)\n",
    "x = list(range(0, maxlen+0, rebin_factor))\n",
    "y = list(range(0, maxlen+1, rebin_factor))"
   ]
  },
  {
   "cell_type": "code",
   "execution_count": 77,
   "metadata": {},
   "outputs": [
    {
     "data": {
      "text/plain": [
       "Text(0.5, 1.0, 'Reads mapped to both genomes')"
      ]
     },
     "execution_count": 77,
     "metadata": {},
     "output_type": "execute_result"
    },
    {
     "data": {
      "image/png": "[encoded data removed]",
      "text/plain": [
       "<Figure size 432x288 with 1 Axes>"
      ]
     },
     "metadata": {
      "needs_background": "light"
     },
     "output_type": "display_data"
    }
   ],
   "source": [
    "plt.pcolormesh(x, y, z)\n",
    "plt.xlabel('mapped length in human genome')\n",
    "plt.ylabel('mapped length in arabidopsis genome')\n",
    "plt.title('Reads mapped to both genomes')"
   ]
  },
  {
   "cell_type": "code",
   "execution_count": 78,
   "metadata": {},
   "outputs": [
    {
     "name": "stdout",
     "output_type": "stream",
     "text": [
      "Number of reads with >100 length in both genomes: 627.0 ( 0.09865952080110901 %)\n"
     ]
    }
   ],
   "source": [
    "print(\"Number of reads with >100 length in both genomes:\",\n",
    "     size_corr[100:,100:].sum() / 2, # Each read is counted twice, so divide by two\n",
    "     \"(\",\n",
    "      size_corr[100:,100:].sum() * 100.0 / size_corr.sum(),\n",
    "      \"%)\")"
   ]
  },
  {
   "cell_type": "markdown",
   "metadata": {},
   "source": [
    "## Study of short fragments in the human genome\n",
    "\n",
    "Just picking human as one example. Considering all small reads mapping to the human genome, how many are also mapping to arabidopsis genome (with any size)."
   ]
  },
  {
   "cell_type": "code",
   "execution_count": 80,
   "metadata": {},
   "outputs": [
    {
     "data": {
      "text/plain": [
       "<matplotlib.legend.Legend at 0x1a1c124d10>"
      ]
     },
     "execution_count": 80,
     "metadata": {},
     "output_type": "execute_result"
    },
    {
     "data": {
      "image/png": "[encoded data removed]",
      "text/plain": [
       "<Figure size 432x288 with 1 Axes>"
      ]
     },
     "metadata": {
      "needs_background": "light"
     },
     "output_type": "display_data"
    }
   ],
   "source": [
    "plt.barh([sample], [unique_small[1]], label=\"Human only\")\n",
    "plt.barh([sample], [mapped_both_and_small[1]], left=[unique_small[1]], label=\"Both\")\n",
    "plt.xlabel(\"Read pairs with length on human < {}\".format(SMALL_FRAG_THRESH))\n",
    "plt.legend()"
   ]
  },
  {
   "cell_type": "markdown",
   "metadata": {},
   "source": [
    "## Conclusion\n",
    "\n",
    "We saw a sharp peak in the insert size distribution at sizes around 20-35 (very small!). The purpose of this notebook is the investigate if this peak has anything to do with DNA fragments from the other organism. Considering the peak at small inserts in humans, for example, is it caused by fragments from arabidopsis which are not actually so small, but get clipped because they don't actually fit in the human genome.\n",
    "\n",
    "Almost all of the reads that map to both genomes (in pairs, good quality, etc; `get_read_pairs`) has a short insert size in one genome and a long insert size in the other. These contribute to the peak.\n",
    "\n",
    "Out of all the small reads mapped to the human genome, a large fraction also maps to the arabidopsis genome, however it is not the majority."
   ]
  },
  {
   "cell_type": "code",
   "execution_count": null,
   "metadata": {},
   "outputs": [],
   "source": []
  }
 ],
 "metadata": {
  "kernelspec": {
   "display_name": "Python 3",
   "language": "python",
   "name": "python3"
  },
  "language_info": {
   "codemirror_mode": {
    "name": "ipython",
    "version": 3
   },
   "file_extension": ".py",
   "mimetype": "text/x-python",
   "name": "python",
   "nbconvert_exporter": "python",
   "pygments_lexer": "ipython3",
   "version": "3.7.4"
  }
 },
 "nbformat": 4,
 "nbformat_minor": 4
}
