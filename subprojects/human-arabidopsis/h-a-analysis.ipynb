{
 "cells": [
  {
   "cell_type": "markdown",
   "metadata": {},
   "source": [
    "# Analyse correlations in alignment of reads to human and arabidopsis\n",
    "\n",
    "This notebook performs an analysis of a pair of full BAM files, one aligned to human genome and one to Arabidopsis.\n",
    "\n",
    "\n",
    "\n",
    "\n",
    "* Run the bash script before using this notebook."
   ]
  },
  {
   "cell_type": "markdown",
   "metadata": {},
   "source": [
    "## Supporting code"
   ]
  },
  {
   "cell_type": "code",
   "execution_count": 1,
   "metadata": {},
   "outputs": [],
   "source": [
    "import pysam\n",
    "import numpy as np\n",
    "import pandas as pd\n",
    "import seaborn as sns\n",
    "import matplotlib.pyplot as plt"
   ]
  },
  {
   "cell_type": "markdown",
   "metadata": {},
   "source": [
    "## Code from \"small fragments\" -- do we need it here?"
   ]
  },
  {
   "cell_type": "code",
   "execution_count": 2,
   "metadata": {},
   "outputs": [],
   "source": [
    "def get_read_pairs(bam, want_n_pairs, print_qname=False):\n",
    "    reads = []\n",
    "    for count, r in enumerate( bam.fetch()):\n",
    "        if not r.is_read1 or r.mapping_quality < 20 or not r.is_proper_pair:\n",
    "            continue\n",
    "        try:\n",
    "            m8 = bam.mate(r)\n",
    "        except ValueError:\n",
    "            continue\n",
    "        if m8.mapping_quality < 20 or abs(m8.reference_start - r.reference_start) > 3000:\n",
    "            continue\n",
    "        if print_qname:\n",
    "            print(\"\\n\", r.query_name)\n",
    "        reads.append((r, m8))\n",
    "        if len(reads) == want_n_pairs:\n",
    "            break\n",
    "    return reads"
   ]
  },
  {
   "cell_type": "code",
   "execution_count": 3,
   "metadata": {},
   "outputs": [],
   "source": [
    "sample = \"NEB-100ng-1\"\n",
    "tags = ['arabidopsis', 'human']\n",
    "bams = [pysam.AlignmentFile(f\"data/{sample}-{tag}-qsort.bam\") for tag in tags]"
   ]
  },
  {
   "cell_type": "code",
   "execution_count": 4,
   "metadata": {},
   "outputs": [],
   "source": [
    "def next_valid_read(it):\n",
    "    for r in it:\n",
    "        if r.is_read1 and r.is_proper_pair and r.mapping_quality > 20 and not r.is_secondary:\n",
    "            return r\n",
    "    return None"
   ]
  },
  {
   "cell_type": "code",
   "execution_count": 5,
   "metadata": {},
   "outputs": [],
   "source": [
    "# 2-element lists for current iterators and associated data:\n",
    "# The largest qname should always be in the second element. Will swap the elements if it's not.\n",
    "iters = [bam.fetch(until_eof=True) for bam in bams]\n",
    "current_read = [None, next_valid_read(iters[1])]\n",
    "stats_object = [{'data': tag, 'unique': 0, 'both': 0, 'index':i} for i, tag in enumerate(tags)]\n",
    "# index above is used to uniquely enter the numpy array for size correlations\n",
    "MAX_LEN = 1000\n",
    "size_corr = np.zeros((MAX_LEN, MAX_LEN))\n",
    "\n",
    "while current_read[1]:\n",
    "    current_read[0] = next_valid_read(iters[0])\n",
    "    if not current_read[0]:\n",
    "        break\n",
    "    elif current_read[0].query_name > current_read[1].query_name:\n",
    "        # We found a greater one in the current iterator (which was behind before).\n",
    "        # Mark the read with qname less, in iterator index 1, as unique to that file.\n",
    "        stats_object[1]['unique'] += 1\n",
    "        # Then swap the order.\n",
    "        stats_object = stats_object[1:] + stats_object[:1]\n",
    "        iters = iters[1:] + iters[:1]\n",
    "        current_read = current_read[1:] + current_read[:1]\n",
    "    elif current_read[0].query_name == current_read[1].query_name:\n",
    "        lengths = [min(9999, abs(current_read[stats_object[x]['index']].tlen)) for x in [0,1]]\n",
    "        size_corr[lengths] += 1\n",
    "        stats_object[0]['both'] += 1\n",
    "        stats_object[1]['both'] += 1\n",
    "        current_read[1] = next_valid_read(iters[1])\n",
    "    else:\n",
    "        # Our current iterator is still behind. The read we just processed was unique to our file.\n",
    "        stats_object[0]['unique'] += 1    "
   ]
  },
  {
   "cell_type": "code",
   "execution_count": 6,
   "metadata": {},
   "outputs": [
    {
     "data": {
      "text/plain": [
       "[{'data': 'human', 'unique': 38131, 'both': 0, 'index': 1},\n",
       " {'data': 'arabidopsis', 'unique': 55399, 'both': 0, 'index': 0}]"
      ]
     },
     "execution_count": 6,
     "metadata": {},
     "output_type": "execute_result"
    }
   ],
   "source": [
    "stats_object"
   ]
  },
  {
   "cell_type": "code",
   "execution_count": null,
   "metadata": {},
   "outputs": [],
   "source": []
  }
 ],
 "metadata": {
  "kernelspec": {
   "display_name": "Python 3",
   "language": "python",
   "name": "python3"
  },
  "language_info": {
   "codemirror_mode": {
    "name": "ipython",
    "version": 3
   },
   "file_extension": ".py",
   "mimetype": "text/x-python",
   "name": "python",
   "nbconvert_exporter": "python",
   "pygments_lexer": "ipython3",
   "version": "3.7.0"
  }
 },
 "nbformat": 4,
 "nbformat_minor": 2
}
