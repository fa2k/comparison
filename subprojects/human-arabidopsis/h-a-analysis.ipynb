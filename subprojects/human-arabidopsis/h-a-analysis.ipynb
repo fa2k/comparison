{
 "cells": [
  {
   "cell_type": "markdown",
   "metadata": {},
   "source": [
    "# Analyse correlations in alignment of reads to human and arabidopsis\n",
    "\n",
    "This notebook performs an analysis of a pair of full BAM files, one aligned to human genome and one to Arabidopsis.\n",
    "\n",
    "\n",
    "\n",
    "\n",
    "* Run the bash script before using this notebook."
   ]
  },
  {
   "cell_type": "markdown",
   "metadata": {},
   "source": [
    "## Supporting code"
   ]
  },
  {
   "cell_type": "code",
   "execution_count": 1,
   "metadata": {},
   "outputs": [
    {
     "ename": "ModuleNotFoundError",
     "evalue": "No module named 'pysam'",
     "output_type": "error",
     "traceback": [
      "\u001b[0;31m---------------------------------------------------------------------------\u001b[0m",
      "\u001b[0;31mModuleNotFoundError\u001b[0m                       Traceback (most recent call last)",
      "\u001b[0;32m<ipython-input-1-528f632170de>\u001b[0m in \u001b[0;36m<module>\u001b[0;34m\u001b[0m\n\u001b[0;32m----> 1\u001b[0;31m \u001b[0;32mimport\u001b[0m \u001b[0mpysam\u001b[0m\u001b[0;34m\u001b[0m\u001b[0;34m\u001b[0m\u001b[0m\n\u001b[0m\u001b[1;32m      2\u001b[0m \u001b[0;32mimport\u001b[0m \u001b[0mnumpy\u001b[0m \u001b[0;32mas\u001b[0m \u001b[0mnp\u001b[0m\u001b[0;34m\u001b[0m\u001b[0;34m\u001b[0m\u001b[0m\n\u001b[1;32m      3\u001b[0m \u001b[0;32mimport\u001b[0m \u001b[0mpandas\u001b[0m \u001b[0;32mas\u001b[0m \u001b[0mpd\u001b[0m\u001b[0;34m\u001b[0m\u001b[0;34m\u001b[0m\u001b[0m\n\u001b[1;32m      4\u001b[0m \u001b[0;32mimport\u001b[0m \u001b[0mseaborn\u001b[0m \u001b[0;32mas\u001b[0m \u001b[0msns\u001b[0m\u001b[0;34m\u001b[0m\u001b[0;34m\u001b[0m\u001b[0m\n\u001b[1;32m      5\u001b[0m \u001b[0;32mimport\u001b[0m \u001b[0mmatplotlib\u001b[0m\u001b[0;34m.\u001b[0m\u001b[0mpyplot\u001b[0m \u001b[0;32mas\u001b[0m \u001b[0mplt\u001b[0m\u001b[0;34m\u001b[0m\u001b[0;34m\u001b[0m\u001b[0m\n",
      "\u001b[0;31mModuleNotFoundError\u001b[0m: No module named 'pysam'"
     ]
    }
   ],
   "source": [
    "import pysam\n",
    "import numpy as np\n",
    "import pandas as pd\n",
    "import seaborn as sns\n",
    "import matplotlib.pyplot as plt"
   ]
  },
  {
   "cell_type": "markdown",
   "metadata": {},
   "source": [
    "## Code from \"small fragments\" -- do we need it here?"
   ]
  },
  {
   "cell_type": "code",
   "execution_count": 2,
   "metadata": {},
   "outputs": [],
   "source": [
    "def get_read_pairs(bam, want_n_pairs, print_qname=False):\n",
    "    reads = []\n",
    "    for count, r in enumerate( bam.fetch()):\n",
    "        if not r.is_read1 or r.mapping_quality < 20 or not r.is_proper_pair:\n",
    "            continue\n",
    "        try:\n",
    "            m8 = bam.mate(r)\n",
    "        except ValueError:\n",
    "            continue\n",
    "        if m8.mapping_quality < 20 or abs(m8.reference_start - r.reference_start) > 3000:\n",
    "            continue\n",
    "        if print_qname:\n",
    "            print(\"\\n\", r.query_name)\n",
    "        reads.append((r, m8))\n",
    "        if len(reads) == want_n_pairs:\n",
    "            break\n",
    "    return reads"
   ]
  },
  {
   "cell_type": "code",
   "execution_count": 3,
   "metadata": {},
   "outputs": [
    {
     "ename": "NameError",
     "evalue": "name 'pysam' is not defined",
     "output_type": "error",
     "traceback": [
      "\u001b[0;31m---------------------------------------------------------------------------\u001b[0m",
      "\u001b[0;31mNameError\u001b[0m                                 Traceback (most recent call last)",
      "\u001b[0;32m<ipython-input-3-acf1eed57592>\u001b[0m in \u001b[0;36m<module>\u001b[0;34m\u001b[0m\n\u001b[1;32m      1\u001b[0m \u001b[0msample\u001b[0m \u001b[0;34m=\u001b[0m \u001b[0;34m\"NEB-100ng-1\"\u001b[0m\u001b[0;34m\u001b[0m\u001b[0;34m\u001b[0m\u001b[0m\n\u001b[1;32m      2\u001b[0m \u001b[0mtags\u001b[0m \u001b[0;34m=\u001b[0m \u001b[0;34m[\u001b[0m\u001b[0;34m'arabidopsis'\u001b[0m\u001b[0;34m,\u001b[0m \u001b[0;34m'human'\u001b[0m\u001b[0;34m]\u001b[0m\u001b[0;34m\u001b[0m\u001b[0;34m\u001b[0m\u001b[0m\n\u001b[0;32m----> 3\u001b[0;31m \u001b[0mbams\u001b[0m \u001b[0;34m=\u001b[0m \u001b[0;34m[\u001b[0m\u001b[0mpysam\u001b[0m\u001b[0;34m.\u001b[0m\u001b[0mAlignmentFile\u001b[0m\u001b[0;34m(\u001b[0m\u001b[0;34mf\"data/{sample}-{tag}-qsort.bam\"\u001b[0m\u001b[0;34m)\u001b[0m \u001b[0;32mfor\u001b[0m \u001b[0mtag\u001b[0m \u001b[0;32min\u001b[0m \u001b[0mtags\u001b[0m\u001b[0;34m]\u001b[0m\u001b[0;34m\u001b[0m\u001b[0;34m\u001b[0m\u001b[0m\n\u001b[0m",
      "\u001b[0;32m<ipython-input-3-acf1eed57592>\u001b[0m in \u001b[0;36m<listcomp>\u001b[0;34m(.0)\u001b[0m\n\u001b[1;32m      1\u001b[0m \u001b[0msample\u001b[0m \u001b[0;34m=\u001b[0m \u001b[0;34m\"NEB-100ng-1\"\u001b[0m\u001b[0;34m\u001b[0m\u001b[0;34m\u001b[0m\u001b[0m\n\u001b[1;32m      2\u001b[0m \u001b[0mtags\u001b[0m \u001b[0;34m=\u001b[0m \u001b[0;34m[\u001b[0m\u001b[0;34m'arabidopsis'\u001b[0m\u001b[0;34m,\u001b[0m \u001b[0;34m'human'\u001b[0m\u001b[0;34m]\u001b[0m\u001b[0;34m\u001b[0m\u001b[0;34m\u001b[0m\u001b[0m\n\u001b[0;32m----> 3\u001b[0;31m \u001b[0mbams\u001b[0m \u001b[0;34m=\u001b[0m \u001b[0;34m[\u001b[0m\u001b[0mpysam\u001b[0m\u001b[0;34m.\u001b[0m\u001b[0mAlignmentFile\u001b[0m\u001b[0;34m(\u001b[0m\u001b[0;34mf\"data/{sample}-{tag}-qsort.bam\"\u001b[0m\u001b[0;34m)\u001b[0m \u001b[0;32mfor\u001b[0m \u001b[0mtag\u001b[0m \u001b[0;32min\u001b[0m \u001b[0mtags\u001b[0m\u001b[0;34m]\u001b[0m\u001b[0;34m\u001b[0m\u001b[0;34m\u001b[0m\u001b[0m\n\u001b[0m",
      "\u001b[0;31mNameError\u001b[0m: name 'pysam' is not defined"
     ]
    }
   ],
   "source": [
    "sample = \"NEB-100ng-1\"\n",
    "tags = ['arabidopsis', 'human']\n",
    "bams = [pysam.AlignmentFile(f\"data/{sample}-{tag}-qsort.bam\") for tag in tags]"
   ]
  },
  {
   "cell_type": "code",
   "execution_count": 17,
   "metadata": {},
   "outputs": [],
   "source": [
    "def next_valid_read(it):\n",
    "    for r in it:\n",
    "        if r.is_read1 and r.is_proper_pair and r.mapping_quality >= 20 and not r.is_secondary:\n",
    "            return r\n",
    "    return None"
   ]
  },
  {
   "cell_type": "code",
   "execution_count": 54,
   "metadata": {},
   "outputs": [],
   "source": [
    "iters = [bam.fetch(until_eof=True) for bam in bams]\n",
    "current_read = [None, next_valid_read(iters[1])]\n",
    "\n",
    "# The list position acts as an index into arrays iters, current_read, etc.\n",
    "# It allows to swap around the files and all corresponding values.\n",
    "\n",
    "# **The file in the first position should always be the one with a queryname sorting before,\n",
    "# that is a \"lower\" query name.**\n",
    "position = [0, 1]\n",
    "# All other arrays stay fixed and are referenced through the position array.\n",
    "\n",
    "MAX_LEN = 1000\n",
    "size_corr = np.zeros((MAX_LEN, MAX_LEN))\n",
    "unique = [0, 0]\n",
    "both = 0\n",
    "\n",
    "counter = 0\n",
    "\n",
    "while current_read[1]:\n",
    "    current_read[position[0]] = next_valid_read(iters[position[0]])\n",
    "    if not current_read[position[0]]:\n",
    "        break\n",
    "    elif current_read[position[0]].query_name > current_read[position[1]].query_name:\n",
    "        # We found a greater one in the current iterator (which was behind before).\n",
    "        # Mark the read with qname less, in iterator index 1, as unique to that file.\n",
    "        unique[position[1]] += 1\n",
    "        # Then swap the order.\n",
    "        stats_object = position[1:] + position[:1]\n",
    "    elif current_read[0].query_name == current_read[1].query_name:\n",
    "        lengths = [min(9999, abs(current_read[position[x]].tlen)) for x in [0,1]]\n",
    "        size_corr[lengths] += 1\n",
    "        both += 1\n",
    "        current_read[position[1]] = next_valid_read(iters[position[1]])\n",
    "    else:\n",
    "        # Our current iterator is still behind. The read we just processed was unique to our file.\n",
    "        unique[position[0]] += 1\n",
    "    counter += 1\n",
    "    if counter % 1000000 == 0:\n",
    "        print(\"Processed\", counter, \"raw reads\")"
   ]
  },
  {
   "cell_type": "code",
   "execution_count": 16,
   "metadata": {},
   "outputs": [
    {
     "data": {
      "text/plain": [
       "<matplotlib.legend.Legend at 0x7fb8e0c0eeb8>"
      ]
     },
     "execution_count": 16,
     "metadata": {},
     "output_type": "execute_result"
    },
    {
     "data": {
      "image/png": "[encoded data removed]",
      "text/plain": [
       "<Figure size 432x288 with 1 Axes>"
      ]
     },
     "metadata": {
      "needs_background": "light"
     },
     "output_type": "display_data"
    }
   ],
   "source": [
    "plt.barh([sample], [unique[0]], label=\"Arabidopsis only\")\n",
    "plt.barh([sample], [both], label=\"Both\")\n",
    "plt.barh([sample], [unique[1]], label=\"Human only\")\n",
    "plt.xlabel(\"High-quality read pairs\")\n",
    "plt.legend()"
   ]
  },
  {
   "cell_type": "code",
   "execution_count": 46,
   "metadata": {},
   "outputs": [],
   "source": [
    "def rebin(squareHist, factor):\n",
    "    (nx0, ny0) = squareHist.shape\n",
    "    return sum(\n",
    "        squareHist[i::factor, j::factor]\n",
    "        for i in range(factor)\n",
    "        for j in range(factor)\n",
    "    )"
   ]
  },
  {
   "cell_type": "code",
   "execution_count": 51,
   "metadata": {},
   "outputs": [],
   "source": [
    "rebin_factor = 250\n",
    "z = rebin(size_corr, rebin_factor)\n",
    "x = list(range(0, size_corr.shape[1]+1, rebin_factor))\n",
    "y = list(range(0, size_corr.shape[0]+1, rebin_factor))"
   ]
  },
  {
   "cell_type": "code",
   "execution_count": 52,
   "metadata": {},
   "outputs": [
    {
     "data": {
      "text/plain": [
       "<matplotlib.collections.QuadMesh at 0x7fb8e091b6d8>"
      ]
     },
     "execution_count": 52,
     "metadata": {},
     "output_type": "execute_result"
    },
    {
     "data": {
      "image/png": "[encoded data removed]",
      "text/plain": [
       "<Figure size 432x288 with 1 Axes>"
      ]
     },
     "metadata": {
      "needs_background": "light"
     },
     "output_type": "display_data"
    }
   ],
   "source": [
    "plt.pcolormesh(x, y, z)"
   ]
  },
  {
   "cell_type": "code",
   "execution_count": null,
   "metadata": {},
   "outputs": [],
   "source": []
  }
 ],
 "metadata": {
  "kernelspec": {
   "display_name": "Python 3",
   "language": "python",
   "name": "python3"
  },
  "language_info": {
   "codemirror_mode": {
    "name": "ipython",
    "version": 3
   },
   "file_extension": ".py",
   "mimetype": "text/x-python",
   "name": "python",
   "nbconvert_exporter": "python",
   "pygments_lexer": "ipython3",
   "version": "3.7.4"
  }
 },
 "nbformat": 4,
 "nbformat_minor": 4
}
