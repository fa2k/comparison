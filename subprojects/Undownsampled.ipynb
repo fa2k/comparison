{
 "cells": [
  {
   "cell_type": "markdown",
   "metadata": {},
   "source": [
    "## Notebook Undownsampled\n",
    "\n",
    "Related to ../Main_analysis.ipynb. This explores the possibility that the downsampling step distorts other metrics. Inspired by a unexpected duplication metric for the Quanta kit.\n",
    "\n",
    "Consequently, a lot of the code is copied from Main_Analysis."
   ]
  },
  {
   "cell_type": "code",
   "execution_count": 19,
   "metadata": {},
   "outputs": [],
   "source": [
    "# This option controls whether the Swift long-insert libraries are included in the analysis.\n",
    "# They are not a part of the main comparison.\n",
    "\n",
    "INCLUDE_SWIFT_LONG_LIBS = True"
   ]
  },
  {
   "cell_type": "code",
   "execution_count": 20,
   "metadata": {},
   "outputs": [
    {
     "name": "stdout",
     "output_type": "stream",
     "text": [
      "Number of entries:  48\n"
     ]
    }
   ],
   "source": [
    "import pandas as pd\n",
    "import seaborn as sns\n",
    "import matplotlib.pyplot as plt\n",
    "import numpy as np\n",
    "from glob import glob\n",
    "import re\n",
    "import os\n",
    "%matplotlib inline\n",
    "\n",
    "def load_picard(path):\n",
    "    with open(path) as f:\n",
    "        mode = None\n",
    "        metrics_header = None\n",
    "        metrics_data = {}\n",
    "        histogram_series = []\n",
    "        histogram_data = []\n",
    "        for l in f:\n",
    "            line = l.rstrip(\"\\r\\n\")\n",
    "            if mode == 'metrics':\n",
    "                metrics_header = line.split()\n",
    "                mode = 'metrics2'\n",
    "            elif mode == 'metrics2':\n",
    "                if line != \"\":\n",
    "                    metrics_data = dict(zip(metrics_header, line.split()))\n",
    "                else:\n",
    "                    mode = None\n",
    "            elif mode == 'histogram':\n",
    "                histogram_series = line.split()\n",
    "                histogram_data = [list() for _ in histogram_series]\n",
    "                mode = 'histogram2'\n",
    "            elif mode == 'histogram2':\n",
    "                if line != \"\":\n",
    "                    for i, value in enumerate(line.split()):\n",
    "                        histogram_data[i].append(value)\n",
    "                else:\n",
    "                    mode = None\n",
    "            elif line.startswith(\"## METRICS CLASS\"):\n",
    "                mode = 'metrics'\n",
    "            elif line.startswith(\"## HISTOGRAM\"):\n",
    "                mode = 'histogram'\n",
    "        if histogram_series:\n",
    "            #metrics_data['histograms'] = dict(zip(histogram_series, histogram_data))\n",
    "            for name, data in zip(histogram_series, histogram_data):\n",
    "                metrics_data[name] = [float(x) for x in data]\n",
    "    return metrics_data\n",
    "\n",
    "# Load the samples\n",
    "samples = []\n",
    "for bam in glob(\"../20_piccard/*.AlignmentSummaryMetrics.txt\"):\n",
    "    basepath = re.sub(r\"\\.AlignmentSummaryMetrics\\.txt$\", \"\", bam)\n",
    "    data = {}\n",
    "    try:\n",
    "        for metrics in ['.AlignmentSummaryMetrics', '.InsertSizeMetrics',\n",
    "                        '.MarkDuplicatesMetrics', '.WgsMetrics']:\n",
    "            new_data = load_picard(\"{}{}.txt\".format(basepath, metrics))\n",
    "            if any(k in data for k in new_data):\n",
    "                print(\"Duplicate key {} found in {}\".format(k, metrics))\n",
    "            data.update(new_data)\n",
    "    except FileNotFoundError as e:\n",
    "        print(\"File {} not found, skipping this sample.\".format(e.filename))\n",
    "        continue\n",
    "    samples.append(data)\n",
    "\n",
    "df = pd.DataFrame(samples).reindex().apply(pd.to_numeric, axis=0, errors='ignore')\n",
    "df['Kit'] = pd.Categorical(df.LIBRARY.str.split(\"-\").str.get(0))\n",
    "df['Conc'] = pd.Categorical(df.LIBRARY.str.split(\"-\").str.get(1), categories=['10ng', '100ng'])\n",
    "if not INCLUDE_SWIFT_LONG_LIBS:\n",
    "    df = df.loc[df.Kit != \"Swiftlong\"]\n",
    "    df.Kit = df.Kit.cat.set_categories(['Kapa', 'NEB', 'Nextera', 'Quanta', 'Swift2S'])\n",
    "else:\n",
    "    df.Kit = df.Kit.cat.set_categories(['Kapa', 'NEB', 'Nextera', 'Quanta', 'Swift2S', 'Swiftlong'])\n",
    "\n",
    "print(\"Number of entries: \", len(df))"
   ]
  },
  {
   "cell_type": "markdown",
   "metadata": {},
   "source": [
    "# Utility function"
   ]
  },
  {
   "cell_type": "code",
   "execution_count": 21,
   "metadata": {},
   "outputs": [],
   "source": [
    "def savefig(name, main=True):\n",
    "    if main:\n",
    "        if INCLUDE_SWIFT_LONG_LIBS:\n",
    "            plt.savefig('../plots-main-withLong/{}'.format(name))\n",
    "        else:\n",
    "            plt.savefig('../plots-main/{}'.format(name))\n",
    "    else:\n",
    "        if INCLUDE_SWIFT_LONG_LIBS:\n",
    "            plt.savefig('../plots-suppl-withLong/{}'.format(name))\n",
    "        else:\n",
    "            plt.savefig('../plots-suppl/{}'.format(name))"
   ]
  },
  {
   "cell_type": "markdown",
   "metadata": {},
   "source": [
    "# Non-examp duplicates\n",
    "\n",
    "(This gives expected values for the duplication, relative to the cluster in Main_analysis nb)"
   ]
  },
  {
   "cell_type": "code",
   "execution_count": 22,
   "metadata": {},
   "outputs": [
    {
     "data": {
      "image/png": "[encoded data removed]",
      "text/plain": [
       "<Figure size 432x288 with 1 Axes>"
      ]
     },
     "metadata": {
      "needs_background": "light"
     },
     "output_type": "display_data"
    }
   ],
   "source": [
    "df['PERCENT_DUPLICATION_NON_OPTICAL'] = (\n",
    "        (df.READ_PAIR_DUPLICATES - df.READ_PAIR_OPTICAL_DUPLICATES)*2 + df.UNPAIRED_READ_DUPLICATES\n",
    "        ) * 100.0 / (\n",
    "        df.READ_PAIRS_EXAMINED*2 + df.UNPAIRED_READS_EXAMINED\n",
    "        )\n",
    "sns.boxplot(data=df, x='Kit', y='PERCENT_DUPLICATION_NON_OPTICAL', hue='Conc')\n",
    "#plt.title(\"Non-optical duplicates\")\n",
    "plt.ylabel(\"Percent duplicates\")\n",
    "plt.xlabel(\"\")\n",
    "if INCLUDE_SWIFT_LONG_LIBS:\n",
    "    plt.ylim(0, 12)\n",
    "else:\n",
    "    plt.ylim(0, 7)\n",
    "savefig('non-examp-duplicates.pdf')"
   ]
  },
  {
   "cell_type": "markdown",
   "metadata": {},
   "source": [
    "# Overall library duplication"
   ]
  },
  {
   "cell_type": "code",
   "execution_count": 23,
   "metadata": {},
   "outputs": [
    {
     "data": {
      "image/png": "[encoded data removed]",
      "text/plain": [
       "<Figure size 432x288 with 1 Axes>"
      ]
     },
     "metadata": {
      "needs_background": "light"
     },
     "output_type": "display_data"
    }
   ],
   "source": [
    "df['PERCENT_DUPLICATION_PERCENT'] = df.PERCENT_DUPLICATION * 100.0\n",
    "sns.boxplot(data=df, x='Kit', y='PERCENT_DUPLICATION_PERCENT', hue='Conc')\n",
    "#plt.title(\"Non-optical duplicates\")\n",
    "plt.ylabel(\"Percent duplicates\")\n",
    "plt.xlabel(\"\")\n",
    "plt.ylim(0, 20)\n",
    "savefig('total-duplicates.pdf')"
   ]
  },
  {
   "cell_type": "markdown",
   "metadata": {},
   "source": [
    "# Duplication in Quanta kit\n",
    "Checking relative for pcr'd and pcr-free variants. It corresponds with expectations."
   ]
  },
  {
   "cell_type": "code",
   "execution_count": 24,
   "metadata": {},
   "outputs": [
    {
     "name": "stdout",
     "output_type": "stream",
     "text": [
      "Quanta\n"
     ]
    },
    {
     "data": {
      "image/png": "[encoded data removed]",
      "text/plain": [
       "<Figure size 427.625x360 with 1 Axes>"
      ]
     },
     "metadata": {
      "needs_background": "light"
     },
     "output_type": "display_data"
    },
    {
     "name": "stdout",
     "output_type": "stream",
     "text": [
      "Swift2S\n"
     ]
    },
    {
     "data": {
      "image/png": "[encoded data removed]",
      "text/plain": [
       "<Figure size 427.625x360 with 1 Axes>"
      ]
     },
     "metadata": {
      "needs_background": "light"
     },
     "output_type": "display_data"
    }
   ],
   "source": [
    "quanta = df[(df.Kit == 'Quanta')]\n",
    "swift = df[(df.Kit == 'Swift2S')]\n",
    "for kdf in [quanta, swift]:\n",
    "    print(kdf.Kit.iloc[0])\n",
    "    dfs = []\n",
    "    for conc in ['10ng', '100ng']:\n",
    "        quanta_dup = pd.DataFrame({'Value': kdf[kdf.Conc == conc]['PERCENT_DUPLICATION_NON_OPTICAL']})\n",
    "        quanta_dup['DupType'] = 'Non-ExAmp'\n",
    "        quanta_dup['Conc'] = conc\n",
    "        dfs.append(quanta_dup)\n",
    "        quanta_dup2 = pd.DataFrame({'Value': kdf[kdf.Conc == conc]['PERCENT_DUPLICATION']*100})\n",
    "        quanta_dup2['DupType'] = 'Total'\n",
    "        quanta_dup2['Conc'] = conc\n",
    "        dfs.append(quanta_dup2)\n",
    "    cat = pd.concat(dfs)\n",
    "    sns.catplot(data=cat, x=\"DupType\", y=\"Value\", hue=\"Conc\")\n",
    "    plt.ylim(0, 12)\n",
    "    plt.show()\n",
    "\n",
    "    \n"
   ]
  },
  {
   "cell_type": "code",
   "execution_count": null,
   "metadata": {},
   "outputs": [],
   "source": []
  }
 ],
 "metadata": {
  "kernelspec": {
   "display_name": "Python 3",
   "language": "python",
   "name": "python3"
  },
  "language_info": {
   "codemirror_mode": {
    "name": "ipython",
    "version": 3
   },
   "file_extension": ".py",
   "mimetype": "text/x-python",
   "name": "python",
   "nbconvert_exporter": "python",
   "pygments_lexer": "ipython3",
   "version": "3.7.0"
  }
 },
 "nbformat": 4,
 "nbformat_minor": 2
}
