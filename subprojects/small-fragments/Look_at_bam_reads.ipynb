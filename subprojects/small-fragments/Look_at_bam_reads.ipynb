{
 "cells": [
  {
   "cell_type": "markdown",
   "metadata": {},
   "source": [
    "# Inspect paired-end reads with short insert sizes"
   ]
  },
  {
   "cell_type": "markdown",
   "metadata": {},
   "source": [
    "## Subproject overview\n",
    "\n",
    "1. The commands in `script.sh` produce a SAM file that contains read pairs shorter than 35 bases. This notebook performs an analysis of short reads to determine their structure, with respeect to read pair orientation and soft clipping."
   ]
  },
  {
   "cell_type": "markdown",
   "metadata": {},
   "source": [
    "## Supporting code"
   ]
  },
  {
   "cell_type": "code",
   "execution_count": 61,
   "metadata": {},
   "outputs": [],
   "source": [
    "import pysam\n",
    "import pandas as pd\n",
    "import seaborn as sns\n",
    "import matplotlib.pyplot as plt"
   ]
  },
  {
   "cell_type": "code",
   "execution_count": 5,
   "metadata": {},
   "outputs": [],
   "source": [
    "# Box print: Perhaps not needed. Use JupyterLab and resize the window big enough, can then display the full width.\n",
    "\n",
    "from IPython.display import display, HTML\n",
    "from pprint import pformat\n",
    "def boxprint(*args):\n",
    "    for arg in args:\n",
    "        display(HTML('<pre style=\"white-space: pre !important;\">{}</pre>'.format(arg)))"
   ]
  },
  {
   "cell_type": "code",
   "execution_count": 37,
   "metadata": {},
   "outputs": [],
   "source": [
    "def skip_reads(bamfile, n):\n",
    "    for _ in zip(range(n),bam.fetch()): pass # Skip a few reads\n",
    "\n",
    "def get_read_pairs(bam, want_n_pairs, print_qname=False):\n",
    "    reads = []\n",
    "    for count, r in enumerate( bam.fetch()):\n",
    "        if not (r.is_read1 or r.mapping_quality < 20 or r.is_proper_pair):\n",
    "            continue\n",
    "        try:\n",
    "            m8 = bam.mate(r)\n",
    "        except ValueError:\n",
    "            continue\n",
    "        if m8.mapping_quality < 20 or abs(m8.reference_start - r.reference_start) > 3000:\n",
    "            continue\n",
    "        if print_qname:\n",
    "            print(\"\\n\", r.query_name)\n",
    "        reads.append((r, m8))\n",
    "        if len(reads) == want_n_pairs:\n",
    "            break\n",
    "    return reads\n",
    "\n",
    "def get_start_end(read):\n",
    "    \"\"\"Locate start and end position in reference including soft-clipped bases.\"\"\"\n",
    "    \n",
    "    SOFT_CLIP = 4\n",
    "    start = read.reference_start\n",
    "    if read.cigartuples[0][0] == SOFT_CLIP:\n",
    "        start -= read.cigartuples[0][1]\n",
    "    end = read.reference_end\n",
    "    if read.cigartuples[-1][0] == SOFT_CLIP:\n",
    "        end += read.cigartuples[-1][1]\n",
    "    return (start, end)"
   ]
  },
  {
   "cell_type": "code",
   "execution_count": 19,
   "metadata": {},
   "outputs": [],
   "source": [
    "bam = pysam.AlignmentFile(\"data/smallInserts.bam\", \"rb\")\n",
    "skip_reads(bam, 1000000)\n",
    "reads = get_read_pairs(bam, 8)"
   ]
  },
  {
   "cell_type": "code",
   "execution_count": 20,
   "metadata": {},
   "outputs": [],
   "source": [
    "for r1, r2 in reads:\n",
    "    break # Set r1 and r2 to the first read pair"
   ]
  },
  {
   "cell_type": "code",
   "execution_count": 21,
   "metadata": {},
   "outputs": [
    {
     "name": "stdout",
     "output_type": "stream",
     "text": [
      "9879 10030 length: 151\n",
      "10027 10178 length: 151\n"
     ]
    }
   ],
   "source": [
    "def pse(read):\n",
    "    start, end = get_start_end(read)\n",
    "    print (start, end, \"length:\", end - start)\n",
    "pse(r1)\n",
    "pse(r2)"
   ]
  },
  {
   "cell_type": "code",
   "execution_count": 22,
   "metadata": {},
   "outputs": [
    {
     "data": {
      "text/plain": [
       "10003"
      ]
     },
     "execution_count": 22,
     "metadata": {},
     "output_type": "execute_result"
    }
   ],
   "source": [
    "r1.reference_start"
   ]
  },
  {
   "cell_type": "markdown",
   "metadata": {},
   "source": [
    "The following is is a function to display the reads in a nice way. Also showing output for the first read pair, as a test.\n",
    "\n",
    "Use the `boxplot` function defined above to allow horizontal scrolling."
   ]
  },
  {
   "cell_type": "code",
   "execution_count": 35,
   "metadata": {},
   "outputs": [
    {
     "data": {
      "text/html": [
       "<pre style=\"white-space: pre !important;\">|chr1:9879 (ref length: 299) E00426:63:HYK7TCCXY:4:2215:25682:67287\n",
       "????????????????????????????????????????????????????????????????????????????????????????????????????????????????????????????CCCTAACCCTAACCCTAACCCTAACCCTAACCCTAACCCTAACCCTAACCCTAACCCTAACCCTAACCCTAACCCTAACCCTAACCCTAACCCTAACCCTAACCCAACCCTAACCCTAACCCTAACCCTAACCCTAACCCTAACCCCTAACCCTAACCCTAACCC??????????\n",
       "<<<<<<<<<<<<<<<<<<<<<<<<<<<<<<<<<<<<<<<<<<<<<<<<<<<<<<<<<<<<<<<<<<<<<<<<<<<<<<<<<<<<<<<<<<<<<<<<<<<<<<<<<<<<<<<<<<<<<<<<<<<<<<<<<<<<<<<<<<<<<<<<<<<<<<<                                                                                                                                                    \n",
       "ctcctcctcaccctccccccaacccgacccccaaccctacccctacttttctaccgataccgcgcccacccacaactacacccctgctccctcgcccgcaccctcagctgtgcccaagcgctagCCCTAACCCTAACCCTAACCCTAACCC....................................................................................................................................................\n",
       "                                                                                                                                                    |||                                                                                                                                                    \n",
       "....................................................................................................................................................CCCTAACCCTAACCCTAACCCTAACCCTAACCCTAACCCTAAACCTAACCCCAACCCTAACCCTAACCCCAACCCTAACCCAACCCTAACCCTAACCCTAACCCTACCCCTAACCCTCACCCC-AACCCTAACCCTAACCCccaccctccc\n",
       "                                                                                                                                                    >>>>>>>>>>>>>>>>>>>>>>>>>>>>>>>>>>>>>>>>>>>>>>>>>>>>>>>>>>>>>>>>>>>>>>>>>>>>>>>>>>>>>>>>>>>>>>>>>>>>>>>>>>>>>>>>>>>>>>>>>>>>>>>>>>>>>>>>>>>>>>>>>>>>>>></pre>"
      ],
      "text/plain": [
       "<IPython.core.display.HTML object>"
      ]
     },
     "metadata": {},
     "output_type": "display_data"
    }
   ],
   "source": [
    "complement = {'A': 'T', 'T': 'A', 'G':'C', 'C': 'G'}\n",
    "\n",
    "def show_reads(r1, r2):\n",
    "    reads = [r1, r2]\n",
    "    \n",
    "    s, e = [0, 0], [0, 0]\n",
    "    s[0], e[0] = get_start_end(reads[0])\n",
    "    s[1], e[1] = get_start_end(reads[1])\n",
    "    \n",
    "    start = min(s)\n",
    "    end = max(e)\n",
    "    \n",
    "    header = \"|\" + r1.reference_name + \":\" + str(start) + \" (ref length: \" + str(end - start )  +  \") \" + r1.query_name\n",
    "    \n",
    "    if end - start > 3000: return header\n",
    "    \n",
    "    seqs = [r.query_sequence for r in reads]\n",
    "    alignments = [\n",
    "                {rpos: seq[spos] for (spos, rpos) in r.get_aligned_pairs() if spos != None}\n",
    "                for (r,seq) in zip(reads, seqs)\n",
    "    ]\n",
    "    reference = {\n",
    "        rpos: rbase.upper()\n",
    "        for r in reads\n",
    "        for (_, rpos, rbase) in r.get_aligned_pairs(with_seq=True) if rbase != None\n",
    "    }\n",
    "    refline = \"\"\n",
    "    seqline = [\"\", \"\"]\n",
    "    readline = [\"\", \"\"]\n",
    "    matchline = \"\"\n",
    "    \n",
    "    for pos in range(start, end):\n",
    "        base = [None, None]\n",
    "        for i in [0,1]:\n",
    "            if pos < s[i]:\n",
    "                c = \".\"\n",
    "            elif pos < reads[i].reference_start:\n",
    "                c = seqs[i][pos - s[i]].lower()\n",
    "            elif pos < reads[i].reference_end:\n",
    "                c = alignments[i].get(pos)\n",
    "                if c:\n",
    "                    base[i] = c\n",
    "                else:\n",
    "                    c = '-'\n",
    "            elif pos < e[i]:\n",
    "                c = seqs[i][pos - e[i]].lower()\n",
    "            else:\n",
    "                c = \".\"\n",
    "            seqline[i] += c\n",
    "            if pos >= s[i] and pos < e[i]:\n",
    "                if reads[i].is_reverse:\n",
    "                    readline[i] += \"<\"\n",
    "                else:\n",
    "                    readline[i] += \">\"\n",
    "            else:\n",
    "                readline[i] += \" \"\n",
    "        if all(base) and base[0] == base[1]:\n",
    "            matchline += \"|\"\n",
    "        else:\n",
    "            matchline += \" \"\n",
    "        refline += reference.get(pos, '?')\n",
    "    return \"\\n\".join([header, refline, readline[0], seqline[0], matchline, seqline[1], readline[1]])\n",
    "    \n",
    "boxprint(show_reads(r1, r2))"
   ]
  },
  {
   "cell_type": "code",
   "execution_count": 12,
   "metadata": {},
   "outputs": [
    {
     "data": {
      "text/html": [
       "<pre style=\"white-space: pre !important;\">|chr1:9879 (ref length: 299) E00426:63:HYK7TCCXY:4:2215:25682:67287\n",
       "<<<<<<<<<<<<<<<<<<<<<<<<<<<<<<<<<<<<<<<<<<<<<<<<<<<<<<<<<<<<<<<<<<<<<<<<<<<<<<<<<<<<<<<<<<<<<<<<<<<<<<<<<<<<<<<<<<<<<<<<<<<<<<<<<<<<<<<<<<<<<<<<<<<<<<<                                                                                                                                                    \n",
       "ctcctcctcaccctccccccaacccgacccccaaccctacccctacttttctaccgataccgcgcccacccacaactacacccctgctccctcgcccgcaccctcagctgtgcccaagcgctagCCCTAACCCTAACCCTAACCCTAACCC....................................................................................................................................................\n",
       "                                                                                                                                                    |||                                                                                                                                                    \n",
       "....................................................................................................................................................CCCTAACCCTAACCCTAACCCTAACCCTAACCCTAACCCTAAACCTAACCCCAACCCTAACCCTAACCCCAACCCTAACCCAACCCTAACCCTAACCCTAACCCTACCCCTAACCCTCACCCC-AACCCTAACCCTAACCCccaccctccc\n",
       "                                                                                                                                                    >>>>>>>>>>>>>>>>>>>>>>>>>>>>>>>>>>>>>>>>>>>>>>>>>>>>>>>>>>>>>>>>>>>>>>>>>>>>>>>>>>>>>>>>>>>>>>>>>>>>>>>>>>>>>>>>>>>>>>>>>>>>>>>>>>>>>>>>>>>>>>>>>>>>>>>\n",
       "\n",
       "\n",
       "|chr1:10052 (ref length: 281) E00426:63:HYK7TCCXY:1:1207:8988:12173\n",
       "<<<<<<<<<<<<<<<<<<<<<<<<<<<<<<<<<<<<<<<<<<<<<<<<<<<<<<<<<<<<<<<<<<<<<<<<<<<<<<<<<<<<<<<<<<<<<<<<<<<<<<<<<<<<<<<<<<<<<<<<<<<<<<<<<<<<<<<<<<<<<<<<<<<<<<<                                                                                                                                  \n",
       "accccccccccctccccctacccctccccctgcccccaccccccacccctacccccgacccccaacccgaccccgaccccgaacccgaacccgACCCCGAACCCGAACCCTACCCCTAACCCTAACCTAACCCTAACCCTAACCCTAACCC..................................................................................................................................\n",
       "                                                                                                                                |||||||||||||||||||||||                                                                                                                                  \n",
       "............................................................................................................................ccccAACCCTAACCCTAACCCTAACCCTAACCCTAACCCTAACCCTAACCCTAACCCCTAACCCTAACCCT--------AACCCTAACCCTAACCCGAACCCTAACCCTAACCCCAACCCGAACCCCAACCCCAACCCGAACCCCAACCCCAACCCC\n",
       "                                                                                                                            >>>>>>>>>>>>>>>>>>>>>>>>>>>>>>>>>>>>>>>>>>>>>>>>>>>>>>>>>>>>>>>>>>>>>>>>>>>>>>>>>>>>>>>>>>>>>>>>>>>>>>>>>>>>>>>>>>>>>>>>>>>>>>>>>>>>>>>>>>>>>>>>>>>>>>>>>>>>>\n",
       "\n",
       "\n",
       "|chr1:10034 (ref length: 270) E00426:63:HYK7TCCXY:4:1119:30817:64966\n",
       "                                                                                                                       >>>>>>>>>>>>>>>>>>>>>>>>>>>>>>>>>>>>>>>>>>>>>>>>>>>>>>>>>>>>>>>>>>>>>>>>>>>>>>>>>>>>>>>>>>>>>>>>>>>>>>>>>>>>>>>>>>>>>>>>>>>>>>>>>>>>>>>>>>>>>>>>>>>>>>>\n",
       ".......................................................................................................................CCCTAACCCTAACCCTAACCCTAACCTAACCCctgactctcatacacctctgacgctgccgacgcgtcagcaccggtgtagatctcggccgtagccgtatcataaaaaaaacacacgacccaaaacacaaccgcaacaacacaacacgacc\n",
       "                                                                                                                       ||||||||||||||||||||||||||||||||                                                                                                                       \n",
       "tctcaccctatgtacaatacacaccccatgaccctaaccctcaccctttctcaatcacaagcccgcatccgcgatcgataccagtgtctcgtggcctcggacatgtgtataagaaccagCCCTAACCCTAACCCTAACCCTAACCTAACCC.......................................................................................................................\n",
       "<<<<<<<<<<<<<<<<<<<<<<<<<<<<<<<<<<<<<<<<<<<<<<<<<<<<<<<<<<<<<<<<<<<<<<<<<<<<<<<<<<<<<<<<<<<<<<<<<<<<<<<<<<<<<<<<<<<<<<<<<<<<<<<<<<<<<<<<<<<<<<<<<<<<<<<                                                                                                                       \n",
       "\n",
       "\n",
       "|chr1:10034 (ref length: 270) E00426:63:HYK7TCCXY:4:1119:30817:64966\n",
       "<<<<<<<<<<<<<<<<<<<<<<<<<<<<<<<<<<<<<<<<<<<<<<<<<<<<<<<<<<<<<<<<<<<<<<<<<<<<<<<<<<<<<<<<<<<<<<<<<<<<<<<<<<<<<<<<<<<<<<<<<<<<<<<<<<<<<<<<<<<<<<<<<<<<<<<                                                                                                                       \n",
       "tctcaccctatgtacaatacacaccccatgaccctaaccctcaccctttctcaatcacaagcccgcatccgcgatcgataccagtgtctcgtggcctcggacatgtgtataagaaccagCCCTAACCCTAACCCTAACCCTAACCTAACCC.......................................................................................................................\n",
       "                                                                                                                       ||||||||||||||||||||||||||||||||                                                                                                                       \n",
       ".......................................................................................................................CCCTAACCCTAACCCTAACCCTAACCTAACCCctgactctcatacacctctgacgctgccgacgcgtcagcaccggtgtagatctcggccgtagccgtatcataaaaaaaacacacgacccaaaacacaaccgcaacaacacaacacgacc\n",
       "                                                                                                                       >>>>>>>>>>>>>>>>>>>>>>>>>>>>>>>>>>>>>>>>>>>>>>>>>>>>>>>>>>>>>>>>>>>>>>>>>>>>>>>>>>>>>>>>>>>>>>>>>>>>>>>>>>>>>>>>>>>>>>>>>>>>>>>>>>>>>>>>>>>>>>>>>>>>>>>\n",
       "\n",
       "\n",
       "|chr1:10052 (ref length: 281) E00426:63:HYK7TCCXY:1:1207:8988:12173\n",
       "                                                                                                                            >>>>>>>>>>>>>>>>>>>>>>>>>>>>>>>>>>>>>>>>>>>>>>>>>>>>>>>>>>>>>>>>>>>>>>>>>>>>>>>>>>>>>>>>>>>>>>>>>>>>>>>>>>>>>>>>>>>>>>>>>>>>>>>>>>>>>>>>>>>>>>>>>>>>>>>>>>>>>\n",
       "............................................................................................................................ccccAACCCTAACCCTAACCCTAACCCTAACCCTAACCCTAACCCTAACCCTAACCCCTAACCCTAACCCT--------AACCCTAACCCTAACCCGAACCCTAACCCTAACCCCAACCCGAACCCCAACCCCAACCCGAACCCCAACCCCAACCCC\n",
       "                                                                                                                                |||||||||||||||||||||||                                                                                                                                  \n",
       "accccccccccctccccctacccctccccctgcccccaccccccacccctacccccgacccccaacccgaccccgaccccgaacccgaacccgACCCCGAACCCGAACCCTACCCCTAACCCTAACCTAACCCTAACCCTAACCCTAACCC..................................................................................................................................\n",
       "<<<<<<<<<<<<<<<<<<<<<<<<<<<<<<<<<<<<<<<<<<<<<<<<<<<<<<<<<<<<<<<<<<<<<<<<<<<<<<<<<<<<<<<<<<<<<<<<<<<<<<<<<<<<<<<<<<<<<<<<<<<<<<<<<<<<<<<<<<<<<<<<<<<<<<<                                                                                                                                  \n",
       "\n",
       "\n",
       "|chr1:10220 (ref length: 297) E00426:63:HYK7TCCXY:1:2223:5578:13931\n",
       "<<<<<<<<<<<<<<<<<<<<<<<<<<<<<<<<<<<<<<<<<<<<<<<<<<<<<<<<<<<<<<<<<<<<<<<<<<<<<<<<<<<<<<<<<<<<<<<<<<<<<<<<<<<<<<<<<<<<<<<<<<<<<<<<<<<<<<<<<<<<<<<<<<<<<<<<                                                                                                                                                 \n",
       "ccccacaccccacccctcccccccaccccaccccccaccctcacccccccccccccccccacccccACCCCAACCCCCACCCCACCCCCACCCCCAACCCCAACCCT-ACCCCTAACCCTAACCCTAACCCTAACCCAACCCTAACCCTAAC.................................................................................................................................................\n",
       "                                                                                                                                                 |||||||                                                                                                                                                 \n",
       ".................................................................................................................................................CCCTAACCCTAACCCTAACCCTAACCCCTAACCCCTAACCCTAACCCTAACCCTAACCCCAACCCTAACCCTAA-CCCTACCCCTCACCCTAACCCCAACCCccaacccctaaccccacccccacccctaaccccacccctaccccaaaccc\n",
       "                                                                                                                                                 >>>>>>>>>>>>>>>>>>>>>>>>>>>>>>>>>>>>>>>>>>>>>>>>>>>>>>>>>>>>>>>>>>>>>>>>>>>>>>>>>>>>>>>>>>>>>>>>>>>>>>>>>>>>>>>>>>>>>>>>>>>>>>>>>>>>>>>>>>>>>>>>>>>>>>>>\n",
       "\n",
       "\n",
       "|chr1:10229 (ref length: 275) E00426:63:HYK7TCCXY:2:1206:31294:52256\n",
       "<<<<<<<<<<<<<<<<<<<<<<<<<<<<<<<<<<<<<<<<<<<<<<<<<<<<<<<<<<<<<<<<<<<<<<<<<<<<<<<<<<<<<<<<<<<<<<<<<<<<<<<<<<<<<<<<<<<<<<<<<<<<<<<<<<<<<<<<<<<<<<<<<<<<<<<                                                                                                                            \n",
       "tgccactcgcccactgccctgccccctacccccccccccctgcttcccccccccccctacccgccccccccccctcgcctccacctcagcccaagccccACCCCTACCCCTACCCCTACCCCTACCCTAACCCTAACCCTAACCCTAACCC............................................................................................................................\n",
       "                                                                                                                            |||||||||||||||||||||||||||                                                                                                                            \n",
       "............................................................................................................................CCCTAACCCTAACCCTAACCCTAACCCTAACCCTAACCCCTAACCCCTAACCCTAACCCTAACCCTAACCCTAACCCTAACCCCACCCCCACACCCTAACCCAACCCCTAACCCcaacccaaccccaaacccaacccccaaccccaacccc\n",
       "                                                                                                                            >>>>>>>>>>>>>>>>>>>>>>>>>>>>>>>>>>>>>>>>>>>>>>>>>>>>>>>>>>>>>>>>>>>>>>>>>>>>>>>>>>>>>>>>>>>>>>>>>>>>>>>>>>>>>>>>>>>>>>>>>>>>>>>>>>>>>>>>>>>>>>>>>>>>>>>\n",
       "\n",
       "\n",
       "|chr1:10229 (ref length: 275) E00426:63:HYK7TCCXY:2:1206:31294:52256\n",
       "                                                                                                                            >>>>>>>>>>>>>>>>>>>>>>>>>>>>>>>>>>>>>>>>>>>>>>>>>>>>>>>>>>>>>>>>>>>>>>>>>>>>>>>>>>>>>>>>>>>>>>>>>>>>>>>>>>>>>>>>>>>>>>>>>>>>>>>>>>>>>>>>>>>>>>>>>>>>>>>\n",
       "............................................................................................................................CCCTAACCCTAACCCTAACCCTAACCCTAACCCTAACCCCTAACCCCTAACCCTAACCCTAACCCTAACCCTAACCCTAACCCCACCCCCACACCCTAACCCAACCCCTAACCCcaacccaaccccaaacccaacccccaaccccaacccc\n",
       "                                                                                                                            |||||||||||||||||||||||||||                                                                                                                            \n",
       "tgccactcgcccactgccctgccccctacccccccccccctgcttcccccccccccctacccgccccccccccctcgcctccacctcagcccaagccccACCCCTACCCCTACCCCTACCCCTACCCTAACCCTAACCCTAACCCTAACCC............................................................................................................................\n",
       "<<<<<<<<<<<<<<<<<<<<<<<<<<<<<<<<<<<<<<<<<<<<<<<<<<<<<<<<<<<<<<<<<<<<<<<<<<<<<<<<<<<<<<<<<<<<<<<<<<<<<<<<<<<<<<<<<<<<<<<<<<<<<<<<<<<<<<<<<<<<<<<<<<<<<<<                                                                                                                            </pre>"
      ],
      "text/plain": [
       "<IPython.core.display.HTML object>"
      ]
     },
     "metadata": {},
     "output_type": "display_data"
    }
   ],
   "source": [
    "boxprint(\"\\n\\n\\n\".join(show_reads(r1, r2) for r1, r2 in reads))"
   ]
  },
  {
   "cell_type": "code",
   "execution_count": 39,
   "metadata": {},
   "outputs": [
    {
     "data": {
      "text/plain": [
       "False"
      ]
     },
     "execution_count": 39,
     "metadata": {},
     "output_type": "execute_result"
    }
   ],
   "source": [
    "r1.is_read1"
   ]
  },
  {
   "cell_type": "markdown",
   "metadata": {},
   "source": [
    "## Compare with a full bam file\n",
    "\n",
    "Shows the same kind of visualization for the bam file before filtering out only small fragments"
   ]
  },
  {
   "cell_type": "code",
   "execution_count": 40,
   "metadata": {},
   "outputs": [
    {
     "data": {
      "text/html": [
       "<pre style=\"white-space: pre !important;\">|chr1:9997 (ref length: 243) E00426:63:HYK7TCCXY:1:2214:20496:14881\n",
       "???TAACCCTAACCCTAACCCTAACCCTAACCCTAACCCTAACCCTAACCCTAACCCTAACCCTAACCCTAACCCTAACCCTAACCCTAACCCTAACCCTAACCCTAAC??????????????????????????????????????????CCTAACCCTAACCCTAACCCTAACCCTAACCTAACCCTAACCCTAACCCTAACCCTAACCCTAACCCTAACCCTAACCCTAACCCCTAACCC\n",
       ">>>>>>>>>>>>>>>>>>>>>>>>>>>>>>>>>>>>>>>>>>>>>>>>>>>>>>>>>>>>>>>>>>>>>>>>>>>>>>>>>>>>>>>>>>>>>>>>>>>>>>>>>>>>>>>>>>>>>>>>>>>>>>>>>>>>>>>>>>>>>>>>>>>>>>>                                                                                            \n",
       "cccTAACCCTAACCCTAACCCTAACCCTAACCCTAACCCTAACCCTAACCCTAAACCTGACCCTAACCCTAACCCTAACCCTAACCCTAACCCTAACCCTAACCCTAACaccaacccagaccgcaaccctctcccaaaccccagcacgaaa............................................................................................\n",
       "                                                                                                                                                                                                                                                   \n",
       "............................................................................................agcacccgaaccctcaacgaaggcatcaccctgacacgaatctgatcccaaggcctaaaCCTAACCCTACCCCAAACCCTAGCCCTAACCTAACCCTAACCCTAACCCTAACCCTAGCCCTAACCCTAACCCTAACCCTAA-CCCTAACCC\n",
       "                                                                                            <<<<<<<<<<<<<<<<<<<<<<<<<<<<<<<<<<<<<<<<<<<<<<<<<<<<<<<<<<<<<<<<<<<<<<<<<<<<<<<<<<<<<<<<<<<<<<<<<<<<<<<<<<<<<<<<<<<<<<<<<<<<<<<<<<<<<<<<<<<<<<<<<<<<<<<\n",
       "\n",
       "\n",
       "|chr1:9967 (ref length: 507) E00426:63:HYK7TCCXY:3:2123:9120:48793\n",
       "?????????????????????????????????TAACCCTAACCCTAACCCTAACCCTAACCCTAACCCTAACCCTAACCCTAACCCTAACCCTAACCCTAACCCTAACCCTAACCCTAACCCTAACCCTAACCCTAACCCAACCCTAACCC???????????????????????????????????????????????????????????????????????????????????????????????????????????????????????????????????????????????????????????????????????????????????????????????????????????ACCCTAACCCTTAACCCTAACCCTAACCCTAACCCTACCCCAACCCCAACCCCAACCCCAACCCCAACCCCAACCCCAACCCC?????????????????????????????????????????????????????????????????????\n",
       "<<<<<<<<<<<<<<<<<<<<<<<<<<<<<<<<<<<<<<<<<<<<<<<<<<<<<<<<<<<<<<<<<<<<<<<<<<<<<<<<<<<<<<<<<<<<<<<<<<<<<<<<<<<<<<<<<<<<<<<<<<<<<<<<<<<<<<<<<<<<<<<<<<<<<<<<                                                                                                                                                                                                                                                                                                                                                                   \n",
       "gcctccccccaaccctccccccaagccaaacccTAACCCTAGCCCTAACCCTCACCCTAACCCT-ACCCTAACCCTAACCCCAACCCTAACCCTAACCCTAACCCTAACCCTAACCCTAACCCTAACCCTAACCCTAACCCAACCCTAACCC...................................................................................................................................................................................................................................................................................................................................................................\n",
       "                                                                                                                                                                                                                                                                                                                                                                                                                                                                                                                           \n",
       "...................................................................................................................................................................................................................................................................................................................................................................ACCCTAACCC-TAACCCTAACCCTAACCCTAACCCTACCCCAACCCCAACCCCCAACCCAACCCCAACCCCACCCCCAACCCCccccccaaccccaccccccaccccaccccaccacccacccaccccccccaaccccccccaccccccccc\n",
       "                                                                                                                                                                                                                                                                                                                                                                   >>>>>>>>>>>>>>>>>>>>>>>>>>>>>>>>>>>>>>>>>>>>>>>>>>>>>>>>>>>>>>>>>>>>>>>>>>>>>>>>>>>>>>>>>>>>>>>>>>>>>>>>>>>>>>>>>>>>>>>>>>>>>>>>>>>>>>>>>>>>>>>>>>>>>>>>\n",
       "\n",
       "\n",
       "|chr1:9971 (ref length: 174) E00426:63:HYK7TCCXY:4:1106:15138:40126\n",
       "?????????????????????????????TAACCCTAACCCTAACCCTAACCCTAACCCTAACCCTAACCCTAACCCTAACCCTAACCCTAACCCTAACCCTAACCCTAACCCTAACCCTAACCCTAACCCTAACCCAACCCTAACCC??????????????????????????\n",
       "<<<<<<<<<<<<<<<<<<<<<<<<<<<<<<<<<<<<<<<<<<<<<<<<<<<<<<<<<<<<<<<<<<<<<<<<<<<<<<<<<<<<<<<<<<<<<<<<<<<<<<<<<<<<<<<<<<<<<<<<<<<<<<<<<<<<<<<<<<<<<<<<<<<<                          \n",
       "ggctcggagatgtgtataagagacagcccTAACCCTAACCCTAACCCTCACCCTAAACCTAACCCTAACCCTAACCCTAACCCTAACCCTAACCCTAACCCTAACCCTAACCCTAACCCTAACCCTAACCCTAACCCAACCCTAACCC..........................\n",
       "                                |||||||||||||||| ||||||| |||||||||||||||||||||||||||||||||||||||||||||||||||||||||||||||||||||||||||||||||||||||||||                          \n",
       "................................CCCTAACCCTAACCCTAACCCTAACCCTAACCCTAACCCTAACCCTAACCCTAACCCTAACCCTAACCCTAACCCTAACCCTAACCCTAACCCTAACCCTAACCCAACCCTAACCCctgtctcttatacacatctgacgctg\n",
       "                                >>>>>>>>>>>>>>>>>>>>>>>>>>>>>>>>>>>>>>>>>>>>>>>>>>>>>>>>>>>>>>>>>>>>>>>>>>>>>>>>>>>>>>>>>>>>>>>>>>>>>>>>>>>>>>>>>>>>>>>>>>>>>>>>>>>>>>>>>>>>>>\n",
       "\n",
       "\n",
       "|chr1:9992 (ref length: 161) E00426:63:HYK7TCCXY:4:2104:27691:69748\n",
       "????????TAACCCTAACCCTAACCCTAACCCTAACCCTAACCCTAACCCTAACCCTAACCCTAACCCTAACCCTAACCCTAACCCTAACCCTAACCCTAACCCTAACCCTAACCCAACCCTAACCCTAACCCTAACCCTAACCCTAACCCTAACCCC???\n",
       "<<<<<<<<<<<<<<<<<<<<<<<<<<<<<<<<<<<<<<<<<<<<<<<<<<<<<<<<<<<<<<<<<<<<<<<<<<<<<<<<<<<<<<<<<<<<<<<<<<<<<<<<<<<<<<<<<<<<<<<<<<<<<<<<<<<<<<<<<<<<<<<<<<<<<<<          \n",
       "cctcacccTAACCCTACCCCTCACCCCAACCCTAACCCCACCCCTAACCCTAACCCTAACCCTAACCCCAGCCCTAGCCCTAACCCTAACCCTACCCCAAACCCAACCCCTACCCCAACCCTAACCCTAACCCTAACCCTAACCCTAACCC..........\n",
       "           ||||| |||| |||| ||||||||||| | ||||||||||||||||||||||||||| | ||||| ||||||||||||||| | ||| ||||| | ||||| ||||||||||||||| |||||| ||||||||| |||||          \n",
       "...........CCCTAACCCTAACCCTAACCCTAACCCTAACCCTAACCCTAACCCTAACCCTAACCCTAACCCTAACCCTAACCCTAACCCCAACCCTAACCCTAACCCTAACCCAACCCTAACCCTGACCCTACCCCTAACCCGAACCCTAACCCCcac\n",
       "           >>>>>>>>>>>>>>>>>>>>>>>>>>>>>>>>>>>>>>>>>>>>>>>>>>>>>>>>>>>>>>>>>>>>>>>>>>>>>>>>>>>>>>>>>>>>>>>>>>>>>>>>>>>>>>>>>>>>>>>>>>>>>>>>>>>>>>>>>>>>>>>>>>>>>>\n",
       "\n",
       "\n",
       "|chr1:9933 (ref length: 238) E00426:63:HYK7TCCXY:1:2224:29650:20577\n",
       "?????????????????????????????????????????????????????????????????????ACCCTAACCCTAACCCTAACCCTAACCCTAACCCTAACCCTAACCCTAACCCTAACCCTAACCCTAACCCTAACCCTAACCCTAACCCTAACCCTAACCCTAACCCAACCC??????????????????????????????????????????????????????????\n",
       "<<<<<<<<<<<<<<<<<<<<<<<<<<<<<<<<<<<<<<<<<<<<<<<<<<<<<<<<<<<<<<<<<<<<<<<<<<<<<<<<<<<<<<<<<<<<<<<<<<<<<<<<<<<<<<<<<<<<<<<<<<<<<<<<<<<<<<<<<<<<<<<<<<<<<<<                                                                                       \n",
       "ccccccccatctgccgccaccaccccccccccctccctccccccctccctctcccccgccctcacccctACCCTGACCCCAACCCTAACCCTAACCCTAACCCTAACCCTAACCCTAACCCTAACCCTAACCCTAACCCTAACCCTAACCC.......................................................................................\n",
       "                                                                                       ||||||||||||||||||||||||||||||||||||||||||||||||| ||||||||||||||                                                                                       \n",
       ".......................................................................................ACCCTAACCCTAACCCTAACCCTAACCCTAACCCTAACCCTAACCCTAAACCTAACCCTAACCCTAACCCTAACCCTAACCCTAACCCAACCCcttaacacacatctacacccccaccccaccccataccccaccccataatccctcgcat\n",
       "                                                                                       >>>>>>>>>>>>>>>>>>>>>>>>>>>>>>>>>>>>>>>>>>>>>>>>>>>>>>>>>>>>>>>>>>>>>>>>>>>>>>>>>>>>>>>>>>>>>>>>>>>>>>>>>>>>>>>>>>>>>>>>>>>>>>>>>>>>>>>>>>>>>>>>>>>>>>>\n",
       "\n",
       "\n",
       "|chr1:9909 (ref length: 263) E00426:63:HYK7TCCXY:2:1201:27164:51605\n",
       "?????????????????????????????????????????????????????????????????????????????????????????????ACCCTAACCCTAACCCTAACCCTAACCCTAACCCTAACCCTAACCCTAACCCTAACCCTAACCCTAACCCTAACCCTAACCCTAACCCTAACCCTAACCCTAACCCAACCCTAACCCTAACCCTAACCCTAACCCTAACCCTAACCCCTAACCCTAACCCTAACCCTAAC\n",
       "<<<<<<<<<<<<<<<<<<<<<<<<<<<<<<<<<<<<<<<<<<<<<<<<<<<<<<<<<<<<<<<<<<<<<<<<<<<<<<<<<<<<<<<<<<<<<<<<<<<<<<<<<<<<<<<<<<<<<<<<<<<<<<<<<<<<<<<<<<<<<<<<<<<<<<<                                                                                                                \n",
       "ctcaccctatccctacccgtccacctacacctagccgtatccctcaccctacccctaaaactacccctcatccaaacactaacactacccctcACCCTAGCCCTAACCCTAACCCTAACCCTAACCCTAGCCCTAACCCTAACCCTAACCC................................................................................................................\n",
       "                                                                                                                ||||||||||||||||| |||||||||||||||||||||                                                                                                                \n",
       "................................................................................................................CCCTAACCCTAACCCTAACCCTAACCCTAACCCTAACCCTAACCCTAACCCTAACCCTAACCCTAACCCCAACCCTAACCCTAACCCAACCCTAACCCTAACCCTAACCCTAACCCTAACCCTAACCCC-AACCCTAACCCTTACCCTAAC\n",
       "                                                                                                                >>>>>>>>>>>>>>>>>>>>>>>>>>>>>>>>>>>>>>>>>>>>>>>>>>>>>>>>>>>>>>>>>>>>>>>>>>>>>>>>>>>>>>>>>>>>>>>>>>>>>>>>>>>>>>>>>>>>>>>>>>>>>>>>>>>>>>>>>>>>>>>>>>>>>>>\n",
       "\n",
       "\n",
       "|chr1:9998 (ref length: 155) E00426:63:HYK7TCCXY:1:2106:19278:3067\n",
       "?????CCCTAACCCTAACCCTAACCCTAACCCTAACCCTAACCCTAACCCTAACCCTAACCCTAACCCTAACCCTAACCCTAACCCTAACCCTAACCCTAACCCTAACCCAACCCTAACCCTAACCCTAACCCTAACCCTAACCCTAACCCC???\n",
       "     >>>>>>>>>>>>>>>>>>>>>>>>>>>>>>>>>>>>>>>>>>>>>>>>>>>>>>>>>>>>>>>>>>>>>>>>>>>>>>>>>>>>>>>>>>>>>>>>>>>>>>>>>>>>>>>>>>>>>>>>>>>>>>>>>>>>>>>>>>>>>>>>>>>>>>\n",
       ".....CCCTAACCCTAACCCTAACCCTAACCCTAACCCTAACCCTAACCCTAACCCCAACCCTAACCCCACACCTAACCCTGACCCCAACCCCGACCCCCACCCTAGCCCGACCCTAACCCTAACCCTAACCCTAACCCCAACCCTCACCCCaac\n",
       "                                                                                                           ||| |||||||||||||||||||||||||||| |||||| ||||    \n",
       "ctcccccccacccgcaccctacccccctgccgcacccttcaacgccccggccaccaccgccacctactccgctgcaccctcgtccgcaccctcagacgagcccaagcCCCAACCCTAACCCTAACCCTAACCCTAACCCTAACCCTAACCC....\n",
       "<<<<<<<<<<<<<<<<<<<<<<<<<<<<<<<<<<<<<<<<<<<<<<<<<<<<<<<<<<<<<<<<<<<<<<<<<<<<<<<<<<<<<<<<<<<<<<<<<<<<<<<<<<<<<<<<<<<<<<<<<<<<<<<<<<<<<<<<<<<<<<<<<<<<<<<    \n",
       "\n",
       "\n",
       "|chr1:9993 (ref length: 160) E00426:63:HYK7TCCXY:2:1222:3792:49935\n",
       "??????????CCCTAACCCTAACCCTAACCCTAACCCTAACCCTAACCCTAACCCTAACCCTAACCCTAACCCTAACCCTAACCCTAACCCTAACCCTAACCCTAACCCTAACCCAACCCTAACCCTAACCCTAACCCTAACCCTAACCCTAACCC????\n",
       "          >>>>>>>>>>>>>>>>>>>>>>>>>>>>>>>>>>>>>>>>>>>>>>>>>>>>>>>>>>>>>>>>>>>>>>>>>>>>>>>>>>>>>>>>>>>>>>>>>>>>>>>>>>>>>>>>>>>>>>>>>>>>>>>>>>>>>>>>>>>>>>>>>>>>>>\n",
       "..........CCCTAACCCTAACCCTAACCCTAACCCTAACCCTAACCCTAACCCTAACCCTAACCCCCACCCTAACCCTAACCCCAACCCCAACCCTAACCCTAACCCTAACCCAACCCTAACCCTAACCCTAACCCTAACCCTACCCCTAACCCtcac\n",
       "                                                                                             |||||||||||| |||||||||||||||||||||||||||||||||||||||| |||          \n",
       "ctagcccgcacccgcgccctacccctccccctccccctacccctatccctctaccgcacccacccccaactccaccgccgctccctcgccctcACCCTAACCCTAGCCCTAACCCAACCCTAACCCTAACCCTAACCCTAACCCTAACCC..........\n",
       "<<<<<<<<<<<<<<<<<<<<<<<<<<<<<<<<<<<<<<<<<<<<<<<<<<<<<<<<<<<<<<<<<<<<<<<<<<<<<<<<<<<<<<<<<<<<<<<<<<<<<<<<<<<<<<<<<<<<<<<<<<<<<<<<<<<<<<<<<<<<<<<<<<<<<<          </pre>"
      ],
      "text/plain": [
       "<IPython.core.display.HTML object>"
      ]
     },
     "metadata": {},
     "output_type": "display_data"
    }
   ],
   "source": [
    "bam2 = pysam.AlignmentFile(\"../../20_piccard/Nextera-100ng-1.bam\", \"rb\")\n",
    "skip_reads(bam2, 1000000)\n",
    "reads2 = get_read_pairs(bam2, 8)\n",
    "boxprint(\"\\n\\n\\n\".join(show_reads(r1, r2) for r1, r2 in reads2))"
   ]
  },
  {
   "cell_type": "markdown",
   "metadata": {},
   "source": [
    "## Soft clipping stats\n",
    "Reads files, then allpy"
   ]
  },
  {
   "cell_type": "code",
   "execution_count": 41,
   "metadata": {},
   "outputs": [],
   "source": [
    "reads_short = get_read_pairs(bam, 1000)"
   ]
  },
  {
   "cell_type": "code",
   "execution_count": 56,
   "metadata": {},
   "outputs": [],
   "source": [
    "reads_all = get_read_pairs(bam2, 1000)"
   ]
  },
  {
   "cell_type": "code",
   "execution_count": 68,
   "metadata": {},
   "outputs": [],
   "source": [
    "def get_clipping_dataframe(reads):\n",
    "    sclip = []\n",
    "    for i, r1r2 in enumerate(reads):\n",
    "        for j, r in enumerate(r1r2):\n",
    "            clip_start, clip_end = 0, 0\n",
    "            if r.cigartuples[0][0] == 4:\n",
    "                clip_start = r.cigartuples[0][1]\n",
    "            if r.cigartuples[-1][0] == 4:\n",
    "                clip_end = r.cigartuples[-1][1]\n",
    "            sclip.append({\n",
    "                'pair': i,\n",
    "                'is_r1': j == 0,\n",
    "                'is_reverse': r.is_reverse,\n",
    "                'clip_start': clip_start,\n",
    "                'clip_end': clip_end,\n",
    "                'is_clipped_start': clip_start != 0,\n",
    "                'is_clipped_end': clip_end != 0\n",
    "            })\n",
    "    return pd.DataFrame(sclip)"
   ]
  },
  {
   "cell_type": "code",
   "execution_count": 69,
   "metadata": {},
   "outputs": [
    {
     "data": {
      "text/html": [
       "<div>\n",
       "<style scoped>\n",
       "    .dataframe tbody tr th:only-of-type {\n",
       "        vertical-align: middle;\n",
       "    }\n",
       "\n",
       "    .dataframe tbody tr th {\n",
       "        vertical-align: top;\n",
       "    }\n",
       "\n",
       "    .dataframe thead th {\n",
       "        text-align: right;\n",
       "    }\n",
       "</style>\n",
       "<table border=\"1\" class=\"dataframe\">\n",
       "  <thead>\n",
       "    <tr style=\"text-align: right;\">\n",
       "      <th></th>\n",
       "      <th>clip_end</th>\n",
       "      <th>clip_start</th>\n",
       "      <th>is_clipped_end</th>\n",
       "      <th>is_clipped_start</th>\n",
       "      <th>is_r1</th>\n",
       "      <th>is_reverse</th>\n",
       "      <th>pair</th>\n",
       "      <th>file</th>\n",
       "    </tr>\n",
       "  </thead>\n",
       "  <tbody>\n",
       "    <tr>\n",
       "      <th>0</th>\n",
       "      <td>0</td>\n",
       "      <td>124</td>\n",
       "      <td>False</td>\n",
       "      <td>True</td>\n",
       "      <td>True</td>\n",
       "      <td>True</td>\n",
       "      <td>0</td>\n",
       "      <td>short</td>\n",
       "    </tr>\n",
       "    <tr>\n",
       "      <th>1</th>\n",
       "      <td>10</td>\n",
       "      <td>0</td>\n",
       "      <td>True</td>\n",
       "      <td>False</td>\n",
       "      <td>False</td>\n",
       "      <td>False</td>\n",
       "      <td>0</td>\n",
       "      <td>short</td>\n",
       "    </tr>\n",
       "  </tbody>\n",
       "</table>\n",
       "</div>"
      ],
      "text/plain": [
       "   clip_end  clip_start  is_clipped_end  is_clipped_start  is_r1  is_reverse  \\\n",
       "0         0         124           False              True   True        True   \n",
       "1        10           0            True             False  False       False   \n",
       "\n",
       "   pair   file  \n",
       "0     0  short  \n",
       "1     0  short  "
      ]
     },
     "execution_count": 69,
     "metadata": {},
     "output_type": "execute_result"
    }
   ],
   "source": [
    "df_short = get_clipping_dataframe(reads_short)\n",
    "df_short['file'] = 'short'\n",
    "df_all = get_clipping_dataframe(reads_all)\n",
    "df_all['file'] = 'all'\n",
    "df = pd.concat([df_short, df_all])\n",
    "df.head(n=2)"
   ]
  },
  {
   "cell_type": "markdown",
   "metadata": {},
   "source": [
    "### Intra-read clipping\n",
    "Notice that many reads have clipping in both ends."
   ]
  },
  {
   "cell_type": "code",
   "execution_count": 71,
   "metadata": {},
   "outputs": [
    {
     "data": {
      "text/plain": [
       "<seaborn.axisgrid.FacetGrid at 0x7f8e72274c88>"
      ]
     },
     "execution_count": 71,
     "metadata": {},
     "output_type": "execute_result"
    },
    {
     "data": {
      "image/png": "[encoded data removed]",
      "text/plain": [
       "<Figure size 576x216 with 2 Axes>"
      ]
     },
     "metadata": {
      "needs_background": "light"
     },
     "output_type": "display_data"
    },
    {
     "data": {
      "image/png": "[encoded data removed]",
      "text/plain": [
       "<Figure size 360x360 with 1 Axes>"
      ]
     },
     "metadata": {
      "needs_background": "light"
     },
     "output_type": "display_data"
    }
   ],
   "source": [
    "fig, axs = plt.subplots(1, 2, figsize=(8, 3))\n",
    "sns.scatterplot(ax=axs[0], data=df_short, x='clip_start', y='clip_end')\n",
    "\n",
    "df_heatmap = df_short.pivot_table(values='score',index='Province',columns='Product type',aggfunc=np.mean)\n",
    "sns.heatmap(ax=axs[1], df_heatmap,annot=True)\n",
    "\n",
    "sns.catplot(ax=axs[1], data=df_shortx='is_clipped_start', y='is_clipped_end')\n",
    "fig.show()"
   ]
  },
  {
   "cell_type": "code",
   "execution_count": 74,
   "metadata": {},
   "outputs": [
    {
     "ename": "TypeError",
     "evalue": "ufunc 'isnan' not supported for the input types, and the inputs could not be safely coerced to any supported types according to the casting rule ''safe''",
     "output_type": "error",
     "traceback": [
      "\u001b[0;31m---------------------------------------------------------------------------\u001b[0m",
      "\u001b[0;31mTypeError\u001b[0m                                 Traceback (most recent call last)",
      "\u001b[0;32m<ipython-input-74-4e943477dd32>\u001b[0m in \u001b[0;36m<module>\u001b[0;34m\u001b[0m\n\u001b[0;32m----> 1\u001b[0;31m \u001b[0msns\u001b[0m\u001b[0;34m.\u001b[0m\u001b[0mheatmap\u001b[0m\u001b[0;34m(\u001b[0m\u001b[0mdf_short\u001b[0m\u001b[0;34m)\u001b[0m\u001b[0;34m\u001b[0m\u001b[0m\n\u001b[0m",
      "\u001b[0;32m/ypool/applications/anaconda3/lib/python3.7/site-packages/seaborn/matrix.py\u001b[0m in \u001b[0;36mheatmap\u001b[0;34m(data, vmin, vmax, cmap, center, robust, annot, fmt, annot_kws, linewidths, linecolor, cbar, cbar_kws, cbar_ax, square, xticklabels, yticklabels, mask, ax, **kwargs)\u001b[0m\n\u001b[1;32m    515\u001b[0m     plotter = _HeatMapper(data, vmin, vmax, cmap, center, robust, annot, fmt,\n\u001b[1;32m    516\u001b[0m                           \u001b[0mannot_kws\u001b[0m\u001b[0;34m,\u001b[0m \u001b[0mcbar\u001b[0m\u001b[0;34m,\u001b[0m \u001b[0mcbar_kws\u001b[0m\u001b[0;34m,\u001b[0m \u001b[0mxticklabels\u001b[0m\u001b[0;34m,\u001b[0m\u001b[0;34m\u001b[0m\u001b[0m\n\u001b[0;32m--> 517\u001b[0;31m                           yticklabels, mask)\n\u001b[0m\u001b[1;32m    518\u001b[0m \u001b[0;34m\u001b[0m\u001b[0m\n\u001b[1;32m    519\u001b[0m     \u001b[0;31m# Add the pcolormesh kwargs here\u001b[0m\u001b[0;34m\u001b[0m\u001b[0;34m\u001b[0m\u001b[0m\n",
      "\u001b[0;32m/ypool/applications/anaconda3/lib/python3.7/site-packages/seaborn/matrix.py\u001b[0m in \u001b[0;36m__init__\u001b[0;34m(self, data, vmin, vmax, cmap, center, robust, annot, fmt, annot_kws, cbar, cbar_kws, xticklabels, yticklabels, mask)\u001b[0m\n\u001b[1;32m    165\u001b[0m         \u001b[0;31m# Determine good default values for the colormapping\u001b[0m\u001b[0;34m\u001b[0m\u001b[0;34m\u001b[0m\u001b[0m\n\u001b[1;32m    166\u001b[0m         self._determine_cmap_params(plot_data, vmin, vmax,\n\u001b[0;32m--> 167\u001b[0;31m                                     cmap, center, robust)\n\u001b[0m\u001b[1;32m    168\u001b[0m \u001b[0;34m\u001b[0m\u001b[0m\n\u001b[1;32m    169\u001b[0m         \u001b[0;31m# Sort out the annotations\u001b[0m\u001b[0;34m\u001b[0m\u001b[0;34m\u001b[0m\u001b[0m\n",
      "\u001b[0;32m/ypool/applications/anaconda3/lib/python3.7/site-packages/seaborn/matrix.py\u001b[0m in \u001b[0;36m_determine_cmap_params\u001b[0;34m(self, plot_data, vmin, vmax, cmap, center, robust)\u001b[0m\n\u001b[1;32m    202\u001b[0m                                cmap, center, robust):\n\u001b[1;32m    203\u001b[0m         \u001b[0;34m\"\"\"Use some heuristics to set good defaults for colorbar and range.\"\"\"\u001b[0m\u001b[0;34m\u001b[0m\u001b[0m\n\u001b[0;32m--> 204\u001b[0;31m         \u001b[0mcalc_data\u001b[0m \u001b[0;34m=\u001b[0m \u001b[0mplot_data\u001b[0m\u001b[0;34m.\u001b[0m\u001b[0mdata\u001b[0m\u001b[0;34m[\u001b[0m\u001b[0;34m~\u001b[0m\u001b[0mnp\u001b[0m\u001b[0;34m.\u001b[0m\u001b[0misnan\u001b[0m\u001b[0;34m(\u001b[0m\u001b[0mplot_data\u001b[0m\u001b[0;34m.\u001b[0m\u001b[0mdata\u001b[0m\u001b[0;34m)\u001b[0m\u001b[0;34m]\u001b[0m\u001b[0;34m\u001b[0m\u001b[0m\n\u001b[0m\u001b[1;32m    205\u001b[0m         \u001b[0;32mif\u001b[0m \u001b[0mvmin\u001b[0m \u001b[0;32mis\u001b[0m \u001b[0;32mNone\u001b[0m\u001b[0;34m:\u001b[0m\u001b[0;34m\u001b[0m\u001b[0m\n\u001b[1;32m    206\u001b[0m             \u001b[0mvmin\u001b[0m \u001b[0;34m=\u001b[0m \u001b[0mnp\u001b[0m\u001b[0;34m.\u001b[0m\u001b[0mpercentile\u001b[0m\u001b[0;34m(\u001b[0m\u001b[0mcalc_data\u001b[0m\u001b[0;34m,\u001b[0m \u001b[0;36m2\u001b[0m\u001b[0;34m)\u001b[0m \u001b[0;32mif\u001b[0m \u001b[0mrobust\u001b[0m \u001b[0;32melse\u001b[0m \u001b[0mcalc_data\u001b[0m\u001b[0;34m.\u001b[0m\u001b[0mmin\u001b[0m\u001b[0;34m(\u001b[0m\u001b[0;34m)\u001b[0m\u001b[0;34m\u001b[0m\u001b[0m\n",
      "\u001b[0;31mTypeError\u001b[0m: ufunc 'isnan' not supported for the input types, and the inputs could not be safely coerced to any supported types according to the casting rule ''safe''"
     ]
    }
   ],
   "source": []
  },
  {
   "cell_type": "markdown",
   "metadata": {},
   "source": [
    "Clipping correlation with read1 and read2, and with is_reversed."
   ]
  },
  {
   "cell_type": "code",
   "execution_count": null,
   "metadata": {},
   "outputs": [],
   "source": []
  }
 ],
 "metadata": {
  "kernelspec": {
   "display_name": "Python 3",
   "language": "python",
   "name": "python3"
  },
  "language_info": {
   "codemirror_mode": {
    "name": "ipython",
    "version": 3
   },
   "file_extension": ".py",
   "mimetype": "text/x-python",
   "name": "python",
   "nbconvert_exporter": "python",
   "pygments_lexer": "ipython3",
   "version": "3.7.0"
  }
 },
 "nbformat": 4,
 "nbformat_minor": 2
}
