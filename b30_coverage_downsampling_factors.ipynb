{
 "cells": [
  {
   "cell_type": "markdown",
   "metadata": {},
   "source": [
    "# Downsampling based on coverage\n",
    "\n",
    "Secondary pipeline:\n",
    "\n",
    "To downsample based on mean coverage instead of the number of reads.\n",
    "\n",
    "Thi workflow forks from the primary analysis after MarkDuplicates has been run on the aligned reads.\n",
    "\n",
    "The \"primary\" workflow downsamples all the datasets (i.e. (kit,conc,replicate) units) to 90 million reads, so all datasets are compared based on the same number of sequencing reads.\n",
    "\n",
    "This analysis instead takes the coverage values computed by CollectWgsMetrics after MarkDuplicates (in 20_piccard dir), and computes factors to downsample the reads to the same effective coverage.\n",
    "\n",
    "## Notebook detail\n",
    "\n",
    "This notebook was based on the code in `subprojects/Undownsampled.ipynb`.\n"
   ]
  },
  {
   "cell_type": "code",
   "execution_count": 1,
   "metadata": {},
   "outputs": [
    {
     "name": "stdout",
     "output_type": "stream",
     "text": [
      "Number of entries:  48\n"
     ]
    }
   ],
   "source": [
    "import pandas as pd\n",
    "import seaborn as sns\n",
    "import matplotlib.pyplot as plt\n",
    "import numpy as np\n",
    "from glob import glob\n",
    "import re\n",
    "import os\n",
    "%matplotlib inline\n",
    "\n",
    "def load_picard(path):\n",
    "    with open(path) as f:\n",
    "        mode = None\n",
    "        metrics_header = None\n",
    "        metrics_data = {}\n",
    "        histogram_series = []\n",
    "        histogram_data = []\n",
    "        for l in f:\n",
    "            line = l.rstrip(\"\\r\\n\")\n",
    "            if mode == 'metrics':\n",
    "                metrics_header = line.split()\n",
    "                mode = 'metrics2'\n",
    "            elif mode == 'metrics2':\n",
    "                if line != \"\":\n",
    "                    metrics_data = dict(zip(metrics_header, line.split()))\n",
    "                else:\n",
    "                    mode = None\n",
    "            elif mode == 'histogram':\n",
    "                histogram_series = line.split()\n",
    "                histogram_data = [list() for _ in histogram_series]\n",
    "                mode = 'histogram2'\n",
    "            elif mode == 'histogram2':\n",
    "                if line != \"\":\n",
    "                    for i, value in enumerate(line.split()):\n",
    "                        histogram_data[i].append(value)\n",
    "                else:\n",
    "                    mode = None\n",
    "            elif line.startswith(\"## METRICS CLASS\"):\n",
    "                mode = 'metrics'\n",
    "            elif line.startswith(\"## HISTOGRAM\"):\n",
    "                mode = 'histogram'\n",
    "        if histogram_series:\n",
    "            #metrics_data['histograms'] = dict(zip(histogram_series, histogram_data))\n",
    "            for name, data in zip(histogram_series, histogram_data):\n",
    "                metrics_data[name] = [float(x) for x in data]\n",
    "    return metrics_data\n",
    "\n",
    "# Load the samples\n",
    "samples = []\n",
    "for bam in glob(\"20_piccard/*.AlignmentSummaryMetrics.txt\"):\n",
    "    basepath = re.sub(r\"\\.AlignmentSummaryMetrics\\.txt$\", \"\", bam)\n",
    "    data = {'Path': basepath + '.bam'}\n",
    "    try:\n",
    "        # Only reason to load MarkDuplicatesMetrix is to get the LIBRARY, used for visualization\n",
    "        for metrics in ['.MarkDuplicatesMetrics', '.WgsMetrics']:\n",
    "            new_data = load_picard(\"{}{}.txt\".format(basepath, metrics))\n",
    "            if any(k in data for k in new_data):\n",
    "                print(\"Duplicate key {} found in {}\".format(k, metrics))\n",
    "            data.update(new_data)\n",
    "    except FileNotFoundError as e:\n",
    "        print(\"File {} not found, skipping this sample.\".format(e.filename))\n",
    "        continue\n",
    "    samples.append(data)\n",
    "\n",
    "df = pd.DataFrame(samples).reindex().apply(pd.to_numeric, axis=0, errors='ignore')\n",
    "df['Kit'] = pd.Categorical(df.LIBRARY.str.split(\"-\").str.get(0))\n",
    "df['Conc'] = pd.Categorical(df.LIBRARY.str.split(\"-\").str.get(1), categories=['10ng', '100ng'])\n",
    "df.Kit = df.Kit.cat.set_categories(['Kapa', 'NEB', 'Nextera', 'Quanta', 'Swift2S', 'Swiftlong'])\n",
    "\n",
    "print(\"Number of entries: \", len(df))"
   ]
  },
  {
   "cell_type": "code",
   "execution_count": 2,
   "metadata": {},
   "outputs": [],
   "source": [
    "df_nolong = df[df.Kit != \"Swiftlong\"].copy()\n",
    "df_nolong.Kit = df_nolong.Kit.cat.remove_unused_categories()"
   ]
  },
  {
   "cell_type": "code",
   "execution_count": 3,
   "metadata": {},
   "outputs": [
    {
     "data": {
      "image/png": "[encoded data removed]",
      "text/plain": [
       "<Figure size 432x288 with 1 Axes>"
      ]
     },
     "metadata": {
      "needs_background": "light"
     },
     "output_type": "display_data"
    },
    {
     "data": {
      "image/png": "[encoded data removed]",
      "text/plain": [
       "<Figure size 432x288 with 1 Axes>"
      ]
     },
     "metadata": {
      "needs_background": "light"
     },
     "output_type": "display_data"
    }
   ],
   "source": [
    "plt.figure()\n",
    "sns.boxplot(data=df_nolong, x='Kit', y='MEAN_COVERAGE', hue='Conc')\n",
    "plt.ylabel(\"Mean coverage\")\n",
    "plt.xlabel(\"\")\n",
    "plt.ylim(0, 20)\n",
    "plt.savefig('plots-main/full-mean-coverage.pdf')\n",
    "plt.figure()\n",
    "sns.boxplot(data=df, x='Kit', y='MEAN_COVERAGE', hue='Conc')\n",
    "plt.ylabel(\"Mean coverage\")\n",
    "plt.xlabel(\"\")\n",
    "plt.ylim(0, 20)\n",
    "plt.savefig('plots-main-withLong/full-mean-coverage.pdf')"
   ]
  },
  {
   "cell_type": "code",
   "execution_count": 4,
   "metadata": {},
   "outputs": [
    {
     "name": "stdout",
     "output_type": "stream",
     "text": [
      "Minimum coverage without Swiftlong: 5.410024\n",
      "Minimum coverage with Swiftlong:    4.379659999999999\n"
     ]
    }
   ],
   "source": [
    "print(\"Minimum coverage without Swiftlong:\", df_nolong.MEAN_COVERAGE.min())\n",
    "print(\"Minimum coverage with Swiftlong:   \", df.MEAN_COVERAGE.min())"
   ]
  },
  {
   "cell_type": "code",
   "execution_count": 5,
   "metadata": {},
   "outputs": [],
   "source": [
    "target = 5.4\n",
    "df['Scaling'] = (target / df.MEAN_COVERAGE).clip(upper=1.0)"
   ]
  },
  {
   "cell_type": "code",
   "execution_count": 6,
   "metadata": {},
   "outputs": [
    {
     "data": {
      "text/html": [
       "<div>\n",
       "<style scoped>\n",
       "    .dataframe tbody tr th:only-of-type {\n",
       "        vertical-align: middle;\n",
       "    }\n",
       "\n",
       "    .dataframe tbody tr th {\n",
       "        vertical-align: top;\n",
       "    }\n",
       "\n",
       "    .dataframe thead th {\n",
       "        text-align: right;\n",
       "    }\n",
       "</style>\n",
       "<table border=\"1\" class=\"dataframe\">\n",
       "  <thead>\n",
       "    <tr style=\"text-align: right;\">\n",
       "      <th></th>\n",
       "      <th>LIBRARY</th>\n",
       "      <th>Path</th>\n",
       "      <th>Scaling</th>\n",
       "    </tr>\n",
       "  </thead>\n",
       "  <tbody>\n",
       "    <tr>\n",
       "      <th>0</th>\n",
       "      <td>Swift2S-10ng-3</td>\n",
       "      <td>20_piccard/Swift2S-10ng-3.bam</td>\n",
       "      <td>0.341253</td>\n",
       "    </tr>\n",
       "    <tr>\n",
       "      <th>1</th>\n",
       "      <td>Swift2S-10ng-1</td>\n",
       "      <td>20_piccard/Swift2S-10ng-1.bam</td>\n",
       "      <td>0.427270</td>\n",
       "    </tr>\n",
       "    <tr>\n",
       "      <th>2</th>\n",
       "      <td>Swiftlong-100ng-2</td>\n",
       "      <td>20_piccard/Swiftlong-100ng-2.bam</td>\n",
       "      <td>1.000000</td>\n",
       "    </tr>\n",
       "    <tr>\n",
       "      <th>3</th>\n",
       "      <td>Nextera-10ng-1</td>\n",
       "      <td>20_piccard/Nextera-10ng-1.bam</td>\n",
       "      <td>0.325954</td>\n",
       "    </tr>\n",
       "    <tr>\n",
       "      <th>4</th>\n",
       "      <td>Swiftlong-100ng-4</td>\n",
       "      <td>20_piccard/Swiftlong-100ng-4.bam</td>\n",
       "      <td>0.906910</td>\n",
       "    </tr>\n",
       "    <tr>\n",
       "      <th>5</th>\n",
       "      <td>Nextera-10ng-3</td>\n",
       "      <td>20_piccard/Nextera-10ng-3.bam</td>\n",
       "      <td>0.428804</td>\n",
       "    </tr>\n",
       "    <tr>\n",
       "      <th>6</th>\n",
       "      <td>Kapa-10ng-4</td>\n",
       "      <td>20_piccard/Kapa-10ng-4.bam</td>\n",
       "      <td>0.390749</td>\n",
       "    </tr>\n",
       "    <tr>\n",
       "      <th>7</th>\n",
       "      <td>Kapa-10ng-2</td>\n",
       "      <td>20_piccard/Kapa-10ng-2.bam</td>\n",
       "      <td>0.333161</td>\n",
       "    </tr>\n",
       "    <tr>\n",
       "      <th>8</th>\n",
       "      <td>Nextera-100ng-4</td>\n",
       "      <td>20_piccard/Nextera-100ng-4.bam</td>\n",
       "      <td>0.398964</td>\n",
       "    </tr>\n",
       "    <tr>\n",
       "      <th>9</th>\n",
       "      <td>Quanta-100ng-2</td>\n",
       "      <td>20_piccard/Quanta-100ng-2.bam</td>\n",
       "      <td>0.973598</td>\n",
       "    </tr>\n",
       "    <tr>\n",
       "      <th>10</th>\n",
       "      <td>Nextera-100ng-2</td>\n",
       "      <td>20_piccard/Nextera-100ng-2.bam</td>\n",
       "      <td>0.406613</td>\n",
       "    </tr>\n",
       "    <tr>\n",
       "      <th>11</th>\n",
       "      <td>Quanta-100ng-4</td>\n",
       "      <td>20_piccard/Quanta-100ng-4.bam</td>\n",
       "      <td>0.998147</td>\n",
       "    </tr>\n",
       "    <tr>\n",
       "      <th>12</th>\n",
       "      <td>NEB-10ng-2</td>\n",
       "      <td>20_piccard/NEB-10ng-2.bam</td>\n",
       "      <td>0.551424</td>\n",
       "    </tr>\n",
       "    <tr>\n",
       "      <th>13</th>\n",
       "      <td>NEB-10ng-4</td>\n",
       "      <td>20_piccard/NEB-10ng-4.bam</td>\n",
       "      <td>0.532865</td>\n",
       "    </tr>\n",
       "    <tr>\n",
       "      <th>14</th>\n",
       "      <td>Swiftlong-10ng-1</td>\n",
       "      <td>20_piccard/Swiftlong-10ng-1.bam</td>\n",
       "      <td>0.386397</td>\n",
       "    </tr>\n",
       "    <tr>\n",
       "      <th>15</th>\n",
       "      <td>Swiftlong-10ng-3</td>\n",
       "      <td>20_piccard/Swiftlong-10ng-3.bam</td>\n",
       "      <td>0.428776</td>\n",
       "    </tr>\n",
       "    <tr>\n",
       "      <th>16</th>\n",
       "      <td>Kapa-100ng-3</td>\n",
       "      <td>20_piccard/Kapa-100ng-3.bam</td>\n",
       "      <td>0.899236</td>\n",
       "    </tr>\n",
       "    <tr>\n",
       "      <th>17</th>\n",
       "      <td>Swift2S-100ng-1</td>\n",
       "      <td>20_piccard/Swift2S-100ng-1.bam</td>\n",
       "      <td>0.450770</td>\n",
       "    </tr>\n",
       "    <tr>\n",
       "      <th>18</th>\n",
       "      <td>Kapa-100ng-1</td>\n",
       "      <td>20_piccard/Kapa-100ng-1.bam</td>\n",
       "      <td>0.788942</td>\n",
       "    </tr>\n",
       "    <tr>\n",
       "      <th>19</th>\n",
       "      <td>Swift2S-100ng-3</td>\n",
       "      <td>20_piccard/Swift2S-100ng-3.bam</td>\n",
       "      <td>0.591228</td>\n",
       "    </tr>\n",
       "    <tr>\n",
       "      <th>20</th>\n",
       "      <td>NEB-100ng-2</td>\n",
       "      <td>20_piccard/NEB-100ng-2.bam</td>\n",
       "      <td>0.543451</td>\n",
       "    </tr>\n",
       "    <tr>\n",
       "      <th>21</th>\n",
       "      <td>Quanta-10ng-1</td>\n",
       "      <td>20_piccard/Quanta-10ng-1.bam</td>\n",
       "      <td>0.360121</td>\n",
       "    </tr>\n",
       "    <tr>\n",
       "      <th>22</th>\n",
       "      <td>Quanta-10ng-3</td>\n",
       "      <td>20_piccard/Quanta-10ng-3.bam</td>\n",
       "      <td>0.379935</td>\n",
       "    </tr>\n",
       "    <tr>\n",
       "      <th>23</th>\n",
       "      <td>NEB-100ng-4</td>\n",
       "      <td>20_piccard/NEB-100ng-4.bam</td>\n",
       "      <td>0.605706</td>\n",
       "    </tr>\n",
       "    <tr>\n",
       "      <th>24</th>\n",
       "      <td>Nextera-100ng-1</td>\n",
       "      <td>20_piccard/Nextera-100ng-1.bam</td>\n",
       "      <td>0.364402</td>\n",
       "    </tr>\n",
       "    <tr>\n",
       "      <th>25</th>\n",
       "      <td>Nextera-100ng-3</td>\n",
       "      <td>20_piccard/Nextera-100ng-3.bam</td>\n",
       "      <td>0.476499</td>\n",
       "    </tr>\n",
       "    <tr>\n",
       "      <th>26</th>\n",
       "      <td>Quanta-100ng-3</td>\n",
       "      <td>20_piccard/Quanta-100ng-3.bam</td>\n",
       "      <td>0.646665</td>\n",
       "    </tr>\n",
       "    <tr>\n",
       "      <th>27</th>\n",
       "      <td>Quanta-100ng-1</td>\n",
       "      <td>20_piccard/Quanta-100ng-1.bam</td>\n",
       "      <td>0.707791</td>\n",
       "    </tr>\n",
       "    <tr>\n",
       "      <th>28</th>\n",
       "      <td>NEB-10ng-1</td>\n",
       "      <td>20_piccard/NEB-10ng-1.bam</td>\n",
       "      <td>0.560621</td>\n",
       "    </tr>\n",
       "    <tr>\n",
       "      <th>29</th>\n",
       "      <td>NEB-10ng-3</td>\n",
       "      <td>20_piccard/NEB-10ng-3.bam</td>\n",
       "      <td>0.458266</td>\n",
       "    </tr>\n",
       "    <tr>\n",
       "      <th>30</th>\n",
       "      <td>Swiftlong-10ng-4</td>\n",
       "      <td>20_piccard/Swiftlong-10ng-4.bam</td>\n",
       "      <td>0.360115</td>\n",
       "    </tr>\n",
       "    <tr>\n",
       "      <th>31</th>\n",
       "      <td>Kapa-100ng-2</td>\n",
       "      <td>20_piccard/Kapa-100ng-2.bam</td>\n",
       "      <td>0.948819</td>\n",
       "    </tr>\n",
       "    <tr>\n",
       "      <th>32</th>\n",
       "      <td>Swift2S-100ng-2</td>\n",
       "      <td>20_piccard/Swift2S-100ng-2.bam</td>\n",
       "      <td>0.653302</td>\n",
       "    </tr>\n",
       "    <tr>\n",
       "      <th>33</th>\n",
       "      <td>Swift2S-100ng-4</td>\n",
       "      <td>20_piccard/Swift2S-100ng-4.bam</td>\n",
       "      <td>0.460735</td>\n",
       "    </tr>\n",
       "    <tr>\n",
       "      <th>34</th>\n",
       "      <td>Swiftlong-10ng-2</td>\n",
       "      <td>20_piccard/Swiftlong-10ng-2.bam</td>\n",
       "      <td>0.376793</td>\n",
       "    </tr>\n",
       "    <tr>\n",
       "      <th>35</th>\n",
       "      <td>Kapa-100ng-4</td>\n",
       "      <td>20_piccard/Kapa-100ng-4.bam</td>\n",
       "      <td>0.715612</td>\n",
       "    </tr>\n",
       "    <tr>\n",
       "      <th>36</th>\n",
       "      <td>Quanta-10ng-4</td>\n",
       "      <td>20_piccard/Quanta-10ng-4.bam</td>\n",
       "      <td>0.361206</td>\n",
       "    </tr>\n",
       "    <tr>\n",
       "      <th>37</th>\n",
       "      <td>NEB-100ng-3</td>\n",
       "      <td>20_piccard/NEB-100ng-3.bam</td>\n",
       "      <td>0.550291</td>\n",
       "    </tr>\n",
       "    <tr>\n",
       "      <th>38</th>\n",
       "      <td>NEB-100ng-1</td>\n",
       "      <td>20_piccard/NEB-100ng-1.bam</td>\n",
       "      <td>0.432146</td>\n",
       "    </tr>\n",
       "    <tr>\n",
       "      <th>39</th>\n",
       "      <td>Quanta-10ng-2</td>\n",
       "      <td>20_piccard/Quanta-10ng-2.bam</td>\n",
       "      <td>0.408239</td>\n",
       "    </tr>\n",
       "    <tr>\n",
       "      <th>40</th>\n",
       "      <td>Swift2S-10ng-4</td>\n",
       "      <td>20_piccard/Swift2S-10ng-4.bam</td>\n",
       "      <td>0.346710</td>\n",
       "    </tr>\n",
       "    <tr>\n",
       "      <th>41</th>\n",
       "      <td>Swift2S-10ng-2</td>\n",
       "      <td>20_piccard/Swift2S-10ng-2.bam</td>\n",
       "      <td>0.393651</td>\n",
       "    </tr>\n",
       "    <tr>\n",
       "      <th>42</th>\n",
       "      <td>Nextera-10ng-2</td>\n",
       "      <td>20_piccard/Nextera-10ng-2.bam</td>\n",
       "      <td>0.375469</td>\n",
       "    </tr>\n",
       "    <tr>\n",
       "      <th>43</th>\n",
       "      <td>Swiftlong-100ng-3</td>\n",
       "      <td>20_piccard/Swiftlong-100ng-3.bam</td>\n",
       "      <td>1.000000</td>\n",
       "    </tr>\n",
       "    <tr>\n",
       "      <th>44</th>\n",
       "      <td>Nextera-10ng-4</td>\n",
       "      <td>20_piccard/Nextera-10ng-4.bam</td>\n",
       "      <td>0.393639</td>\n",
       "    </tr>\n",
       "    <tr>\n",
       "      <th>45</th>\n",
       "      <td>Swiftlong-100ng-1</td>\n",
       "      <td>20_piccard/Swiftlong-100ng-1.bam</td>\n",
       "      <td>0.836391</td>\n",
       "    </tr>\n",
       "    <tr>\n",
       "      <th>46</th>\n",
       "      <td>Kapa-10ng-3</td>\n",
       "      <td>20_piccard/Kapa-10ng-3.bam</td>\n",
       "      <td>0.521734</td>\n",
       "    </tr>\n",
       "    <tr>\n",
       "      <th>47</th>\n",
       "      <td>Kapa-10ng-1</td>\n",
       "      <td>20_piccard/Kapa-10ng-1.bam</td>\n",
       "      <td>0.335015</td>\n",
       "    </tr>\n",
       "  </tbody>\n",
       "</table>\n",
       "</div>"
      ],
      "text/plain": [
       "              LIBRARY                              Path   Scaling\n",
       "0      Swift2S-10ng-3     20_piccard/Swift2S-10ng-3.bam  0.341253\n",
       "1      Swift2S-10ng-1     20_piccard/Swift2S-10ng-1.bam  0.427270\n",
       "2   Swiftlong-100ng-2  20_piccard/Swiftlong-100ng-2.bam  1.000000\n",
       "3      Nextera-10ng-1     20_piccard/Nextera-10ng-1.bam  0.325954\n",
       "4   Swiftlong-100ng-4  20_piccard/Swiftlong-100ng-4.bam  0.906910\n",
       "5      Nextera-10ng-3     20_piccard/Nextera-10ng-3.bam  0.428804\n",
       "6         Kapa-10ng-4        20_piccard/Kapa-10ng-4.bam  0.390749\n",
       "7         Kapa-10ng-2        20_piccard/Kapa-10ng-2.bam  0.333161\n",
       "8     Nextera-100ng-4    20_piccard/Nextera-100ng-4.bam  0.398964\n",
       "9      Quanta-100ng-2     20_piccard/Quanta-100ng-2.bam  0.973598\n",
       "10    Nextera-100ng-2    20_piccard/Nextera-100ng-2.bam  0.406613\n",
       "11     Quanta-100ng-4     20_piccard/Quanta-100ng-4.bam  0.998147\n",
       "12         NEB-10ng-2         20_piccard/NEB-10ng-2.bam  0.551424\n",
       "13         NEB-10ng-4         20_piccard/NEB-10ng-4.bam  0.532865\n",
       "14   Swiftlong-10ng-1   20_piccard/Swiftlong-10ng-1.bam  0.386397\n",
       "15   Swiftlong-10ng-3   20_piccard/Swiftlong-10ng-3.bam  0.428776\n",
       "16       Kapa-100ng-3       20_piccard/Kapa-100ng-3.bam  0.899236\n",
       "17    Swift2S-100ng-1    20_piccard/Swift2S-100ng-1.bam  0.450770\n",
       "18       Kapa-100ng-1       20_piccard/Kapa-100ng-1.bam  0.788942\n",
       "19    Swift2S-100ng-3    20_piccard/Swift2S-100ng-3.bam  0.591228\n",
       "20        NEB-100ng-2        20_piccard/NEB-100ng-2.bam  0.543451\n",
       "21      Quanta-10ng-1      20_piccard/Quanta-10ng-1.bam  0.360121\n",
       "22      Quanta-10ng-3      20_piccard/Quanta-10ng-3.bam  0.379935\n",
       "23        NEB-100ng-4        20_piccard/NEB-100ng-4.bam  0.605706\n",
       "24    Nextera-100ng-1    20_piccard/Nextera-100ng-1.bam  0.364402\n",
       "25    Nextera-100ng-3    20_piccard/Nextera-100ng-3.bam  0.476499\n",
       "26     Quanta-100ng-3     20_piccard/Quanta-100ng-3.bam  0.646665\n",
       "27     Quanta-100ng-1     20_piccard/Quanta-100ng-1.bam  0.707791\n",
       "28         NEB-10ng-1         20_piccard/NEB-10ng-1.bam  0.560621\n",
       "29         NEB-10ng-3         20_piccard/NEB-10ng-3.bam  0.458266\n",
       "30   Swiftlong-10ng-4   20_piccard/Swiftlong-10ng-4.bam  0.360115\n",
       "31       Kapa-100ng-2       20_piccard/Kapa-100ng-2.bam  0.948819\n",
       "32    Swift2S-100ng-2    20_piccard/Swift2S-100ng-2.bam  0.653302\n",
       "33    Swift2S-100ng-4    20_piccard/Swift2S-100ng-4.bam  0.460735\n",
       "34   Swiftlong-10ng-2   20_piccard/Swiftlong-10ng-2.bam  0.376793\n",
       "35       Kapa-100ng-4       20_piccard/Kapa-100ng-4.bam  0.715612\n",
       "36      Quanta-10ng-4      20_piccard/Quanta-10ng-4.bam  0.361206\n",
       "37        NEB-100ng-3        20_piccard/NEB-100ng-3.bam  0.550291\n",
       "38        NEB-100ng-1        20_piccard/NEB-100ng-1.bam  0.432146\n",
       "39      Quanta-10ng-2      20_piccard/Quanta-10ng-2.bam  0.408239\n",
       "40     Swift2S-10ng-4     20_piccard/Swift2S-10ng-4.bam  0.346710\n",
       "41     Swift2S-10ng-2     20_piccard/Swift2S-10ng-2.bam  0.393651\n",
       "42     Nextera-10ng-2     20_piccard/Nextera-10ng-2.bam  0.375469\n",
       "43  Swiftlong-100ng-3  20_piccard/Swiftlong-100ng-3.bam  1.000000\n",
       "44     Nextera-10ng-4     20_piccard/Nextera-10ng-4.bam  0.393639\n",
       "45  Swiftlong-100ng-1  20_piccard/Swiftlong-100ng-1.bam  0.836391\n",
       "46        Kapa-10ng-3        20_piccard/Kapa-10ng-3.bam  0.521734\n",
       "47        Kapa-10ng-1        20_piccard/Kapa-10ng-1.bam  0.335015"
      ]
     },
     "execution_count": 6,
     "metadata": {},
     "output_type": "execute_result"
    }
   ],
   "source": [
    "output = df[['LIBRARY', 'Path', 'Scaling']]\n",
    "output"
   ]
  },
  {
   "cell_type": "code",
   "execution_count": 7,
   "metadata": {},
   "outputs": [],
   "source": [
    "output.to_csv('b_downsample_factors.csv', index=False)"
   ]
  },
  {
   "cell_type": "code",
   "execution_count": 8,
   "metadata": {},
   "outputs": [],
   "source": [
    "# TEST with only three files available locally\n",
    "#output[output.LIBRARY.isin(('Kapa-10ng-1', 'Nextera-100ng-1', 'NEB-100ng-1'))].to_csv('b_downsample_factors.csv', index=False)"
   ]
  },
  {
   "cell_type": "markdown",
   "metadata": {},
   "source": [
    "# Correction for un-duplication\n",
    "\n",
    "When downscaling, some duplicate reads are converted into unique reads, and are counted as a result.\n",
    "\n",
    "There are two situation:\n",
    "\n",
    "0. Initially: Before downscaling\n",
    "1. After downscaling\n",
    "\n",
    "## Definitions\n",
    "\n",
    "- Number of reads initially: $N_0$\n",
    "- Duplication rate: number of duplicates initially divided by total number of reads:\n",
    "\n",
    "$$d_0 = \\frac{N^d_0}{N_0}$$\n",
    "\n",
    "Given a pair of identical reads, one of them is considered a duplicate and the other is not. So there are actually $2N^d_0$ reads that are identical to any other read. Can be considered as $N^d_0$ original reads and $N^d_0$ duplicates.\n",
    "\n",
    "**This ignores >=triplicates, assume one or two copies, as an approximation.**\n",
    "\n",
    "- Scaling factor: $f$\n",
    "- Total number of downscaled reads: $N_1 = fN_0$\n",
    "- Initial coverage: $C_0$\n",
    "- Coverage per de-duplicated reads:\n",
    "\n",
    "$$\\alpha = \\frac{C_0}{N_0-N_0^d}=\\frac{C_0}{N_0(1-d_0)}$$"
   ]
  },
  {
   "cell_type": "markdown",
   "metadata": {},
   "source": [
    "Or alternatively, the coverage in terms of alpha is:\n",
    "\n",
    "$$C_0 = \\alpha N_0(1-d_0)$$"
   ]
  },
  {
   "cell_type": "markdown",
   "metadata": {},
   "source": [
    "Divide the reads into three categories:\n",
    "\n",
    "1. Unique reads initially: $N^u_0 = N_0 (1-2d_0)$. The reads that do not have any other identical reads.\n",
    "2. Set A: Duplicate reads first of pair. There are $N_0^d$ of them.\n",
    "3. Set B: Duplicate reads second of pair. There are $N_0^d$ of these too."
   ]
  },
  {
   "cell_type": "markdown",
   "metadata": {},
   "source": [
    "## After downscaling\n",
    "\n",
    "1. Unique reads give rise to $fN^u_0 = fN_0(1-2d_0)$ unique reads in the downscaled sample, and no duplicate reads"
   ]
  },
  {
   "cell_type": "markdown",
   "metadata": {},
   "source": [
    "Each pair of reads from groups 1 and 2 can give the following results:"
   ]
  },
  {
   "cell_type": "markdown",
   "metadata": {},
   "source": [
    "* 2a. Both reads removed, with probability $(1-f)^2$. Contributes no reads to the output.\n",
    "* 2b. Both reads kept, with probability $f^2$. Results in one pair of duplicate reads in the output.\n",
    "* 2c. One read from set A kept and partner from set B dropped. Probability $f(1-f)$. Results in one unique read in the output.\n",
    "* 2d- One read from set B kept and partner dropped. Probability $(1-f)f$. Results in one unique read.\n",
    "\n",
    "Multiply the above by $N_0d_0$ to get the number of reads contributed to the final state."
   ]
  },
  {
   "cell_type": "markdown",
   "metadata": {},
   "source": [
    "### Number of unique reads after downscaling: 1 + 2c + 2d:\n",
    "$$N_1^u = fN_0(1-2d_0) + d_0N_0 f (1-f) + d_0N_0(1-f)f$$\n",
    "simplifies to:\n",
    "$$N_1^u = N_0f(1-2d_0f) \\; . $$ \n",
    "Compare with if no duplicate reads were turned into uniques, and the duplication rate was the same, it would be: $N_0f(1-2d_0)$.\n",
    "\n",
    "### Number of duplicates after downscaling: 2b\n",
    "\n",
    "$$N_1^d = N_0 d_0 f^2$$\n",
    "\n",
    "This many pairs."
   ]
  },
  {
   "cell_type": "markdown",
   "metadata": {},
   "source": [
    "## Coverage\n",
    "\n",
    "The coverage per unique read $\\alpha$ can be assumed to be the same after downscaling.\n",
    "\n",
    "So, in analogy with definition of $\\alpha$ above,\n",
    "$$C_1 = \\alpha N_1 (1-d_1)$$\n",
    "\n",
    "The number of deduplicated reads $N_1 (1-d_1)$ can be written in terms we know: the number of unique reads plus the number of duplicate reads (once, not twice).\n",
    "\n",
    "$$C_1 = \\alpha \\left[ N_0f(1-2d_0f) + N_0d_0f^2 \\right]$$\n",
    "simplifies to\n",
    "$$C_1 = \\alpha N_0 f \\left[ (1-2d_0f) + d_0f \\right] = \\alpha N_0 f (1- d_0f)$$\n",
    "\n",
    "In the case of no duplication, the expression reduces to the correct $\\alpha N_0 f$, that is, $C_0f$. Alternatively, the duplication rate in the downsampled data is $d_0f$."
   ]
  },
  {
   "cell_type": "markdown",
   "metadata": {},
   "source": [
    "## The downscaling factor $f$\n",
    "\n",
    "To find $f$ we need to solve the quadratic equation:\n",
    "$$f^2 - \\frac{1}{d_0} f + \\frac{C_1}{\\alpha N_0 d_0} = 0$$\n",
    "\n",
    "We should also try to substitute for $\\alpha$, to get a result in terms of the known coverage $C_0$ instead. Use the definition of $\\alpha$:\n",
    "\n",
    "$$f^2 - \\frac{1}{d_0} f + \\frac{C_1 N_0 (1-d_0)}{C_0 N_0 d_0} = 0$$\n",
    "\n",
    "$$d_0 f^2 - f + \\frac{C_1}{C_0}(1-d_0) = 0$$\n",
    "\n",
    "Then plug this into the solution:\n",
    "\n",
    "$$f = \\frac{1\\pm\\sqrt{1-4d_0 \\frac{C_1}{C_0}(1-d_0)}}{2 d_0}$$"
   ]
  },
  {
   "cell_type": "markdown",
   "metadata": {},
   "source": [
    "For comparison: If we were to ignore duplication and blindly correct for the coverage (as above in this notebook), the correction factor is just\n",
    "$$f'=C_1/C_0$$\n",
    "(assuming fixed coverage per read)."
   ]
  },
  {
   "cell_type": "code",
   "execution_count": 9,
   "metadata": {},
   "outputs": [
    {
     "data": {
      "image/png": "[encoded data removed]",
      "text/plain": [
       "<Figure size 432x288 with 1 Axes>"
      ]
     },
     "metadata": {
      "needs_background": "light"
     },
     "output_type": "display_data"
    }
   ],
   "source": [
    "c0 = np.linspace(3.0, 10.0)\n",
    "c1 = 3.0\n",
    "\n",
    "f_naive = c1 / c0\n",
    "\n",
    "d0 = 0.1\n",
    "f_d10pct = (1 - np.sqrt(1 - 4*d0*c1*(1-d0)/c0)) / (2*d0)\n",
    "\n",
    "d0 = 0.2\n",
    "f_d20pct = (1 - np.sqrt(1 - 4*d0*c1*(1-d0)/c0)) / (2*d0)\n",
    "\n",
    "plt.plot(c0, f_naive, c0, f_d10pct, c0, f_d20pct)\n",
    "plt.legend(['no dup', '10% dup', '20% dup'])\n",
    "plt.xlabel('C0')\n",
    "plt.ylabel('f')\n",
    "plt.show()"
   ]
  },
  {
   "cell_type": "markdown",
   "metadata": {},
   "source": [
    "# Apply new formula as scaling"
   ]
  },
  {
   "cell_type": "code",
   "execution_count": 10,
   "metadata": {},
   "outputs": [],
   "source": [
    "d0 = df.PERCENT_DUPLICATION\n",
    "df['Scaling2'] = ((1 - np.sqrt(1 - 4*d0*target*(1-d0)/df.MEAN_COVERAGE)) / (2*d0) ).clip(upper=1.0)"
   ]
  },
  {
   "cell_type": "code",
   "execution_count": 11,
   "metadata": {},
   "outputs": [
    {
     "data": {
      "text/plain": [
       "<matplotlib.axes._subplots.AxesSubplot at 0x7f99d725e7b8>"
      ]
     },
     "execution_count": 11,
     "metadata": {},
     "output_type": "execute_result"
    },
    {
     "data": {
      "image/png": "[encoded data removed]",
      "text/plain": [
       "<Figure size 432x288 with 1 Axes>"
      ]
     },
     "metadata": {
      "needs_background": "light"
     },
     "output_type": "display_data"
    }
   ],
   "source": [
    "sns.distplot(df.Scaling2/df.Scaling)"
   ]
  },
  {
   "cell_type": "code",
   "execution_count": 12,
   "metadata": {},
   "outputs": [],
   "source": [
    "output2 = df[['LIBRARY', 'Path']].copy()\n",
    "output2['Scaling'] = df['Scaling2']\n",
    "output.to_csv('c_downsample_factors.csv', index=False)"
   ]
  },
  {
   "cell_type": "code",
   "execution_count": null,
   "metadata": {},
   "outputs": [],
   "source": []
  }
 ],
 "metadata": {
  "kernelspec": {
   "display_name": "Python 3",
   "language": "python",
   "name": "python3"
  },
  "language_info": {
   "codemirror_mode": {
    "name": "ipython",
    "version": 3
   },
   "file_extension": ".py",
   "mimetype": "text/x-python",
   "name": "python",
   "nbconvert_exporter": "python",
   "pygments_lexer": "ipython3",
   "version": "3.7.0"
  }
 },
 "nbformat": 4,
 "nbformat_minor": 2
}
