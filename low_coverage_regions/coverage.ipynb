{
 "cells": [
  {
   "cell_type": "code",
   "execution_count": 44,
   "metadata": {},
   "outputs": [],
   "source": [
    "import pyBigWig\n",
    "import numpy as np\n",
    "import seaborn as sns\n",
    "import matplotlib.pyplot as plt"
   ]
  },
  {
   "cell_type": "code",
   "execution_count": null,
   "metadata": {},
   "outputs": [],
   "source": []
  },
  {
   "cell_type": "code",
   "execution_count": 38,
   "metadata": {},
   "outputs": [],
   "source": [
    "f = pyBigWig.open(\"../40_bigwig/Kapa-100ng-1-aa.bw\")"
   ]
  },
  {
   "cell_type": "code",
   "execution_count": 39,
   "metadata": {},
   "outputs": [
    {
     "data": {
      "text/plain": [
       "[0.0, 0.0, 0.0, 0.0, 0.0, 0.0, 0.0, 0.0, 0.0, 0.0]"
      ]
     },
     "execution_count": 39,
     "metadata": {},
     "output_type": "execute_result"
    }
   ],
   "source": [
    "f.values(\"chr1\", 0, 10)"
   ]
  },
  {
   "cell_type": "code",
   "execution_count": 41,
   "metadata": {},
   "outputs": [
    {
     "name": "stdout",
     "output_type": "stream",
     "text": [
      "total size: 3099922541\n",
      "Number of bins: 30999\n",
      "chr1\n",
      "chr2\n",
      "chr3\n"
     ]
    }
   ],
   "source": [
    "chrom_list = list(f.chroms().items())\n",
    "\n",
    "total_size = sum(v[1] for v in chrom_list)\n",
    "print(\"total size:\", total_size)\n",
    "\n",
    "BIN_SIZE = 100000\n",
    "N = total_size // BIN_SIZE\n",
    "\n",
    "zero_coverage_bases = np.zeros(N)\n",
    "print(\"Number of bins:\", N)\n",
    "i = 0\n",
    "\n",
    "for chrom, csize in chrom_list[:3]:\n",
    "    print(chrom)\n",
    "    for start in range(0, csize, BIN_SIZE):\n",
    "        end = min(csize, start + BIN_SIZE)\n",
    "        values = f.values(chrom, start, end)\n",
    "        zc = sum(v == 0 for v in values)\n",
    "        zero_coverage_bases[i] = zc\n",
    "        i += 1\n"
   ]
  },
  {
   "cell_type": "code",
   "execution_count": 45,
   "metadata": {},
   "outputs": [
    {
     "data": {
      "text/plain": [
       "[<matplotlib.lines.Line2D at 0x111938240>]"
      ]
     },
     "execution_count": 45,
     "metadata": {},
     "output_type": "execute_result"
    },
    {
     "data": {
      "image/png": "[encoded data removed]",
      "text/plain": [
       "<Figure size 432x288 with 1 Axes>"
      ]
     },
     "metadata": {
      "needs_background": "light"
     },
     "output_type": "display_data"
    }
   ],
   "source": [
    "plt.plot(zero_coverage_bases)"
   ]
  },
  {
   "cell_type": "code",
   "execution_count": null,
   "metadata": {},
   "outputs": [],
   "source": []
  }
 ],
 "metadata": {
  "kernelspec": {
   "display_name": "Python 3",
   "language": "python",
   "name": "python3"
  },
  "language_info": {
   "codemirror_mode": {
    "name": "ipython",
    "version": 3
   },
   "file_extension": ".py",
   "mimetype": "text/x-python",
   "name": "python",
   "nbconvert_exporter": "python",
   "pygments_lexer": "ipython3",
   "version": "3.7.4"
  }
 },
 "nbformat": 4,
 "nbformat_minor": 2
}
