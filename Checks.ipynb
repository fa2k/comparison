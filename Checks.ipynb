{
 "cells": [
  {
   "cell_type": "markdown",
   "metadata": {},
   "source": [
    "## Checks"
   ]
  },
  {
   "cell_type": "code",
   "execution_count": 1,
   "metadata": {},
   "outputs": [],
   "source": [
    "import pandas as pd\n",
    "import seaborn as sns\n",
    "import matplotlib.pyplot as plt\n",
    "import numpy as np\n",
    "from glob import glob\n",
    "import re\n",
    "%matplotlib inline"
   ]
  },
  {
   "cell_type": "code",
   "execution_count": 2,
   "metadata": {},
   "outputs": [],
   "source": [
    "# Which downsampling norm to use: This selects input data:\n",
    "# dd: Deduplicated downsampled data\n",
    "# aa: Analyse all reads in data, downsample based on number of PF reads\n",
    "DS_MODE = \"aa\" # Note: AA mode should be used for this check"
   ]
  },
  {
   "cell_type": "markdown",
   "metadata": {},
   "source": [
    "### Load Picard data\n",
    "\n",
    "#### Step 1 is to load all the metrics from the downsampled data."
   ]
  },
  {
   "cell_type": "code",
   "execution_count": 3,
   "metadata": {},
   "outputs": [],
   "source": [
    "def load_picard(path):\n",
    "    with open(path) as f:\n",
    "        mode = None\n",
    "        metrics_header = None\n",
    "        metrics_data = {}\n",
    "        histogram_series = []\n",
    "        histogram_data = []\n",
    "        for l in f:\n",
    "            line = l.rstrip(\"\\r\\n\")\n",
    "            if mode == 'metrics':\n",
    "                metrics_header = line.split()\n",
    "                mode = 'metrics2'\n",
    "            elif mode == 'metrics2':\n",
    "                if line != \"\":\n",
    "                    metrics_data = dict(zip(metrics_header, line.split()))\n",
    "                else:\n",
    "                    mode = None\n",
    "            elif mode == 'histogram':\n",
    "                histogram_series = line.split()\n",
    "                histogram_data = [list() for _ in histogram_series]\n",
    "                mode = 'histogram2'\n",
    "            elif mode == 'histogram2':\n",
    "                if line != \"\":\n",
    "                    for i, value in enumerate(line.split()):\n",
    "                        histogram_data[i].append(value)\n",
    "                else:\n",
    "                    mode = None\n",
    "            elif line.startswith(\"## METRICS CLASS\"):\n",
    "                mode = 'metrics'\n",
    "            elif line.startswith(\"## HISTOGRAM\"):\n",
    "                mode = 'histogram'\n",
    "        if histogram_series:\n",
    "            #metrics_data['histograms'] = dict(zip(histogram_series, histogram_data))\n",
    "            for name, data in zip(histogram_series, histogram_data):\n",
    "                metrics_data[name] = [float(x) for x in data]\n",
    "    return metrics_data"
   ]
  },
  {
   "cell_type": "code",
   "execution_count": 4,
   "metadata": {},
   "outputs": [],
   "source": [
    "samples = []\n",
    "for bam in glob(\"30_downsample/*-{}_DS_MD.AlignmentSummaryMetrics.txt\".format(DS_MODE)):\n",
    "    basepath = re.sub(r\"_MD\\.AlignmentSummaryMetrics\\.txt$\", \"\", bam)\n",
    "    data = {}\n",
    "    try:\n",
    "        for metrics in ['_MD.AlignmentSummaryMetrics', '_MD.InsertSizeMetrics',\n",
    "                        '.MarkDuplicatesMetrics', '_MD.WgsMetrics']:\n",
    "            new_data = load_picard(\"{}{}.txt\".format(basepath, metrics))\n",
    "            if any(k in data for k in new_data):\n",
    "                print(\"Duplicate key {} found in {}\".format(k, metrics))\n",
    "            data.update(new_data)\n",
    "    except FileNotFoundError as e:\n",
    "        print(\"File {} not found, skipping this sample.\".format(e.filename))\n",
    "        continue\n",
    "    samples.append(data)"
   ]
  },
  {
   "cell_type": "code",
   "execution_count": 5,
   "metadata": {},
   "outputs": [
    {
     "name": "stdout",
     "output_type": "stream",
     "text": [
      "40\n"
     ]
    }
   ],
   "source": [
    "print(len(samples))"
   ]
  },
  {
   "cell_type": "markdown",
   "metadata": {},
   "source": [
    "#### Step 2: Get original number of PF reads from before downsampling."
   ]
  },
  {
   "cell_type": "code",
   "execution_count": 6,
   "metadata": {},
   "outputs": [],
   "source": [
    "inital_read_counts = []\n",
    "for alignment_txt in glob(\"20_piccard/*.AlignmentSummaryMetrics.txt\"):\n",
    "    library = re.search(r\"/([^/]+)\\.AlignmentSummaryMetrics.txt\", alignment_txt).group(1)\n",
    "    new_data = load_picard(alignment_txt)\n",
    "    inital_read_counts.append({'LIBRARY': library, 'INITIAL_READS': int(new_data['TOTAL_READS']),\n",
    "                                    'INITIAL_READS_PER_END': int(new_data['TOTAL_READS']) / 2})"
   ]
  },
  {
   "cell_type": "code",
   "execution_count": 7,
   "metadata": {},
   "outputs": [],
   "source": [
    "dedup_read_counts = []\n",
    "for rc_txt in glob(\"20_piccard_dd/*.readCount.txt\"):\n",
    "    library = re.search(r\"/([^/]+)\\.readCount\\.txt\", rc_txt).group(1)\n",
    "    rc = int(open(rc_txt).read().strip())\n",
    "    dedup_read_counts.append({'LIBRARY': library, 'DEDUPLICATED_READS': rc, 'DEDUPLICATED_READS_PER_END': rc/2})"
   ]
  },
  {
   "cell_type": "markdown",
   "metadata": {},
   "source": [
    "#### Step 3: Get arabidopsis metrics."
   ]
  },
  {
   "cell_type": "code",
   "execution_count": 8,
   "metadata": {},
   "outputs": [],
   "source": [
    "arabidopsis_samples = []\n",
    "for bam in glob(\"arabidopsis/20_piccard/*.bam\"):\n",
    "    basepath = re.sub(r\"\\.bam$\", \"\", bam)\n",
    "    data = {}\n",
    "    for metrics in ['.AlignmentSummaryMetrics', '.InsertSizeMetrics',\n",
    "                    '.MarkDuplicatesMetrics', '.WgsMetrics']:\n",
    "        new_data = load_picard(\"{}{}.txt\".format(basepath, metrics))\n",
    "        if any(k in data for k in new_data):\n",
    "            print(\"Duplicate key {} found in {}\".format(k, metrics))\n",
    "        data.update(new_data)\n",
    "    arabidopsis_samples.append(data)"
   ]
  },
  {
   "cell_type": "code",
   "execution_count": 9,
   "metadata": {},
   "outputs": [
    {
     "name": "stdout",
     "output_type": "stream",
     "text": [
      "Quanta-10ng-3\n",
      "TODO. There is no arabidopsis yet.\n"
     ]
    }
   ],
   "source": [
    "print(samples[0]['LIBRARY'])\n",
    "#print(inital_read_counts[0]['LIBRARY'])\n",
    "print(\"TODO. There is no arabidopsis yet.\")"
   ]
  },
  {
   "cell_type": "code",
   "execution_count": 10,
   "metadata": {},
   "outputs": [
    {
     "name": "stderr",
     "output_type": "stream",
     "text": [
      "/Users/paalmbj/anaconda/lib/python3.5/site-packages/ipykernel/__main__.py:1: FutureWarning: convert_objects is deprecated.  To re-infer data dtypes for object columns, use DataFrame.infer_objects()\n",
      "For all other conversions use the data-type specific converters pd.to_datetime, pd.to_timedelta and pd.to_numeric.\n",
      "  if __name__ == '__main__':\n"
     ]
    }
   ],
   "source": [
    "main_df = pd.DataFrame(samples).reindex().convert_objects(convert_numeric=True)\n",
    "in_reads_df = pd.DataFrame(inital_read_counts)\n",
    "dd_reads_df = pd.DataFrame(dedup_read_counts)\n",
    "arabidopsis_df = pd.DataFrame(arabidopsis_samples)\n",
    "\n",
    "df = pd.merge(\n",
    "    pd.merge(\n",
    "        pd.merge(\n",
    "            main_df,\n",
    "            arabidopsis_df,\n",
    "            on='LIBRARY', suffixes=('', '_AR')).reindex(),\n",
    "        in_reads_df, \n",
    "        on='LIBRARY').reindex(),\n",
    "    dd_reads_df, on='LIBRARY')\n",
    "\n",
    "df['Kit'] = df.LIBRARY.str.split(\"-\").str.get(0)\n",
    "df['Conc'] = df.LIBRARY.str.split(\"-\").str.get(1)\n",
    "df_100 = df.loc[df.Conc == \"100ng\"]"
   ]
  },
  {
   "cell_type": "code",
   "execution_count": 11,
   "metadata": {},
   "outputs": [
    {
     "name": "stdout",
     "output_type": "stream",
     "text": [
      "Number of entries:  40\n"
     ]
    }
   ],
   "source": [
    "print(\"Number of entries: \", len(df))"
   ]
  },
  {
   "cell_type": "markdown",
   "metadata": {},
   "source": [
    "## Again with the duplicates\n"
   ]
  },
  {
   "cell_type": "code",
   "execution_count": 12,
   "metadata": {},
   "outputs": [
    {
     "data": {
      "text/html": [
       "<div>\n",
       "<style scoped>\n",
       "    .dataframe tbody tr th:only-of-type {\n",
       "        vertical-align: middle;\n",
       "    }\n",
       "\n",
       "    .dataframe tbody tr th {\n",
       "        vertical-align: top;\n",
       "    }\n",
       "\n",
       "    .dataframe thead th {\n",
       "        text-align: right;\n",
       "    }\n",
       "</style>\n",
       "<table border=\"1\" class=\"dataframe\">\n",
       "  <thead>\n",
       "    <tr style=\"text-align: right;\">\n",
       "      <th></th>\n",
       "      <th>Sample</th>\n",
       "      <th>NUM_READS</th>\n",
       "      <th>READS_WITH_DUP</th>\n",
       "      <th>DUP_RATIO</th>\n",
       "    </tr>\n",
       "  </thead>\n",
       "  <tbody>\n",
       "    <tr>\n",
       "      <th>0</th>\n",
       "      <td>Kapa-100ng-1</td>\n",
       "      <td>120913253</td>\n",
       "      <td>6397146</td>\n",
       "      <td>0.052907</td>\n",
       "    </tr>\n",
       "  </tbody>\n",
       "</table>\n",
       "</div>"
      ],
      "text/plain": [
       "         Sample  NUM_READS  READS_WITH_DUP  DUP_RATIO\n",
       "0  Kapa-100ng-1  120913253         6397146   0.052907"
      ]
     },
     "execution_count": 12,
     "metadata": {},
     "output_type": "execute_result"
    }
   ],
   "source": [
    "cluster_duplication = pd.read_table('01_data_qc/fastdup.txt')\n",
    "cluster_duplication['Sample'] = cluster_duplication.FILE.str.split(\"_\").str.get(0).str.split(\"-\", n=1).str[1]\n",
    "sample_fastdup = cluster_duplication.groupby(\"Sample\", as_index=False).sum()[[\"Sample\",\"NUM_READS\",\"READS_WITH_DUP\"]]\n",
    "sample_fastdup['DUP_RATIO'] = sample_fastdup.READS_WITH_DUP / sample_fastdup.NUM_READS\n",
    "sample_fastdup.head(n=1)"
   ]
  },
  {
   "cell_type": "markdown",
   "metadata": {},
   "source": [
    "concordance fastdup / Picard"
   ]
  },
  {
   "cell_type": "code",
   "execution_count": 13,
   "metadata": {},
   "outputs": [
    {
     "name": "stdout",
     "output_type": "stream",
     "text": [
      "merged length 40\n"
     ]
    }
   ],
   "source": [
    "df[\"PCT_OPTICAL_DUPLICATES\"] = df.READ_PAIR_OPTICAL_DUPLICATES / df.READ_PAIRS_EXAMINED\n",
    "merge_df = pd.merge(df, sample_fastdup, left_on=\"LIBRARY\", right_on=\"Sample\")\n",
    "print(\"merged length\", len(merge_df))\n",
    "\n",
    "\n",
    "df[\"DUP_RATIO\"] = df.PCT_OPTICAL_DUPLICATES\n",
    "df[\"Source\"] = \"Picard\"\n",
    "sample_fastdup[\"Source\"] = \"fastdup\"\n",
    "both_df = pd.concat((df, sample_fastdup), sort=False)"
   ]
  },
  {
   "cell_type": "code",
   "execution_count": 14,
   "metadata": {},
   "outputs": [
    {
     "data": {
      "text/plain": [
       "[<matplotlib.lines.Line2D at 0x1a13beefd0>]"
      ]
     },
     "execution_count": 14,
     "metadata": {},
     "output_type": "execute_result"
    },
    {
     "data": {
      "image/png": "[encoded data removed]",
      "text/plain": [
       "<Figure size 360x360 with 1 Axes>"
      ]
     },
     "metadata": {
      "needs_background": "light"
     },
     "output_type": "display_data"
    }
   ],
   "source": [
    "sns.relplot(data=both_df, x=\"DUP_RATIO\", y=\"PCT_OPTICAL_DUPLICATES\")\n",
    "plt.plot((0, 0.1), (0, 0.1))"
   ]
  },
  {
   "cell_type": "code",
   "execution_count": null,
   "metadata": {},
   "outputs": [],
   "source": []
  },
  {
   "cell_type": "code",
   "execution_count": null,
   "metadata": {},
   "outputs": [],
   "source": []
  }
 ],
 "metadata": {
  "kernelspec": {
   "display_name": "Python [default]",
   "language": "python",
   "name": "python3"
  },
  "language_info": {
   "codemirror_mode": {
    "name": "ipython",
    "version": 3
   },
   "file_extension": ".py",
   "mimetype": "text/x-python",
   "name": "python",
   "nbconvert_exporter": "python",
   "pygments_lexer": "ipython3",
   "version": "3.5.6"
  }
 },
 "nbformat": 4,
 "nbformat_minor": 2
}
