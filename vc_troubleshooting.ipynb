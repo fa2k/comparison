{
 "cells": [
  {
   "cell_type": "code",
   "execution_count": 75,
   "metadata": {},
   "outputs": [],
   "source": [
    "import vcf\n",
    "import vcf.utils\n",
    "import pysam\n",
    "import seaborn as sns\n",
    "import matplotlib.pyplot as plt\n",
    "import pandas as pd"
   ]
  },
  {
   "cell_type": "markdown",
   "metadata": {},
   "source": [
    "# VCF / BAM comparison tool\n",
    "\n",
    "Compares the INDEL calls and alignments between two datasets. Designed to answer the question \"why is Swiftlong (B) so much worse?\" \n",
    "\n",
    "Input files:\n",
    "\n",
    "Dataset A & B:\n",
    "* VCF from hap.py\n",
    "* BAM file\n"
   ]
  },
  {
   "cell_type": "code",
   "execution_count": 76,
   "metadata": {},
   "outputs": [],
   "source": [
    "a_happy_vcf = vcf.Reader(filename=\"a50_variant_analysis/Nextera-10ng-1_happy/Nextera-10ng-1.vcf.gz\")\n",
    "a_vcf = vcf.Reader(filename=\"a40_vcf/Nextera-10ng-1.scored.vcf\")\n",
    "\n",
    "a_bam = pysam.AlignmentFile(\"/ypool/bulk/nsc/kitComparison/10_bwa/Nextera-10ng-1_HYK7TCCXY_L004.sorted.bam\")"
   ]
  },
  {
   "cell_type": "code",
   "execution_count": 77,
   "metadata": {},
   "outputs": [],
   "source": [
    "b_happy_vcf = vcf.Reader(filename=\"a50_variant_analysis/Swiftlong-10ng-3_happy/Swiftlong-10ng-3.vcf.gz\")\n",
    "b_vcf = vcf.Reader(filename=\"a40_vcf/Swiftlong-10ng-3.scored.vcf\")\n",
    "\n",
    "b_bam = pysam.AlignmentFile(\"/ypool/bulk/nsc/kitComparison/10_bwa/Nextera-100ng-3_HYK7TCCXY_L002.sorted.bam\")"
   ]
  },
  {
   "cell_type": "code",
   "execution_count": null,
   "metadata": {},
   "outputs": [],
   "source": [
    "current_chromosome = None"
   ]
  },
  {
   "cell_type": "code",
   "execution_count": null,
   "metadata": {},
   "outputs": [],
   "source": [
    "# Log depths\n",
    "items = []\n",
    "\n",
    "for _, (a_rec, a_rec2, b_rec, b_rec2) in zip(iter(int, 1), vcf.utils.walk_together(a_happy_vcf, a_vcf, b_happy_vcf, b_vcf)):\n",
    "    #any_rec = recs[0] or recs[1]\n",
    "    a_or_b_rec = a_rec or b_rec\n",
    "    if not a_or_b_rec: continue\n",
    "    if a_or_b_rec.CHROM != current_chromosome:\n",
    "        current_chromosome = a_or_b_rec.CHROM\n",
    "        print(\"Chromosome:\", current_chromosome)\n",
    "    if a_or_b_rec.is_indel:\n",
    "        #print(a_or_b_rec.CHROM, a_or_b_rec.POS)\n",
    "        item = {\n",
    "            'chrom': a_or_b_rec.CHROM,\n",
    "            'pos': a_or_b_rec.POS,\n",
    "            'a_is_tp': a_rec is not None and a_rec.samples[1].data.BD == 'TP',\n",
    "            'a_dp': a_bam.count(a_or_b_rec.CHROM, a_or_b_rec.start, a_or_b_rec.start+1),\n",
    "            'b_is_tp': b_rec is not None and b_rec.samples[1].data.BD == 'TP',\n",
    "            'b_dp': b_bam.count(a_or_b_rec.CHROM, a_or_b_rec.start, a_or_b_rec.start+1)\n",
    "        }\n",
    "        item['is_tp'] = item['b_is_tp'] or item['a_is_tp']\n",
    "        #for pile_col in b_bam.pileup(a_or_b_rec.CHROM, a_or_b_rec.start, a_or_b_rec.start+1,\n",
    "        #                               truncate=True, stepper='nofilter', min_base_quality=0):\n",
    "        #    qs = list(pile_col.get_query_sequences())\n",
    "        #    print(\"B Pile\", qs)\n",
    "        #    break\n",
    "        #else:\n",
    "        #    print(\"There is no pile at\", a_or_b_rec.CHROM, a_or_b_rec.POS)\n",
    "        items.append(item)\n",
    "    \n",
    "print(\"Got to position\", a_or_b_rec.CHROM, a_or_b_rec.POS)"
   ]
  },
  {
   "cell_type": "code",
   "execution_count": null,
   "metadata": {},
   "outputs": [],
   "source": [
    "df = pd.DataFrame(items)\n",
    "print(\"Items:\", len(items))\n",
    "df.head(n=2)"
   ]
  },
  {
   "cell_type": "code",
   "execution_count": null,
   "metadata": {},
   "outputs": [],
   "source": [
    "sns.displot(data=df, x='b_dp', hue='b_is_tp', discrete=True, common_norm=True, stat='density')\n",
    "plt.xlim(0,20)"
   ]
  },
  {
   "cell_type": "code",
   "execution_count": null,
   "metadata": {},
   "outputs": [],
   "source": [
    "sns.boxplot(data=df[df.is_tp], x='chrom', y='b_is_tp')"
   ]
  },
  {
   "cell_type": "code",
   "execution_count": null,
   "metadata": {},
   "outputs": [],
   "source": []
  },
  {
   "cell_type": "code",
   "execution_count": null,
   "metadata": {},
   "outputs": [],
   "source": []
  }
 ],
 "metadata": {
  "kernelspec": {
   "display_name": "pyvcf",
   "language": "python",
   "name": "pyvcf"
  },
  "language_info": {
   "codemirror_mode": {
    "name": "ipython",
    "version": 3
   },
   "file_extension": ".py",
   "mimetype": "text/x-python",
   "name": "python",
   "nbconvert_exporter": "python",
   "pygments_lexer": "ipython3",
   "version": "3.6.12"
  }
 },
 "nbformat": 4,
 "nbformat_minor": 4
}
