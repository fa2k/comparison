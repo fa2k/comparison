{
 "cells": [
  {
   "cell_type": "markdown",
   "metadata": {},
   "source": [
    "# Read all the hap.py vcfs and compute overlaps"
   ]
  },
  {
   "cell_type": "markdown",
   "metadata": {},
   "source": [
    "## Read metadata"
   ]
  },
  {
   "cell_type": "code",
   "execution_count": 30,
   "metadata": {},
   "outputs": [],
   "source": [
    "import vcf\n",
    "import vcf.utils\n",
    "import glob\n",
    "import re\n",
    "import pandas as pd\n",
    "import upsetplot"
   ]
  },
  {
   "cell_type": "code",
   "execution_count": 31,
   "metadata": {},
   "outputs": [],
   "source": [
    "paths = glob.glob(\"d50_variant_analysis/*/*vcf.gz\")"
   ]
  },
  {
   "cell_type": "code",
   "execution_count": 32,
   "metadata": {},
   "outputs": [],
   "source": [
    "names, kits, concs, replicates = zip(*[\n",
    "    re.match(r\".*/(([A-Za-z0-9]+)-(\\d+ng)-(\\d))\\.vcf\\.gz\", path).groups()\n",
    "    for path in paths\n",
    "])"
   ]
  },
  {
   "cell_type": "code",
   "execution_count": 33,
   "metadata": {},
   "outputs": [],
   "source": [
    "df = pd.DataFrame({'Name': names, 'Kit': kits, 'Conc': concs, 'Replicate': replicates, 'Path': paths})"
   ]
  },
  {
   "cell_type": "code",
   "execution_count": 34,
   "metadata": {},
   "outputs": [
    {
     "data": {
      "text/html": [
       "<div>\n",
       "<style scoped>\n",
       "    .dataframe tbody tr th:only-of-type {\n",
       "        vertical-align: middle;\n",
       "    }\n",
       "\n",
       "    .dataframe tbody tr th {\n",
       "        vertical-align: top;\n",
       "    }\n",
       "\n",
       "    .dataframe thead th {\n",
       "        text-align: right;\n",
       "    }\n",
       "</style>\n",
       "<table border=\"1\" class=\"dataframe\">\n",
       "  <thead>\n",
       "    <tr style=\"text-align: right;\">\n",
       "      <th></th>\n",
       "      <th>Name</th>\n",
       "      <th>Kit</th>\n",
       "      <th>Conc</th>\n",
       "      <th>Replicate</th>\n",
       "      <th>Path</th>\n",
       "    </tr>\n",
       "  </thead>\n",
       "  <tbody>\n",
       "    <tr>\n",
       "      <th>0</th>\n",
       "      <td>NEB-10ng-1</td>\n",
       "      <td>NEB</td>\n",
       "      <td>10ng</td>\n",
       "      <td>1</td>\n",
       "      <td>d50_variant_analysis/NEB-10ng-1_happy/NEB-10ng...</td>\n",
       "    </tr>\n",
       "    <tr>\n",
       "      <th>1</th>\n",
       "      <td>NEB-10ng-3</td>\n",
       "      <td>NEB</td>\n",
       "      <td>10ng</td>\n",
       "      <td>3</td>\n",
       "      <td>d50_variant_analysis/NEB-10ng-3_happy/NEB-10ng...</td>\n",
       "    </tr>\n",
       "    <tr>\n",
       "      <th>2</th>\n",
       "      <td>Quanta-100ng-2</td>\n",
       "      <td>Quanta</td>\n",
       "      <td>100ng</td>\n",
       "      <td>2</td>\n",
       "      <td>d50_variant_analysis/Quanta-100ng-2_happy/Quan...</td>\n",
       "    </tr>\n",
       "    <tr>\n",
       "      <th>3</th>\n",
       "      <td>Swift2S-100ng-4</td>\n",
       "      <td>Swift2S</td>\n",
       "      <td>100ng</td>\n",
       "      <td>4</td>\n",
       "      <td>d50_variant_analysis/Swift2S-100ng-4_happy/Swi...</td>\n",
       "    </tr>\n",
       "    <tr>\n",
       "      <th>4</th>\n",
       "      <td>Nextera-10ng-3</td>\n",
       "      <td>Nextera</td>\n",
       "      <td>10ng</td>\n",
       "      <td>3</td>\n",
       "      <td>d50_variant_analysis/Nextera-10ng-3_happy/Next...</td>\n",
       "    </tr>\n",
       "  </tbody>\n",
       "</table>\n",
       "</div>"
      ],
      "text/plain": [
       "              Name      Kit   Conc Replicate  \\\n",
       "0       NEB-10ng-1      NEB   10ng         1   \n",
       "1       NEB-10ng-3      NEB   10ng         3   \n",
       "2   Quanta-100ng-2   Quanta  100ng         2   \n",
       "3  Swift2S-100ng-4  Swift2S  100ng         4   \n",
       "4   Nextera-10ng-3  Nextera   10ng         3   \n",
       "\n",
       "                                                Path  \n",
       "0  d50_variant_analysis/NEB-10ng-1_happy/NEB-10ng...  \n",
       "1  d50_variant_analysis/NEB-10ng-3_happy/NEB-10ng...  \n",
       "2  d50_variant_analysis/Quanta-100ng-2_happy/Quan...  \n",
       "3  d50_variant_analysis/Swift2S-100ng-4_happy/Swi...  \n",
       "4  d50_variant_analysis/Nextera-10ng-3_happy/Next...  "
      ]
     },
     "execution_count": 34,
     "metadata": {},
     "output_type": "execute_result"
    }
   ],
   "source": [
    "df.head()"
   ]
  },
  {
   "cell_type": "markdown",
   "metadata": {},
   "source": [
    "### Only analyse 100 ng data"
   ]
  },
  {
   "cell_type": "code",
   "execution_count": 35,
   "metadata": {},
   "outputs": [],
   "source": [
    "# af = analysis data frame\n",
    "af = df[(df.Conc=='100ng')&(df.Kit!=\"Swiftlong\")]"
   ]
  },
  {
   "cell_type": "markdown",
   "metadata": {},
   "source": [
    "## Read VCF data"
   ]
  },
  {
   "cell_type": "code",
   "execution_count": 36,
   "metadata": {},
   "outputs": [],
   "source": [
    "kits = list(set(af.Kit))[::-1]"
   ]
  },
  {
   "cell_type": "code",
   "execution_count": 47,
   "metadata": {},
   "outputs": [
    {
     "ename": "TypeError",
     "evalue": "unsupported operand type(s) for -: 'list' and 'list'",
     "output_type": "error",
     "traceback": [
      "\u001b[0;31m---------------------------------------------------------------------------\u001b[0m",
      "\u001b[0;31mTypeError\u001b[0m                                 Traceback (most recent call last)",
      "\u001b[0;32m<ipython-input-47-41e1b314faa3>\u001b[0m in \u001b[0;36m<module>\u001b[0;34m\u001b[0m\n\u001b[1;32m      1\u001b[0m \u001b[0mkits_readers\u001b[0m \u001b[0;34m=\u001b[0m \u001b[0;34m[\u001b[0m\u001b[0;34m(\u001b[0m\u001b[0mrow\u001b[0m\u001b[0;34m.\u001b[0m\u001b[0mKit\u001b[0m\u001b[0;34m,\u001b[0m \u001b[0mvcf\u001b[0m\u001b[0;34m.\u001b[0m\u001b[0mReader\u001b[0m\u001b[0;34m(\u001b[0m\u001b[0mfilename\u001b[0m\u001b[0;34m=\u001b[0m\u001b[0mrow\u001b[0m\u001b[0;34m.\u001b[0m\u001b[0mPath\u001b[0m\u001b[0;34m)\u001b[0m\u001b[0;34m)\u001b[0m \u001b[0;32mfor\u001b[0m \u001b[0m_\u001b[0m\u001b[0;34m,\u001b[0m \u001b[0mrow\u001b[0m \u001b[0;32min\u001b[0m \u001b[0maf\u001b[0m\u001b[0;34m.\u001b[0m\u001b[0miterrows\u001b[0m\u001b[0;34m(\u001b[0m\u001b[0;34m)\u001b[0m\u001b[0;34m]\u001b[0m\u001b[0;34m\u001b[0m\u001b[0;34m\u001b[0m\u001b[0m\n\u001b[0;32m----> 2\u001b[0;31m \u001b[0mkits\u001b[0m\u001b[0;34m,\u001b[0m \u001b[0mreaders\u001b[0m \u001b[0;34m=\u001b[0m \u001b[0mzip\u001b[0m\u001b[0;34m(\u001b[0m\u001b[0;34m*\u001b[0m\u001b[0mkits\u001b[0m\u001b[0;34m-\u001b[0m\u001b[0mreaders\u001b[0m\u001b[0;34m)\u001b[0m\u001b[0;34m\u001b[0m\u001b[0;34m\u001b[0m\u001b[0m\n\u001b[0m",
      "\u001b[0;31mTypeError\u001b[0m: unsupported operand type(s) for -: 'list' and 'list'"
     ]
    }
   ],
   "source": [
    "kits_readers = [(row.Kit, vcf.Reader(filename=row.Path)) for _, row in af.iterrows()]\n",
    "kits, readers = zip(*kits-readers)"
   ]
  },
  {
   "cell_type": "code",
   "execution_count": 38,
   "metadata": {},
   "outputs": [],
   "source": [
    "# Make a place to hold the counts\n",
    "group_counts_idx = pd.MultiIndex.from_product([[True,False] for _ in kits], names=kits)\n",
    "group_combinations = pd.Series(index=group_counts_idx, dtype='uint32')\n",
    "intra_kit_consensus = {kitname: [0, 0, 0, 0, 0] for kitname in kits}"
   ]
  },
  {
   "cell_type": "code",
   "execution_count": 39,
   "metadata": {},
   "outputs": [
    {
     "name": "stdout",
     "output_type": "stream",
     "text": [
      "True positives: 114136\n",
      "Called by all, but not TP: 717\n"
     ]
    }
   ],
   "source": [
    "abort = 200000\n",
    "num_all_call_not_tp = 0\n",
    "num_tp = 0\n",
    "for variants in vcf.utils.walk_together(*readers):\n",
    "    if abort == 0:\n",
    "        break\n",
    "    else:\n",
    "        abort -= 1\n",
    "        if abort % 10000 == 0:\n",
    "            print(abort, \"variants remaining...\")\n",
    "    if not all(variants): # True variants should have entries in all samples\n",
    "        continue\n",
    "    if not variants[0].samples[0].data.BD:\n",
    "        num_all_call_not_tp += 1\n",
    "    else:\n",
    "        num_tp += 1\n",
    "    var_group_counts = [0] * len(kits)\n",
    "    for vcall, irow in zip(variants, af.iterrows()):\n",
    "        is_tp = vcall.samples[1].data.BD == 'TP' and vcall.samples[1].data.QQ >= 5\n",
    "        if is_tp:\n",
    "            var_group_counts[kits.index(irow[1].Kit)] += 1\n",
    "    if any(gc > 0 for gc in var_group_counts):\n",
    "        for i, kit in enumerate(kits):\n",
    "            intra_kit_consensus[kit][var_group_counts[i]] += 1\n",
    "        combinations_index = tuple(x > 2 for x in var_group_counts)\n",
    "        group_combinations[combinations_index] += 1\n",
    "        #if combinations_index == [True]*6:\n",
    "        #    print(\"ALL FOUND IT\")\n",
    "        #    break\n",
    "print(\"True positives:\", num_tp)\n",
    "print(\"Called by all, but not TP:\", num_all_call_not_tp)"
   ]
  },
  {
   "cell_type": "code",
   "execution_count": 44,
   "metadata": {},
   "outputs": [
    {
     "data": {
      "text/plain": [
       "[0, 0, 0, 0, 0]"
      ]
     },
     "execution_count": 44,
     "metadata": {},
     "output_type": "execute_result"
    }
   ],
   "source": [
    "var_group_counts"
   ]
  },
  {
   "cell_type": "code",
   "execution_count": 45,
   "metadata": {},
   "outputs": [
    {
     "data": {
      "text/plain": [
       "51970"
      ]
     },
     "execution_count": 45,
     "metadata": {},
     "output_type": "execute_result"
    }
   ],
   "source": [
    "group_combinations[tuple(combinations_index)]"
   ]
  },
  {
   "cell_type": "code",
   "execution_count": 42,
   "metadata": {},
   "outputs": [
    {
     "data": {
      "text/plain": [
       "{'matrix': <matplotlib.axes._subplots.AxesSubplot at 0x7fa62ae8e748>,\n",
       " 'shading': <matplotlib.axes._subplots.AxesSubplot at 0x7fa62a507e48>,\n",
       " 'totals': <matplotlib.axes._subplots.AxesSubplot at 0x7fa6287b9da0>,\n",
       " 'intersections': <matplotlib.axes._subplots.AxesSubplot at 0x7fa628774dd8>}"
      ]
     },
     "execution_count": 42,
     "metadata": {},
     "output_type": "execute_result"
    },
    {
     "data": {
      "image/png": "[encoded data removed]",
      "text/plain": [
       "<Figure size 1152x352 with 4 Axes>"
      ]
     },
     "metadata": {
      "needs_background": "light"
     },
     "output_type": "display_data"
    }
   ],
   "source": [
    "upsetplot.plot(group_combinations.drop(tuple([0]*len(kits))), sort_by='cardinality')"
   ]
  },
  {
   "cell_type": "code",
   "execution_count": 43,
   "metadata": {},
   "outputs": [
    {
     "data": {
      "text/plain": [
       "['Swift2S', 'Quanta', 'NEB', 'Nextera', 'Kapa']"
      ]
     },
     "execution_count": 43,
     "metadata": {},
     "output_type": "execute_result"
    }
   ],
   "source": [
    "kits"
   ]
  },
  {
   "cell_type": "code",
   "execution_count": null,
   "metadata": {},
   "outputs": [],
   "source": []
  }
 ],
 "metadata": {
  "kernelspec": {
   "display_name": "Python 3",
   "language": "python",
   "name": "python3"
  },
  "language_info": {
   "codemirror_mode": {
    "name": "ipython",
    "version": 3
   },
   "file_extension": ".py",
   "mimetype": "text/x-python",
   "name": "python",
   "nbconvert_exporter": "python",
   "pygments_lexer": "ipython3",
   "version": "3.6.10"
  }
 },
 "nbformat": 4,
 "nbformat_minor": 5
}
