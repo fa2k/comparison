{
 "cells": [
  {
   "cell_type": "markdown",
   "id": "0bd02c8a",
   "metadata": {},
   "source": [
    "# Read all the hap.py vcfs and compute overlaps"
   ]
  },
  {
   "cell_type": "markdown",
   "id": "5956fd49",
   "metadata": {},
   "source": [
    "## Read metadata"
   ]
  },
  {
   "cell_type": "code",
   "execution_count": 1,
   "id": "d6a04912",
   "metadata": {},
   "outputs": [],
   "source": [
    "import vcf\n",
    "import vcf.utils\n",
    "import glob\n",
    "import re\n",
    "import pandas as pd\n",
    "import upsetplot\n",
    "import seaborn as sns\n",
    "import matplotlib.pyplot as plt\n",
    "import os\n",
    "import numpy as np"
   ]
  },
  {
   "cell_type": "code",
   "execution_count": 2,
   "id": "06752172",
   "metadata": {},
   "outputs": [],
   "source": [
    "paths = glob.glob(\"d50_variant_analysis/*/*vcf.gz\")"
   ]
  },
  {
   "cell_type": "code",
   "execution_count": 3,
   "id": "52fb7ea1",
   "metadata": {},
   "outputs": [],
   "source": [
    "names, kits, concs, replicates = zip(*[\n",
    "    re.match(r\".*/(([A-Za-z0-9]+)-(\\d+ng)-(\\d))\\.vcf\\.gz\", path).groups()\n",
    "    for path in paths\n",
    "])"
   ]
  },
  {
   "cell_type": "markdown",
   "id": "368aa728",
   "metadata": {},
   "source": [
    "## Data frame for metadata summary"
   ]
  },
  {
   "cell_type": "code",
   "execution_count": 4,
   "id": "1ef82719",
   "metadata": {},
   "outputs": [],
   "source": [
    "df = pd.DataFrame({'Name': names, 'Kit': kits, 'Conc': concs, 'Replicate': replicates, 'Path': paths})"
   ]
  },
  {
   "cell_type": "code",
   "execution_count": 5,
   "id": "d3137551",
   "metadata": {},
   "outputs": [
    {
     "data": {
      "text/html": [
       "<div>\n",
       "<style scoped>\n",
       "    .dataframe tbody tr th:only-of-type {\n",
       "        vertical-align: middle;\n",
       "    }\n",
       "\n",
       "    .dataframe tbody tr th {\n",
       "        vertical-align: top;\n",
       "    }\n",
       "\n",
       "    .dataframe thead th {\n",
       "        text-align: right;\n",
       "    }\n",
       "</style>\n",
       "<table border=\"1\" class=\"dataframe\">\n",
       "  <thead>\n",
       "    <tr style=\"text-align: right;\">\n",
       "      <th></th>\n",
       "      <th>Name</th>\n",
       "      <th>Kit</th>\n",
       "      <th>Conc</th>\n",
       "      <th>Replicate</th>\n",
       "      <th>Path</th>\n",
       "    </tr>\n",
       "  </thead>\n",
       "  <tbody>\n",
       "    <tr>\n",
       "      <th>0</th>\n",
       "      <td>Kapa-10ng-2</td>\n",
       "      <td>Kapa</td>\n",
       "      <td>10ng</td>\n",
       "      <td>2</td>\n",
       "      <td>d50_variant_analysis/Kapa-10ng-2_happy/Kapa-10...</td>\n",
       "    </tr>\n",
       "    <tr>\n",
       "      <th>1</th>\n",
       "      <td>Kapa-100ng-2</td>\n",
       "      <td>Kapa</td>\n",
       "      <td>100ng</td>\n",
       "      <td>2</td>\n",
       "      <td>d50_variant_analysis/Kapa-100ng-2_happy/Kapa-1...</td>\n",
       "    </tr>\n",
       "    <tr>\n",
       "      <th>2</th>\n",
       "      <td>NEB-10ng-2</td>\n",
       "      <td>NEB</td>\n",
       "      <td>10ng</td>\n",
       "      <td>2</td>\n",
       "      <td>d50_variant_analysis/NEB-10ng-2_happy/NEB-10ng...</td>\n",
       "    </tr>\n",
       "    <tr>\n",
       "      <th>3</th>\n",
       "      <td>Swift2S-10ng-2</td>\n",
       "      <td>Swift2S</td>\n",
       "      <td>10ng</td>\n",
       "      <td>2</td>\n",
       "      <td>d50_variant_analysis/Swift2S-10ng-2_happy/Swif...</td>\n",
       "    </tr>\n",
       "    <tr>\n",
       "      <th>4</th>\n",
       "      <td>Swiftlong-10ng-1</td>\n",
       "      <td>Swiftlong</td>\n",
       "      <td>10ng</td>\n",
       "      <td>1</td>\n",
       "      <td>d50_variant_analysis/Swiftlong-10ng-1_happy/Sw...</td>\n",
       "    </tr>\n",
       "  </tbody>\n",
       "</table>\n",
       "</div>"
      ],
      "text/plain": [
       "               Name        Kit   Conc Replicate  \\\n",
       "0       Kapa-10ng-2       Kapa   10ng         2   \n",
       "1      Kapa-100ng-2       Kapa  100ng         2   \n",
       "2        NEB-10ng-2        NEB   10ng         2   \n",
       "3    Swift2S-10ng-2    Swift2S   10ng         2   \n",
       "4  Swiftlong-10ng-1  Swiftlong   10ng         1   \n",
       "\n",
       "                                                Path  \n",
       "0  d50_variant_analysis/Kapa-10ng-2_happy/Kapa-10...  \n",
       "1  d50_variant_analysis/Kapa-100ng-2_happy/Kapa-1...  \n",
       "2  d50_variant_analysis/NEB-10ng-2_happy/NEB-10ng...  \n",
       "3  d50_variant_analysis/Swift2S-10ng-2_happy/Swif...  \n",
       "4  d50_variant_analysis/Swiftlong-10ng-1_happy/Sw...  "
      ]
     },
     "execution_count": 5,
     "metadata": {},
     "output_type": "execute_result"
    }
   ],
   "source": [
    "df.head()"
   ]
  },
  {
   "cell_type": "markdown",
   "id": "14bc23e7",
   "metadata": {},
   "source": [
    "### Only analyse 100 ng data"
   ]
  },
  {
   "cell_type": "code",
   "execution_count": 6,
   "id": "e73fe846",
   "metadata": {},
   "outputs": [],
   "source": [
    "# af = analysis data frame\n",
    "af = df[(df.Conc=='100ng')&(df.Kit!=\"Swiftlong\")].copy()"
   ]
  },
  {
   "cell_type": "code",
   "execution_count": 7,
   "id": "87b51fd8",
   "metadata": {},
   "outputs": [
    {
     "name": "stdout",
     "output_type": "stream",
     "text": [
      "['Kapa', 'Quanta', 'NEB', 'Nextera', 'Swift2S']\n",
      "['Kapa', 'Quanta', 'NEB', 'Nextera', 'Swift2S']\n"
     ]
    }
   ],
   "source": [
    "kits = list(set(af.Kit))\n",
    "print(kits)\n",
    "print(kits[-10:])"
   ]
  },
  {
   "cell_type": "markdown",
   "id": "7e5a1d30",
   "metadata": {},
   "source": [
    "### Find quality cut-offs for picking N true positives"
   ]
  },
  {
   "cell_type": "code",
   "execution_count": 8,
   "id": "58ecbe49",
   "metadata": {},
   "outputs": [],
   "source": [
    "# Nextera @ QQ>-5: 11269522\n",
    "N = 4_000_000\n",
    "N2 = 3_000_000\n",
    "nbatch = 10000\n",
    "q_cuts = []\n",
    "q_n2 = []\n",
    "i=0\n",
    "for kit in kits:\n",
    "    break # Skip this loop -- computed values for normalisation mode \"d\" given below\n",
    "    readers = [vcf.Reader(filename=path) for path in af[af.Kit==kit].Path]\n",
    "    print(\"Analysing\", len(readers), \"files for kit\", kit, \".\")\n",
    "    qvals = np.array([])\n",
    "    ibatch = 0\n",
    "    n_rows = 0\n",
    "    batch = np.zeros(nbatch)\n",
    "    for variants in vcf.utils.walk_together(*readers):\n",
    "        n_rows += 1\n",
    "        replicates_qvals = sorted([var.samples[1].data.QQ for var in variants\n",
    "                 if var and var.samples[1].data.BD=='TP'])\n",
    "        if len(replicates_qvals) > 2:\n",
    "            batch[ibatch] = replicates_qvals[-3]\n",
    "            ibatch += 1\n",
    "            if ibatch == nbatch:\n",
    "                ii = np.searchsorted(qvals, batch)\n",
    "                qvals = np.insert(qvals, ii, batch)[-(N+1):]\n",
    "                ibatch = 0\n",
    "    ii = np.searchsorted(qvals, batch[0:ibatch])\n",
    "    qvals = np.insert(qvals, ii, batch[0:ibatch])[-(N+1):]\n",
    "    print('Kit', kit, ' - Processed', n_rows, 'rows.')\n",
    "    print('Kit', kit, 'QQ >', qvals[0], \"(\", len(qvals)-1, \" variants)\")\n",
    "    q_cuts.append(qvals[0])\n",
    "    if len(qvals) > N2+1:\n",
    "        print('Kit', kit, 'QQ >', qvals[-(N2+1)], \"(\", N2, \"variants)\")\n",
    "        q_n2.append(qvals[-(N2+1)])"
   ]
  },
  {
   "cell_type": "raw",
   "id": "daaa259b",
   "metadata": {},
   "source": [
    "Output saved here for use later:\n",
    "Kit Kapa QQ > -16.118 ( 3081069  variants)\n",
    "Kit Kapa QQ > -1.6 ( 3000000 variants)\n",
    "Kit NEB QQ > -16.118 ( 3105526  variants)\n",
    "Kit NEB QQ > -1.595 ( 3000000 variants)\n",
    "Kit Swift2S QQ > -16.118 ( 3081313  variants)\n",
    "Kit Swift2S QQ > -1.603 ( 3000000 variants)\n",
    "Kit Nextera QQ > -16.118 ( 3024558  variants)\n",
    "Kit Nextera QQ > -2.308 ( 3000000 variants)\n",
    "Kit Quanta QQ > -16.118 ( 3080175  variants)\n",
    "Kit Quanta QQ > -1.998 ( 3000000 variants)"
   ]
  },
  {
   "cell_type": "code",
   "execution_count": 9,
   "id": "cbd97fcb",
   "metadata": {},
   "outputs": [],
   "source": [
    "qq_cuts_dict = {}\n",
    "qq_cuts_dict['Kapa'] = -1.6\n",
    "qq_cuts_dict['NEB'] = -1.595\n",
    "qq_cuts_dict['Swift2S'] = -1.603\n",
    "qq_cuts_dict['Nextera'] = -2.308\n",
    "qq_cuts_dict['Quanta'] = -1.998"
   ]
  },
  {
   "cell_type": "markdown",
   "id": "f03ef1b6",
   "metadata": {},
   "source": [
    "## Make a place to hold the counts\n",
    "\n",
    "`group_combinations`\n",
    "\n",
    "| Truth | Type  | Value |\n",
    "|-------|-------|-------|\n",
    "| True  | SNP   | Series counts |\n",
    "| False | SNP   | Series counts |\n",
    "| True  | INDEL | Series counts |\n",
    "| False | INDEL | Series counts |\n",
    "\n",
    "Series counts are series containing the counts of each combination of callers. The indexes are MultiIndexes with one level for each kit, with value True if the variant is called, False otherwise."
   ]
  },
  {
   "cell_type": "code",
   "execution_count": 10,
   "id": "a3b769b6",
   "metadata": {},
   "outputs": [],
   "source": [
    "group_counts_idx = pd.MultiIndex.from_product([[True,False] for _ in kits], names=kits)\n",
    "types = ['SNP', 'INDEL'] # May need to refactor if we're to separate indel types"
   ]
  },
  {
   "cell_type": "code",
   "execution_count": 11,
   "id": "d7fd57bd-dd43-4577-b966-bdbdc8f88cdb",
   "metadata": {},
   "outputs": [
    {
     "data": {
      "text/plain": [
       "['Kapa', 'Quanta', 'NEB', 'Nextera', 'Swift2S']"
      ]
     },
     "execution_count": 11,
     "metadata": {},
     "output_type": "execute_result"
    }
   ],
   "source": [
    "kits"
   ]
  },
  {
   "cell_type": "markdown",
   "id": "59cef861",
   "metadata": {},
   "source": [
    "## VCF Reading loop"
   ]
  },
  {
   "cell_type": "code",
   "execution_count": 12,
   "id": "5cb0e537",
   "metadata": {},
   "outputs": [
    {
     "name": "stdout",
     "output_type": "stream",
     "text": [
      "['Kapa', 'Kapa', 'Quanta', 'Nextera', 'NEB', 'Swift2S', 'Kapa', 'Quanta', 'NEB', 'Nextera', 'Swift2S', 'NEB', 'Nextera', 'Swift2S', 'Quanta', 'Kapa', 'NEB', 'Quanta', 'Nextera', 'Swift2S']\n",
      "kapa variants TP found 38672\n",
      "11900000 variants remaining...\n",
      "kapa variants TP found 83669\n",
      "11800000 variants remaining...\n",
      "kapa variants TP found 124416\n",
      "11700000 variants remaining...\n",
      "kapa variants TP found 144053\n",
      "11600000 variants remaining...\n",
      "kapa variants TP found 190445\n",
      "11500000 variants remaining...\n",
      "kapa variants TP found 236178\n",
      "11400000 variants remaining...\n",
      "kapa variants TP found 282100\n",
      "11300000 variants remaining...\n",
      "kapa variants TP found 316736\n",
      "11200000 variants remaining...\n",
      "kapa variants TP found 359815\n",
      "11100000 variants remaining...\n",
      "kapa variants TP found 407542\n",
      "11000000 variants remaining...\n",
      "kapa variants TP found 455008\n",
      "10900000 variants remaining...\n",
      "kapa variants TP found 496581\n",
      "10800000 variants remaining...\n",
      "kapa variants TP found 544176\n",
      "10700000 variants remaining...\n",
      "kapa variants TP found 589834\n",
      "10600000 variants remaining...\n",
      "kapa variants TP found 631552\n",
      "10500000 variants remaining...\n",
      "kapa variants TP found 674071\n",
      "10400000 variants remaining...\n",
      "kapa variants TP found 709163\n",
      "10300000 variants remaining...\n",
      "kapa variants TP found 757788\n",
      "10200000 variants remaining...\n",
      "kapa variants TP found 807247\n",
      "10100000 variants remaining...\n",
      "kapa variants TP found 850610\n",
      "10000000 variants remaining...\n",
      "kapa variants TP found 895794\n",
      "9900000 variants remaining...\n",
      "kapa variants TP found 933243\n",
      "9800000 variants remaining...\n",
      "kapa variants TP found 979351\n",
      "9700000 variants remaining...\n",
      "kapa variants TP found 1023713\n",
      "9600000 variants remaining...\n",
      "kapa variants TP found 1056504\n",
      "9500000 variants remaining...\n",
      "kapa variants TP found 1102516\n",
      "9400000 variants remaining...\n",
      "kapa variants TP found 1132671\n",
      "9300000 variants remaining...\n",
      "kapa variants TP found 1175801\n",
      "9200000 variants remaining...\n",
      "kapa variants TP found 1218512\n",
      "9100000 variants remaining...\n",
      "kapa variants TP found 1267448\n",
      "9000000 variants remaining...\n",
      "kapa variants TP found 1314893\n",
      "8900000 variants remaining...\n",
      "kapa variants TP found 1348027\n",
      "8800000 variants remaining...\n",
      "kapa variants TP found 1392047\n",
      "8700000 variants remaining...\n",
      "kapa variants TP found 1440122\n",
      "8600000 variants remaining...\n",
      "kapa variants TP found 1486580\n",
      "8500000 variants remaining...\n",
      "kapa variants TP found 1524691\n",
      "8400000 variants remaining...\n",
      "kapa variants TP found 1560908\n",
      "8300000 variants remaining...\n",
      "kapa variants TP found 1595107\n",
      "8200000 variants remaining...\n",
      "kapa variants TP found 1623374\n",
      "8100000 variants remaining...\n",
      "kapa variants TP found 1654912\n",
      "8000000 variants remaining...\n",
      "kapa variants TP found 1681618\n",
      "7900000 variants remaining...\n",
      "kapa variants TP found 1726009\n",
      "7800000 variants remaining...\n",
      "kapa variants TP found 1770730\n",
      "7700000 variants remaining...\n",
      "kapa variants TP found 1809180\n",
      "7600000 variants remaining...\n",
      "kapa variants TP found 1853029\n",
      "7500000 variants remaining...\n",
      "kapa variants TP found 1897987\n",
      "7400000 variants remaining...\n",
      "kapa variants TP found 1942461\n",
      "7300000 variants remaining...\n",
      "kapa variants TP found 1982734\n",
      "7200000 variants remaining...\n",
      "kapa variants TP found 2030568\n",
      "7100000 variants remaining...\n",
      "kapa variants TP found 2078070\n",
      "7000000 variants remaining...\n",
      "kapa variants TP found 2128388\n",
      "6900000 variants remaining...\n",
      "kapa variants TP found 2174794\n",
      "6800000 variants remaining...\n",
      "kapa variants TP found 2215889\n",
      "6700000 variants remaining...\n",
      "kapa variants TP found 2260728\n",
      "6600000 variants remaining...\n",
      "kapa variants TP found 2305520\n",
      "6500000 variants remaining...\n",
      "kapa variants TP found 2349988\n",
      "6400000 variants remaining...\n",
      "kapa variants TP found 2392509\n",
      "6300000 variants remaining...\n",
      "kapa variants TP found 2437998\n",
      "6200000 variants remaining...\n",
      "kapa variants TP found 2483921\n",
      "6100000 variants remaining...\n",
      "kapa variants TP found 2529038\n",
      "6000000 variants remaining...\n",
      "kapa variants TP found 2576133\n",
      "5900000 variants remaining...\n",
      "kapa variants TP found 2613820\n",
      "5800000 variants remaining...\n",
      "kapa variants TP found 2656073\n",
      "5700000 variants remaining...\n",
      "kapa variants TP found 2697609\n",
      "5600000 variants remaining...\n",
      "kapa variants TP found 2745891\n",
      "5500000 variants remaining...\n",
      "kapa variants TP found 2790527\n",
      "5400000 variants remaining...\n",
      "kapa variants TP found 2835516\n",
      "5300000 variants remaining...\n",
      "kapa variants TP found 2886852\n",
      "5200000 variants remaining...\n",
      "kapa variants TP found 2914285\n",
      "5100000 variants remaining...\n",
      "kapa variants TP found 2959532\n",
      "5000000 variants remaining...\n",
      "kapa variants TP found 2993395\n",
      "4900000 variants remaining...\n",
      "kapa variants TP found 3027633\n",
      "4800000 variants remaining...\n",
      "kapa variants TP found 3065466\n",
      "4700000 variants remaining...\n"
     ]
    }
   ],
   "source": [
    "kits_readers = [(row.Kit, vcf.Reader(filename=row.Path)) for _, row in af.iterrows()]\n",
    "kits_in_order, readers = zip(*kits_readers)\n",
    "\n",
    "print(list(kits_in_order))\n",
    "\n",
    "abort = 12000000\n",
    "#abort = 200000000\n",
    "\n",
    "group_combinations = {\n",
    "    (truth, typ): pd.Series(index=group_counts_idx, dtype='uint32')\n",
    "    for typ in types\n",
    "    for truth in [True, False]\n",
    "    }\n",
    "intra_kit_consensus = {kitname: [0, 0, 0, 0, 0] for kitname in kits}\n",
    "\n",
    "tp_counters = [0] * len(readers)\n",
    "n_kap_ctr = 0\n",
    "for variants in vcf.utils.walk_together(*readers):\n",
    "    if abort == 0:\n",
    "        break\n",
    "    else:\n",
    "        abort -= 1\n",
    "        if abort % 100000 == 0:\n",
    "            print(\"kapa variants TP found\", n_kap_ctr)\n",
    "            print(abort, \"variants remaining...\")\n",
    "            \n",
    "    is_true = (variants[0] and variants[0].samples[0].data.BD in ['TP', 'FN']) == True\n",
    "    \n",
    "    if not is_true:\n",
    "        for var in variants:\n",
    "            if var and var.samples[0].data.BD == 'TP':\n",
    "                print(\"WTFingF?\", var.CHROM, var.POS)\n",
    "                raise WTF\n",
    "    \n",
    "    typ = next(iter(\n",
    "        vcall.samples[isam].data.BVT\n",
    "        for vcall in variants\n",
    "        for isam in [0,1]\n",
    "        if vcall and vcall.samples[isam].data.BVT != 'NOCALL'\n",
    "    ))\n",
    "    \n",
    "    var_group_counts = [0] * len(kits)\n",
    "    for vcall, kit in zip(variants, kits_in_order):\n",
    "        if vcall:\n",
    "#            if vcall.samples[1].data.BD == 'TP' and vcall.samples[1].data.QQ > qq_cuts_dict[kit]:\n",
    "            if vcall.samples[1].data.BD == 'TP' and vcall.samples[1].data.QQ > -5:\n",
    "                var_group_counts[kits.index(kit)] += 1\n",
    "    \n",
    "    if is_true:\n",
    "        for i, kit in enumerate(kits):\n",
    "            intra_kit_consensus[kit][var_group_counts[i]] += 1\n",
    "            \n",
    "    combinations_index = tuple(x > 2 for x in var_group_counts)\n",
    "    if is_true and combinations_index[0]: n_kap_ctr+=1\n",
    "    \n",
    "    group_combinations[(is_true, typ)][combinations_index] += 1\n"
   ]
  },
  {
   "cell_type": "markdown",
   "id": "aaacc48e-82fd-4b35-b0e2-26002e440100",
   "metadata": {},
   "source": [
    "### Total cunts"
   ]
  },
  {
   "cell_type": "code",
   "execution_count": null,
   "id": "15c8fbe5-3342-411e-b3e7-ffc137b65bb0",
   "metadata": {},
   "outputs": [],
   "source": [
    "for typ in ['SNP', 'INDEL']:\n",
    "    truecalls = group_combinations[(True, typ)]\n",
    "    for kit in kits:\n",
    "        print(\"Total true\", typ, \":\", truesnp[truesnp.index.get_level_values(kit)].sum())"
   ]
  },
  {
   "cell_type": "markdown",
   "id": "c249488f",
   "metadata": {},
   "source": [
    "### Experimental colouring by true/false"
   ]
  },
  {
   "cell_type": "code",
   "execution_count": null,
   "id": "aa8a0ac5",
   "metadata": {},
   "outputs": [],
   "source": [
    "# Make TP/FP in single data frame\n",
    "group_data = {}\n",
    "for typ in ['SNP', 'INDEL']:\n",
    "    group_data[typ] = pd.concat([\n",
    "        pd.DataFrame({'Count': group_combinations[(truth, 'SNP')]}).assign(Truth=truth)\n",
    "        for truth in [True, False]\n",
    "    ])"
   ]
  },
  {
   "cell_type": "code",
   "execution_count": null,
   "id": "75bcf925",
   "metadata": {},
   "outputs": [],
   "source": [
    "#upsetplot.plot(group_combinations.drop(tuple([0]*len(kits))).drop(tuple([1]*len(kits))), sort_by='cardinality')\n",
    "up = upsetplot.UpSet(\n",
    "    group_data['SNP'].drop(tuple([False]*len(kits))),\n",
    "    sort_by='cardinality',\n",
    "    sort_categories_by=None,\n",
    "    sum_over='Count'\n",
    ")"
   ]
  },
  {
   "cell_type": "code",
   "execution_count": null,
   "id": "ec97585f",
   "metadata": {},
   "outputs": [],
   "source": [
    "totales_orig_save = upsetplot.UpSet.plot_totals"
   ]
  },
  {
   "cell_type": "code",
   "execution_count": null,
   "id": "d7f74a95",
   "metadata": {},
   "outputs": [],
   "source": [
    "def plot_totals_mar(self, ax, hue):\n",
    "    \"\"\"Plot bars indicating total set size\n",
    "    \"\"\"\n",
    "    orig_ax = ax\n",
    "    ax = self._reorient(ax)\n",
    "    recst = sns.barplot()\n",
    "    rects = ax.barh(np.arange(len(self.totals.index.values)), self.totals,\n",
    "                    .5, color=self._facecolor, align='center')\n",
    "    self._label_sizes(ax, rects, 'left' if self._horizontal else 'top')\n",
    "\n",
    "    max_total = self.totals.max()\n",
    "    if self._horizontal:\n",
    "        orig_ax.set_xlim(max_total, 0)\n",
    "    for x in ['top', 'left', 'right']:\n",
    "        ax.spines[self._reorient(x)].set_visible(False)\n",
    "    ax.yaxis.set_visible(False)\n",
    "    ax.xaxis.grid(True)\n",
    "    ax.yaxis.grid(False)\n",
    "    ax.patch.set_visible(False)\n"
   ]
  },
  {
   "cell_type": "code",
   "execution_count": null,
   "id": "ed51e241",
   "metadata": {},
   "outputs": [],
   "source": [
    "up.add_stacked_bars('Truth', sum_over='Count', elements=6)\n",
    "print(up._subset_plots)\n",
    "up._subset_plots.pop(0)\n",
    "f = plt.figure()\n",
    "up.plot_shading(plt.axes())"
   ]
  },
  {
   "cell_type": "code",
   "execution_count": null,
   "id": "e1a5154a",
   "metadata": {},
   "outputs": [],
   "source": [
    "with pd.option_context('display.max_rows', None, 'display.max_columns', None):  # more options can be specified also\n",
    "    display(group_data['SNP'])"
   ]
  },
  {
   "cell_type": "code",
   "execution_count": null,
   "id": "7a49c74e",
   "metadata": {},
   "outputs": [],
   "source": [
    "group_combinations[(True,'SNP')].sum()"
   ]
  },
  {
   "cell_type": "markdown",
   "id": "ae3dbb60",
   "metadata": {},
   "source": [
    "### Normal plot for true/false positives separately"
   ]
  },
  {
   "cell_type": "code",
   "execution_count": null,
   "id": "eac0dc6e",
   "metadata": {},
   "outputs": [],
   "source": [
    "up = upsetplot.UpSet(group_combinations[(True,'SNP')], sort_by='degree', sort_categories_by=None, show_percentages=True)\n",
    "frames = up.plot()\n",
    "#frames['intersections'].set_ylim(0, group_combinations[(True, 'SNP')][(False, True, True, True, True)] * 1.1)"
   ]
  },
  {
   "cell_type": "code",
   "execution_count": null,
   "id": "38865f83",
   "metadata": {},
   "outputs": [],
   "source": [
    "upsetplot.plot(group_combinations[(False,'SNP')].drop(tuple([0]*len(kits))), sort_by='degree', sort_categories_by=None)"
   ]
  },
  {
   "cell_type": "code",
   "execution_count": null,
   "id": "4a18cdf8",
   "metadata": {},
   "outputs": [],
   "source": [
    "upsetplot.plot(group_combinations[(True, 'INDEL')].drop(tuple([0]*len(kits))), sort_by='degree', sort_categories_by=None, show_percentages=True)"
   ]
  },
  {
   "cell_type": "code",
   "execution_count": null,
   "id": "3e249d24",
   "metadata": {},
   "outputs": [],
   "source": [
    "upsetplot.plot(group_combinations[(False, 'INDEL')].drop(tuple([0]*len(kits))), sort_by='degree', sort_categories_by=None, show_percentages=True)"
   ]
  },
  {
   "cell_type": "markdown",
   "id": "c7fb7a43",
   "metadata": {},
   "source": [
    "## Test / experimenting"
   ]
  },
  {
   "cell_type": "code",
   "execution_count": null,
   "id": "8dee94ef",
   "metadata": {},
   "outputs": [],
   "source": [
    "subplots = upsetplot.plot(group_combinations[(True, 'INDEL')].drop(tuple([0]*len(kits))), sort_by='cardinality', sort_categories_by=None, min_degree=4)\n",
    "subplots['intersections'].set_yscale('log')"
   ]
  },
  {
   "cell_type": "code",
   "execution_count": null,
   "id": "9a95fb10",
   "metadata": {},
   "outputs": [],
   "source": []
  },
  {
   "cell_type": "code",
   "execution_count": null,
   "id": "5dc12e93",
   "metadata": {},
   "outputs": [],
   "source": [
    "intra_kit_consensus"
   ]
  },
  {
   "cell_type": "code",
   "execution_count": null,
   "id": "17c6f614",
   "metadata": {},
   "outputs": [],
   "source": [
    "kit_numreplicates_trueposcount = [\n",
    "    (kit, num_replicates_called, intra_kit_consensus[kit][num_replicates_called])\n",
    "    for num_replicates_called in [0,1,2,3,4]\n",
    "    for kit in kits\n",
    "]"
   ]
  },
  {
   "cell_type": "code",
   "execution_count": null,
   "id": "2a8c7840",
   "metadata": {},
   "outputs": [],
   "source": [
    "iccdf = pd.DataFrame(data=kit_numreplicates_trueposcount, columns=['Kit', 'NumReplicatesHave', 'NumTpCalls'])"
   ]
  },
  {
   "cell_type": "code",
   "execution_count": null,
   "id": "f506fbaa",
   "metadata": {},
   "outputs": [],
   "source": [
    "sns.barplot(data=iccdf, x='NumReplicatesHave', y='NumTpCalls', hue='Kit')"
   ]
  },
  {
   "cell_type": "markdown",
   "id": "fbb64843",
   "metadata": {},
   "source": [
    "## Export data to csv"
   ]
  },
  {
   "cell_type": "code",
   "execution_count": null,
   "id": "4bab1d68",
   "metadata": {},
   "outputs": [],
   "source": [
    "dataframes = []\n",
    "for (truth, typ) in [(True, 'SNP'), (True, 'INDEL'), (False, 'SNP'), (False, 'INDEL')]:\n",
    "    part_df = group_combinations[(truth, typ)].reset_index().rename(columns={0: 'Count'})\n",
    "    part_df['Truth'] = truth\n",
    "    part_df['Type'] = typ\n",
    "    dataframes.append(part_df)\n",
    "full_df = pd.concat(dataframes)\n",
    "# Uncomment this to write / overwrite the file\n",
    "#full_df.to_csv('overlap-variant-data.csv', index=False)\n",
    "full_df.head(n=1)"
   ]
  },
  {
   "cell_type": "markdown",
   "id": "009d1090",
   "metadata": {},
   "source": [
    "# Load exported data"
   ]
  },
  {
   "cell_type": "code",
   "execution_count": null,
   "id": "04f032f0",
   "metadata": {},
   "outputs": [],
   "source": [
    "full_df = pd.read_csv('overlap-data-all-d.csv')\n",
    "group_combinations2 = {}\n",
    "for (truth, typ) in [(True, 'SNP'), (True, 'INDEL'), (False, 'SNP'), (False, 'INDEL')]:\n",
    "    part_df = full_df.loc[(full_df.Type==typ)&(full_df.Truth==truth)].set_index(kits)\n",
    "    group_combinations2[(truth, typ)] = part_df.Count\n",
    "\n",
    "print(group_combinations2[(True, 'SNP')].head(n=1))"
   ]
  },
  {
   "cell_type": "code",
   "execution_count": null,
   "id": "59f49a15",
   "metadata": {},
   "outputs": [],
   "source": [
    "# Uncomment this to load from file \n",
    "#group_combinations = group_combinations2"
   ]
  },
  {
   "cell_type": "markdown",
   "id": "6463e221",
   "metadata": {},
   "source": [
    "# Testing / Experiment"
   ]
  },
  {
   "cell_type": "code",
   "execution_count": null,
   "id": "eb178df2",
   "metadata": {},
   "outputs": [],
   "source": [
    "løk = pd.DataFrame(\n",
    "    {\n",
    "        #'Kit': ['Nextera', 'NEB', 'Nextera', 'NEB', 'Nextera', 'NEB'],\n",
    "        'Nextera': [True, True, True, False, False, True],\n",
    "        'NEB':   [ False, True, True, False, False, True],\n",
    "        'Type':  ['SNP','SNP','SNP','INDEL','SNP','SNP']\n",
    "    }\n",
    ").set_index(['Nextera', 'NEB'])\n",
    "up = upsetplot.UpSet(løk)\n",
    "up.add_stacked_bars('Type')\n",
    "up.plot()"
   ]
  },
  {
   "cell_type": "code",
   "execution_count": null,
   "id": "c6f418ff",
   "metadata": {},
   "outputs": [],
   "source": [
    "plt.subplots(2, 2)"
   ]
  },
  {
   "cell_type": "code",
   "execution_count": null,
   "id": "8cb0ad3e",
   "metadata": {},
   "outputs": [],
   "source": [
    "(fig, (tops, bots)) = plt.subplots(2, 2)\n",
    "up2 = upsetplot.UpSet(løk)\n",
    "up2.plot_matrix(bots[1])\n",
    "up2.add_stacked_bars('Type')"
   ]
  },
  {
   "cell_type": "code",
   "execution_count": null,
   "id": "6cf14016",
   "metadata": {},
   "outputs": [],
   "source": []
  },
  {
   "cell_type": "markdown",
   "id": "87eed688",
   "metadata": {},
   "source": [
    "# SNP count double check with bcftools"
   ]
  },
  {
   "cell_type": "code",
   "execution_count": null,
   "id": "2e6ecb68",
   "metadata": {},
   "outputs": [],
   "source": [
    "af_names = list(os.path.basename(p).replace(\".vcf.gz\",\"\") for p in af.Path)\n",
    "print(\" \".join(af_names))"
   ]
  },
  {
   "cell_type": "raw",
   "id": "4ab274ab",
   "metadata": {},
   "source": [
    "for p in Kapa-100ng-2 Kapa-100ng-3 Quanta-100ng-4 Nextera-100ng-4 NEB-100ng-4 Swift2S-100ng-4 Kapa-100ng-1 Quanta-100ng-1 NEB-100ng-2 Nextera-100ng-2 Swift2S-100ng-2 NEB-100ng-3 Nextera-100ng-3 Swift2S-100ng-3 Quanta-100ng-3 Kapa-100ng-4 NEB-100ng-1 Quanta-100ng-2 Nextera-100ng-1 Swift2S-100ng-1\n",
    "do \n",
    "    bcftools view -H -v snps -i 'FORMAT/QQ[1]>-5 && FORMAT/BD[1]==\"FP\"'  d50_variant_analysis/${p}_happy/${p}.vcf.gz |wc -l> tmp-snpcounts/fp-${p}.txt &\n",
    "    bcftools view -H -v snps -i 'FORMAT/QQ[1]>-5 && FORMAT/BD[1]==\"TP\"'  d50_variant_analysis/${p}_happy/${p}.vcf.gz |wc -l> tmp-snpcounts/tp-${p}.txt &\n",
    "done"
   ]
  },
  {
   "cell_type": "code",
   "execution_count": null,
   "id": "1f68828a",
   "metadata": {},
   "outputs": [],
   "source": [
    "af['bcftoolsTpCount'] = [int(open(f\"tmp-snpcounts/tp-{n}.txt\").read().strip()) for n in af_names]\n",
    "af['bcftoolsFpCount'] = [int(open(f\"tmp-snpcounts/fp-{n}.txt\").read().strip()) for n in af_names]\n",
    "print(af.groupby(\"Kit\").bcftoolsTpCount.sum())\n",
    "print(af.groupby(\"Kit\").bcftoolsFpCount.sum())\n",
    "print(af.groupby(\"Kit\").apply(lambda row: row.bcftoolsTpCount.sum() / (row.bcftoolsTpCount.sum() + row.bcftoolsFpCount.sum())))"
   ]
  },
  {
   "cell_type": "code",
   "execution_count": null,
   "id": "646ea3d3",
   "metadata": {},
   "outputs": [],
   "source": []
  }
 ],
 "metadata": {
  "kernelspec": {
   "display_name": "Python 3 (ipykernel)",
   "language": "python",
   "name": "python3"
  },
  "language_info": {
   "codemirror_mode": {
    "name": "ipython",
    "version": 3
   },
   "file_extension": ".py",
   "mimetype": "text/x-python",
   "name": "python",
   "nbconvert_exporter": "python",
   "pygments_lexer": "ipython3",
   "version": "3.7.12"
  }
 },
 "nbformat": 4,
 "nbformat_minor": 5
}
