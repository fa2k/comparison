{
 "cells": [
  {
   "cell_type": "markdown",
   "metadata": {},
   "source": [
    "# Read all the hap.py vcfs and compute overlaps"
   ]
  },
  {
   "cell_type": "markdown",
   "metadata": {},
   "source": [
    "Needs an environment with pyvcf and other anaconda packages.\n",
    "\n",
    "Because it needs pyvcf, the dependencies dictate that it will have an older version of seaborn and others."
   ]
  },
  {
   "cell_type": "code",
   "execution_count": 1,
   "metadata": {},
   "outputs": [],
   "source": [
    "import vcf\n",
    "import vcf.utils\n",
    "import glob\n",
    "import re\n",
    "import pandas as pd\n",
    "import upsetplot\n",
    "import seaborn as sns\n",
    "import matplotlib.pyplot as plt\n",
    "import os\n",
    "import numpy as np"
   ]
  },
  {
   "cell_type": "markdown",
   "metadata": {},
   "source": [
    "## Read metadata"
   ]
  },
  {
   "cell_type": "code",
   "execution_count": 2,
   "metadata": {},
   "outputs": [],
   "source": [
    "paths = glob.glob(\"d50_variant_analysis/*/*vcf.gz\")"
   ]
  },
  {
   "cell_type": "code",
   "execution_count": 3,
   "metadata": {},
   "outputs": [],
   "source": [
    "names, kits, concs, replicates = zip(*[\n",
    "    re.match(r\".*/(([A-Za-z0-9]+)-(\\d+ng)-(\\d))\\.vcf\\.gz\", path).groups()\n",
    "    for path in paths\n",
    "])"
   ]
  },
  {
   "cell_type": "markdown",
   "metadata": {},
   "source": [
    "## Data frame for metadata summary"
   ]
  },
  {
   "cell_type": "code",
   "execution_count": 4,
   "metadata": {},
   "outputs": [],
   "source": [
    "df = pd.DataFrame({'Name': names, 'Kit': kits, 'Conc': concs, 'Replicate': replicates, 'Path': paths})"
   ]
  },
  {
   "cell_type": "code",
   "execution_count": 5,
   "metadata": {},
   "outputs": [
    {
     "data": {
      "text/html": [
       "<div>\n",
       "<style scoped>\n",
       "    .dataframe tbody tr th:only-of-type {\n",
       "        vertical-align: middle;\n",
       "    }\n",
       "\n",
       "    .dataframe tbody tr th {\n",
       "        vertical-align: top;\n",
       "    }\n",
       "\n",
       "    .dataframe thead th {\n",
       "        text-align: right;\n",
       "    }\n",
       "</style>\n",
       "<table border=\"1\" class=\"dataframe\">\n",
       "  <thead>\n",
       "    <tr style=\"text-align: right;\">\n",
       "      <th></th>\n",
       "      <th>Name</th>\n",
       "      <th>Kit</th>\n",
       "      <th>Conc</th>\n",
       "      <th>Replicate</th>\n",
       "      <th>Path</th>\n",
       "    </tr>\n",
       "  </thead>\n",
       "  <tbody>\n",
       "    <tr>\n",
       "      <th>0</th>\n",
       "      <td>Kapa-10ng-2</td>\n",
       "      <td>Kapa</td>\n",
       "      <td>10ng</td>\n",
       "      <td>2</td>\n",
       "      <td>d50_variant_analysis/Kapa-10ng-2_happy/Kapa-10...</td>\n",
       "    </tr>\n",
       "    <tr>\n",
       "      <th>1</th>\n",
       "      <td>Kapa-100ng-2</td>\n",
       "      <td>Kapa</td>\n",
       "      <td>100ng</td>\n",
       "      <td>2</td>\n",
       "      <td>d50_variant_analysis/Kapa-100ng-2_happy/Kapa-1...</td>\n",
       "    </tr>\n",
       "    <tr>\n",
       "      <th>2</th>\n",
       "      <td>NEB-10ng-2</td>\n",
       "      <td>NEB</td>\n",
       "      <td>10ng</td>\n",
       "      <td>2</td>\n",
       "      <td>d50_variant_analysis/NEB-10ng-2_happy/NEB-10ng...</td>\n",
       "    </tr>\n",
       "    <tr>\n",
       "      <th>3</th>\n",
       "      <td>Swift2S-10ng-2</td>\n",
       "      <td>Swift2S</td>\n",
       "      <td>10ng</td>\n",
       "      <td>2</td>\n",
       "      <td>d50_variant_analysis/Swift2S-10ng-2_happy/Swif...</td>\n",
       "    </tr>\n",
       "    <tr>\n",
       "      <th>4</th>\n",
       "      <td>Swiftlong-10ng-1</td>\n",
       "      <td>Swiftlong</td>\n",
       "      <td>10ng</td>\n",
       "      <td>1</td>\n",
       "      <td>d50_variant_analysis/Swiftlong-10ng-1_happy/Sw...</td>\n",
       "    </tr>\n",
       "  </tbody>\n",
       "</table>\n",
       "</div>"
      ],
      "text/plain": [
       "               Name        Kit   Conc Replicate  \\\n",
       "0       Kapa-10ng-2       Kapa   10ng         2   \n",
       "1      Kapa-100ng-2       Kapa  100ng         2   \n",
       "2        NEB-10ng-2        NEB   10ng         2   \n",
       "3    Swift2S-10ng-2    Swift2S   10ng         2   \n",
       "4  Swiftlong-10ng-1  Swiftlong   10ng         1   \n",
       "\n",
       "                                                Path  \n",
       "0  d50_variant_analysis/Kapa-10ng-2_happy/Kapa-10...  \n",
       "1  d50_variant_analysis/Kapa-100ng-2_happy/Kapa-1...  \n",
       "2  d50_variant_analysis/NEB-10ng-2_happy/NEB-10ng...  \n",
       "3  d50_variant_analysis/Swift2S-10ng-2_happy/Swif...  \n",
       "4  d50_variant_analysis/Swiftlong-10ng-1_happy/Sw...  "
      ]
     },
     "execution_count": 5,
     "metadata": {},
     "output_type": "execute_result"
    }
   ],
   "source": [
    "df.head()"
   ]
  },
  {
   "cell_type": "markdown",
   "metadata": {},
   "source": [
    "### Only analyse 100 ng data"
   ]
  },
  {
   "cell_type": "code",
   "execution_count": 6,
   "metadata": {},
   "outputs": [],
   "source": [
    "# af = analysis data frame\n",
    "af = df[(df.Conc=='100ng')&(df.Kit!=\"Swiftlong\")].copy()"
   ]
  },
  {
   "cell_type": "code",
   "execution_count": 7,
   "metadata": {},
   "outputs": [
    {
     "name": "stdout",
     "output_type": "stream",
     "text": [
      "['Nextera', 'Kapa', 'Swift2S', 'NEB', 'Quanta']\n"
     ]
    }
   ],
   "source": [
    "kits = list(set(af.Kit))\n",
    "print(kits)"
   ]
  },
  {
   "cell_type": "markdown",
   "metadata": {},
   "source": [
    "# Set it here, people:"
   ]
  },
  {
   "cell_type": "code",
   "execution_count": 29,
   "metadata": {},
   "outputs": [],
   "source": [
    "MINIMUM_NUM_REPLICATES = 2"
   ]
  },
  {
   "cell_type": "code",
   "execution_count": null,
   "metadata": {},
   "outputs": [],
   "source": []
  },
  {
   "cell_type": "markdown",
   "metadata": {},
   "source": [
    "### Find quality cut-offs for picking N true positives"
   ]
  },
  {
   "cell_type": "code",
   "execution_count": 9,
   "metadata": {},
   "outputs": [
    {
     "name": "stdout",
     "output_type": "stream",
     "text": [
      "Analysing 4 files for kit Kapa .\n",
      "Kit Kapa  - Processed 5288817 rows.\n",
      "Kit Kapa QQ > -16.118 ( 2717780  variants)\n",
      "Kit Kapa QQ > -2.935 ( 2700000 variants)\n",
      "Analysing 4 files for kit NEB .\n",
      "Kit NEB  - Processed 5504887 rows.\n",
      "Kit NEB QQ > -16.118 ( 2743262  variants)\n",
      "Kit NEB QQ > -2.25 ( 2700000 variants)\n",
      "Analysing 4 files for kit Swift2S .\n",
      "Kit Swift2S  - Processed 5515923 rows.\n",
      "Kit Swift2S QQ > -16.118 ( 2730591  variants)\n",
      "Kit Swift2S QQ > -2.466 ( 2700000 variants)\n",
      "Analysing 4 files for kit Quanta .\n",
      "Kit Quanta  - Processed 5396280 rows.\n",
      "Kit Quanta QQ > -16.118 ( 2724454  variants)\n",
      "Kit Quanta QQ > -2.617 ( 2700000 variants)\n",
      "Analysing 4 files for kit Nextera .\n",
      "Kit Nextera  - Processed 5093068 rows.\n",
      "Kit Nextera QQ > -16.118 ( 2701510  variants)\n",
      "Kit Nextera QQ > -5.141 ( 2700000 variants)\n"
     ]
    }
   ],
   "source": [
    "# Nextera @ QQ>-5: 11269522\n",
    "N = 2_800_000\n",
    "N2 = 2_700_000\n",
    "nbatch = 10000\n",
    "q_cuts = []\n",
    "q_n2 = []\n",
    "i=0\n",
    "for kit in kits:\n",
    "    #break # Skip this loop -- computed values for normalisation mode \"d\" given below\n",
    "    readers = [vcf.Reader(filename=path) for path in af[af.Kit==kit].Path]\n",
    "    print(\"Analysing\", len(readers), \"files for kit\", kit, \".\")\n",
    "    qvals = np.array([])\n",
    "    ibatch = 0\n",
    "    n_rows = 0\n",
    "    batch = np.zeros(nbatch)\n",
    "    for variants in vcf.utils.walk_together(*readers):\n",
    "        n_rows += 1\n",
    "        if any(var.samples[0].data.BVT == 'SNP' for var in variants if var):\n",
    "            replicates_qvals = sorted([var.samples[1].data.QQ for var in variants\n",
    "                     if var and var.samples[1].data.BD=='TP'])\n",
    "            if len(replicates_qvals) > 2:\n",
    "                batch[ibatch] = replicates_qvals[-3]\n",
    "                ibatch += 1\n",
    "                if ibatch == nbatch:\n",
    "                    ii = np.searchsorted(qvals, batch)\n",
    "                    qvals = np.insert(qvals, ii, batch)[-(N+1):]\n",
    "                    ibatch = 0\n",
    "    ii = np.searchsorted(qvals, batch[0:ibatch])\n",
    "    qvals = np.insert(qvals, ii, batch[0:ibatch])[-(N+1):]\n",
    "    print('Kit', kit, ' - Processed', n_rows, 'rows.')\n",
    "    print('Kit', kit, 'QQ >', qvals[0], \"(\", len(qvals)-1, \" variants)\")\n",
    "    q_cuts.append(qvals[0])\n",
    "    if len(qvals) > N2+1:\n",
    "        print('Kit', kit, 'QQ >', qvals[-(N2+1)], \"(\", N2, \"variants)\")\n",
    "        q_n2.append(qvals[-(N2+1)])"
   ]
  },
  {
   "cell_type": "code",
   "execution_count": 8,
   "metadata": {},
   "outputs": [
    {
     "ename": "NameError",
     "evalue": "name 'q_cuts' is not defined",
     "output_type": "error",
     "traceback": [
      "\u001b[0;31m---------------------------------------------------------------------------\u001b[0m",
      "\u001b[0;31mNameError\u001b[0m                                 Traceback (most recent call last)",
      "\u001b[0;32m<ipython-input-8-9f58f60ab14b>\u001b[0m in \u001b[0;36m<module>\u001b[0;34m\u001b[0m\n\u001b[0;32m----> 1\u001b[0;31m \u001b[0mprint\u001b[0m\u001b[0;34m(\u001b[0m\u001b[0;34m\"q_cuts =\"\u001b[0m\u001b[0;34m,\u001b[0m \u001b[0mrepr\u001b[0m\u001b[0;34m(\u001b[0m\u001b[0mq_cuts\u001b[0m\u001b[0;34m)\u001b[0m\u001b[0;34m)\u001b[0m\u001b[0;34m\u001b[0m\u001b[0;34m\u001b[0m\u001b[0m\n\u001b[0m\u001b[1;32m      2\u001b[0m \u001b[0mprint\u001b[0m\u001b[0;34m(\u001b[0m\u001b[0;34m\"q_n2 =\"\u001b[0m\u001b[0;34m,\u001b[0m \u001b[0mrepr\u001b[0m\u001b[0;34m(\u001b[0m\u001b[0mq_n2\u001b[0m\u001b[0;34m)\u001b[0m\u001b[0;34m)\u001b[0m\u001b[0;34m\u001b[0m\u001b[0;34m\u001b[0m\u001b[0m\n",
      "\u001b[0;31mNameError\u001b[0m: name 'q_cuts' is not defined"
     ]
    }
   ],
   "source": [
    "print(\"q_cuts =\", repr(q_cuts))\n",
    "print(\"q_n2 =\", repr(q_n2))"
   ]
  },
  {
   "cell_type": "markdown",
   "metadata": {},
   "source": [
    "## Notes\n",
    "\n",
    "### >2 replicates; 2.8M & 2.7M cut-offs ( 2.8 didn't have enough )\n",
    "\n",
    "    q_cuts = [-0.966, -0.859, -0.962, -1.029, -0.905]\n",
    "    q_n2 = [-0.142, -0.125, -0.218, 0.001, -0.148]\n",
    "\n"
   ]
  },
  {
   "cell_type": "code",
   "execution_count": 9,
   "metadata": {},
   "outputs": [],
   "source": [
    "## OVERRIDING IT HERE!\n",
    "q_n2 = [-0.142, -0.125, -0.218, 0.001, -0.148]\n",
    "\n",
    "\n",
    "#qq_cuts_dict = {}\n",
    "#qq_cuts_dict['Kapa'] = -1.6\n",
    "#qq_cuts_dict['NEB'] = -1.595\n",
    "#qq_cuts_dict['Swift2S'] = -1.603\n",
    "#qq_cuts_dict['Nextera'] = -2.308\n",
    "#qq_cuts_dict['Quanta'] = -1.998\n",
    "qq_cuts_dict = dict(zip(kits, q_n2))"
   ]
  },
  {
   "cell_type": "markdown",
   "metadata": {},
   "source": [
    "## Make a place to hold the counts\n",
    "\n",
    "`group_combinations`\n",
    "\n",
    "| Truth | Type  | Value |\n",
    "|-------|-------|-------|\n",
    "| True  | SNP   | Series counts |\n",
    "| False | SNP   | Series counts |\n",
    "| True  | INDEL | Series counts |\n",
    "| False | INDEL | Series counts |\n",
    "\n",
    "Series counts are series containing the counts of each combination of callers. The indexes are MultiIndexes with one level for each kit, with value True if the variant is called, False otherwise."
   ]
  },
  {
   "cell_type": "code",
   "execution_count": 10,
   "metadata": {},
   "outputs": [],
   "source": [
    "group_counts_idx = pd.MultiIndex.from_product([[True,False] for _ in kits], names=kits)\n",
    "types = ['SNP', 'INDEL'] # May need to refactor if we're to separate indel types"
   ]
  },
  {
   "cell_type": "code",
   "execution_count": 11,
   "metadata": {},
   "outputs": [
    {
     "data": {
      "text/plain": [
       "['Nextera', 'Kapa', 'Swift2S', 'NEB', 'Quanta']"
      ]
     },
     "execution_count": 11,
     "metadata": {},
     "output_type": "execute_result"
    }
   ],
   "source": [
    "kits"
   ]
  },
  {
   "cell_type": "markdown",
   "metadata": {},
   "source": [
    "## VCF Reading loop"
   ]
  },
  {
   "cell_type": "code",
   "execution_count": 30,
   "metadata": {},
   "outputs": [
    {
     "name": "stdout",
     "output_type": "stream",
     "text": [
      "['Kapa', 'Kapa', 'Quanta', 'Nextera', 'NEB', 'Swift2S', 'Kapa', 'Quanta', 'NEB', 'Nextera', 'Swift2S', 'NEB', 'Nextera', 'Swift2S', 'Quanta', 'Kapa', 'NEB', 'Quanta', 'Nextera', 'Swift2S']\n",
      "kapa variants TP found 46542\n",
      "11900000 variants remaining...\n",
      "kapa variants TP found 101282\n",
      "11800000 variants remaining...\n",
      "kapa variants TP found 149975\n",
      "11700000 variants remaining...\n",
      "kapa variants TP found 173978\n",
      "11600000 variants remaining...\n",
      "kapa variants TP found 230537\n",
      "11500000 variants remaining...\n",
      "kapa variants TP found 286565\n",
      "11400000 variants remaining...\n",
      "kapa variants TP found 343147\n",
      "11300000 variants remaining...\n",
      "kapa variants TP found 387069\n",
      "11200000 variants remaining...\n",
      "kapa variants TP found 440160\n",
      "11100000 variants remaining...\n",
      "kapa variants TP found 497655\n",
      "11000000 variants remaining...\n",
      "kapa variants TP found 554851\n",
      "10900000 variants remaining...\n",
      "kapa variants TP found 605502\n",
      "10800000 variants remaining...\n",
      "kapa variants TP found 663672\n",
      "10700000 variants remaining...\n",
      "kapa variants TP found 718533\n",
      "10600000 variants remaining...\n",
      "kapa variants TP found 769828\n",
      "10500000 variants remaining...\n",
      "kapa variants TP found 822282\n",
      "10400000 variants remaining...\n",
      "kapa variants TP found 864665\n",
      "10300000 variants remaining...\n",
      "kapa variants TP found 923472\n",
      "10200000 variants remaining...\n",
      "kapa variants TP found 984070\n",
      "10100000 variants remaining...\n",
      "kapa variants TP found 1038181\n",
      "10000000 variants remaining...\n",
      "kapa variants TP found 1093014\n",
      "9900000 variants remaining...\n",
      "kapa variants TP found 1138707\n",
      "9800000 variants remaining...\n",
      "kapa variants TP found 1193586\n",
      "9700000 variants remaining...\n",
      "kapa variants TP found 1247893\n",
      "9600000 variants remaining...\n",
      "kapa variants TP found 1288690\n",
      "9500000 variants remaining...\n",
      "kapa variants TP found 1344234\n",
      "9400000 variants remaining...\n",
      "kapa variants TP found 1381147\n",
      "9300000 variants remaining...\n",
      "kapa variants TP found 1433492\n",
      "9200000 variants remaining...\n",
      "kapa variants TP found 1485805\n",
      "9100000 variants remaining...\n",
      "kapa variants TP found 1545660\n",
      "9000000 variants remaining...\n"
     ]
    },
    {
     "ename": "KeyboardInterrupt",
     "evalue": "",
     "output_type": "error",
     "traceback": [
      "\u001b[0;31m---------------------------------------------------------------------------\u001b[0m",
      "\u001b[0;31mKeyboardInterrupt\u001b[0m                         Traceback (most recent call last)",
      "\u001b[0;32m/tmp/ipykernel_585352/3131475584.py\u001b[0m in \u001b[0;36m<module>\u001b[0;34m\u001b[0m\n\u001b[1;32m     16\u001b[0m \u001b[0mtp_counters\u001b[0m \u001b[0;34m=\u001b[0m \u001b[0;34m[\u001b[0m\u001b[0;36m0\u001b[0m\u001b[0;34m]\u001b[0m \u001b[0;34m*\u001b[0m \u001b[0mlen\u001b[0m\u001b[0;34m(\u001b[0m\u001b[0mreaders\u001b[0m\u001b[0;34m)\u001b[0m\u001b[0;34m\u001b[0m\u001b[0;34m\u001b[0m\u001b[0m\n\u001b[1;32m     17\u001b[0m \u001b[0mn_kap_ctr\u001b[0m \u001b[0;34m=\u001b[0m \u001b[0;36m0\u001b[0m\u001b[0;34m\u001b[0m\u001b[0;34m\u001b[0m\u001b[0m\n\u001b[0;32m---> 18\u001b[0;31m \u001b[0;32mfor\u001b[0m \u001b[0mvariants\u001b[0m \u001b[0;32min\u001b[0m \u001b[0mvcf\u001b[0m\u001b[0;34m.\u001b[0m\u001b[0mutils\u001b[0m\u001b[0;34m.\u001b[0m\u001b[0mwalk_together\u001b[0m\u001b[0;34m(\u001b[0m\u001b[0;34m*\u001b[0m\u001b[0mreaders\u001b[0m\u001b[0;34m)\u001b[0m\u001b[0;34m:\u001b[0m\u001b[0;34m\u001b[0m\u001b[0;34m\u001b[0m\u001b[0m\n\u001b[0m\u001b[1;32m     19\u001b[0m     \u001b[0;32mif\u001b[0m \u001b[0mabort\u001b[0m \u001b[0;34m==\u001b[0m \u001b[0;36m0\u001b[0m\u001b[0;34m:\u001b[0m\u001b[0;34m\u001b[0m\u001b[0;34m\u001b[0m\u001b[0m\n\u001b[1;32m     20\u001b[0m         \u001b[0;32mbreak\u001b[0m\u001b[0;34m\u001b[0m\u001b[0;34m\u001b[0m\u001b[0m\n",
      "\u001b[0;32m/applications/anaconda3/envs/pyvcf/lib/python3.7/site-packages/vcf/utils.py\u001b[0m in \u001b[0;36mwalk_together\u001b[0;34m(*readers, **kwargs)\u001b[0m\n\u001b[1;32m     50\u001b[0m         \u001b[0;32mfor\u001b[0m \u001b[0mi\u001b[0m \u001b[0;32min\u001b[0m \u001b[0mmin_k_idxs\u001b[0m\u001b[0;34m:\u001b[0m\u001b[0;34m\u001b[0m\u001b[0;34m\u001b[0m\u001b[0m\n\u001b[1;32m     51\u001b[0m             \u001b[0;32mtry\u001b[0m\u001b[0;34m:\u001b[0m\u001b[0;34m\u001b[0m\u001b[0;34m\u001b[0m\u001b[0m\n\u001b[0;32m---> 52\u001b[0;31m                 \u001b[0mnexts\u001b[0m\u001b[0;34m[\u001b[0m\u001b[0mi\u001b[0m\u001b[0;34m]\u001b[0m \u001b[0;34m=\u001b[0m \u001b[0mnext\u001b[0m\u001b[0;34m(\u001b[0m\u001b[0mreaders\u001b[0m\u001b[0;34m[\u001b[0m\u001b[0mi\u001b[0m\u001b[0;34m]\u001b[0m\u001b[0;34m)\u001b[0m\u001b[0;34m\u001b[0m\u001b[0;34m\u001b[0m\u001b[0m\n\u001b[0m\u001b[1;32m     53\u001b[0m             \u001b[0;32mexcept\u001b[0m \u001b[0mStopIteration\u001b[0m\u001b[0;34m:\u001b[0m\u001b[0;34m\u001b[0m\u001b[0;34m\u001b[0m\u001b[0m\n\u001b[1;32m     54\u001b[0m                 \u001b[0mnexts\u001b[0m\u001b[0;34m[\u001b[0m\u001b[0mi\u001b[0m\u001b[0;34m]\u001b[0m \u001b[0;34m=\u001b[0m \u001b[0;32mNone\u001b[0m\u001b[0;34m\u001b[0m\u001b[0;34m\u001b[0m\u001b[0m\n",
      "\u001b[0;32m/applications/anaconda3/envs/pyvcf/lib/python3.7/site-packages/vcf/parser.py\u001b[0m in \u001b[0;36m__next__\u001b[0;34m(self)\u001b[0m\n\u001b[1;32m    541\u001b[0m         \u001b[0;34m'''Return the next record in the file.'''\u001b[0m\u001b[0;34m\u001b[0m\u001b[0;34m\u001b[0m\u001b[0m\n\u001b[1;32m    542\u001b[0m         \u001b[0mline\u001b[0m \u001b[0;34m=\u001b[0m \u001b[0mnext\u001b[0m\u001b[0;34m(\u001b[0m\u001b[0mself\u001b[0m\u001b[0;34m.\u001b[0m\u001b[0mreader\u001b[0m\u001b[0;34m)\u001b[0m\u001b[0;34m\u001b[0m\u001b[0;34m\u001b[0m\u001b[0m\n\u001b[0;32m--> 543\u001b[0;31m         \u001b[0mrow\u001b[0m \u001b[0;34m=\u001b[0m \u001b[0mself\u001b[0m\u001b[0;34m.\u001b[0m\u001b[0m_row_pattern\u001b[0m\u001b[0;34m.\u001b[0m\u001b[0msplit\u001b[0m\u001b[0;34m(\u001b[0m\u001b[0mline\u001b[0m\u001b[0;34m.\u001b[0m\u001b[0mrstrip\u001b[0m\u001b[0;34m(\u001b[0m\u001b[0;34m)\u001b[0m\u001b[0;34m)\u001b[0m\u001b[0;34m\u001b[0m\u001b[0;34m\u001b[0m\u001b[0m\n\u001b[0m\u001b[1;32m    544\u001b[0m         \u001b[0mchrom\u001b[0m \u001b[0;34m=\u001b[0m \u001b[0mrow\u001b[0m\u001b[0;34m[\u001b[0m\u001b[0;36m0\u001b[0m\u001b[0;34m]\u001b[0m\u001b[0;34m\u001b[0m\u001b[0;34m\u001b[0m\u001b[0m\n\u001b[1;32m    545\u001b[0m         \u001b[0;32mif\u001b[0m \u001b[0mself\u001b[0m\u001b[0;34m.\u001b[0m\u001b[0m_prepend_chr\u001b[0m\u001b[0;34m:\u001b[0m\u001b[0;34m\u001b[0m\u001b[0;34m\u001b[0m\u001b[0m\n",
      "\u001b[0;31mKeyboardInterrupt\u001b[0m: "
     ]
    }
   ],
   "source": [
    "kits_readers = [(row.Kit, vcf.Reader(filename=row.Path)) for _, row in af.iterrows()]\n",
    "kits_in_order, readers = zip(*kits_readers)\n",
    "\n",
    "print(list(kits_in_order))\n",
    "\n",
    "abort = 12000000\n",
    "#abort = 200000000\n",
    "\n",
    "group_combinations = {\n",
    "    (truth, typ): pd.Series(index=group_counts_idx, dtype='uint32')\n",
    "    for typ in types\n",
    "    for truth in [True, False]\n",
    "    }\n",
    "intra_kit_consensus = {kitname: [0, 0, 0, 0, 0] for kitname in kits}\n",
    "\n",
    "tp_counters = [0] * len(readers)\n",
    "n_kap_ctr = 0\n",
    "for variants in vcf.utils.walk_together(*readers):\n",
    "    if abort == 0:\n",
    "        break\n",
    "    else:\n",
    "        abort -= 1\n",
    "        if abort % 100000 == 0:\n",
    "            print(\"kapa variants TP found\", n_kap_ctr)\n",
    "            print(abort, \"variants remaining...\")\n",
    "            \n",
    "    is_true = (variants[0] and variants[0].samples[0].data.BD in ['TP', 'FN']) == True\n",
    "    \n",
    "    if not is_true:\n",
    "        for var in variants:\n",
    "            if var and var.samples[0].data.BD == 'TP':\n",
    "                print(\"WTFingF?\", var.CHROM, var.POS)\n",
    "                raise WTF\n",
    "    \n",
    "    typ = next(iter(\n",
    "        vcall.samples[isam].data.BVT\n",
    "        for vcall in variants\n",
    "        for isam in [0,1]\n",
    "        if vcall and vcall.samples[isam].data.BVT != 'NOCALL'\n",
    "    ))\n",
    "    \n",
    "    var_group_counts = [0] * len(kits)\n",
    "    for vcall, kit in zip(variants, kits_in_order):\n",
    "        if vcall:\n",
    "            #if vcall.samples[1].data.BD == 'TP' and vcall.samples[1].data.QQ > qq_cuts_dict[kit]:\n",
    "            if vcall.samples[1].data.BD == 'TP' and vcall.samples[1].data.QQ > -5:\n",
    "                var_group_counts[kits.index(kit)] += 1\n",
    "    \n",
    "    if is_true:\n",
    "        for i, kit in enumerate(kits):\n",
    "            intra_kit_consensus[kit][var_group_counts[i]] += 1\n",
    "    \n",
    "    combinations_index = tuple(x >= MINIMUM_NUM_REPLICATES for x in var_group_counts)\n",
    "    if is_true and combinations_index[0]: n_kap_ctr+=1\n",
    "    \n",
    "    group_combinations[(is_true, typ)][combinations_index] += 1\n"
   ]
  },
  {
   "cell_type": "markdown",
   "metadata": {},
   "source": [
    "### Total counts"
   ]
  },
  {
   "cell_type": "markdown",
   "metadata": {},
   "source": [
    "## NOTAT: Kjører = 2 replikatter"
   ]
  },
  {
   "cell_type": "code",
   "execution_count": 13,
   "metadata": {},
   "outputs": [
    {
     "name": "stdout",
     "output_type": "stream",
     "text": [
      "kit Nextera    - Total true SNP : 3552195\n",
      "kit Kapa       - Total true SNP : 3545070\n",
      "kit Swift2S    - Total true SNP : 3547075\n",
      "kit NEB        - Total true SNP : 3540117\n",
      "kit Quanta     - Total true SNP : 3549708\n",
      "kit Nextera    - Total true INDEL : 545510\n",
      "kit Kapa       - Total true INDEL : 558526\n",
      "kit Swift2S    - Total true INDEL : 554386\n",
      "kit NEB        - Total true INDEL : 558418\n",
      "kit Quanta     - Total true INDEL : 558259\n"
     ]
    }
   ],
   "source": [
    "for typ in ['SNP', 'INDEL']:\n",
    "    truecalls = group_combinations[(True, typ)]\n",
    "    for kit in kits:\n",
    "        print(f\"kit {kit:9}  - Total true {typ} :\", truecalls[truecalls.index.get_level_values(kit)].sum())"
   ]
  },
  {
   "cell_type": "markdown",
   "metadata": {},
   "source": [
    "### Experimental colouring by true/false"
   ]
  },
  {
   "cell_type": "code",
   "execution_count": 14,
   "metadata": {},
   "outputs": [],
   "source": [
    "# Make TP/FP in single data frame\n",
    "group_data = {}\n",
    "for typ in ['SNP', 'INDEL']:\n",
    "    group_data[typ] = pd.concat([\n",
    "        pd.DataFrame({'Count': group_combinations[(truth, 'SNP')]}).assign(Truth=truth)\n",
    "        for truth in [True, False]\n",
    "    ])"
   ]
  },
  {
   "cell_type": "code",
   "execution_count": 15,
   "metadata": {},
   "outputs": [],
   "source": [
    "#upsetplot.plot(group_combinations.drop(tuple([0]*len(kits))).drop(tuple([1]*len(kits))), sort_by='cardinality')\n",
    "up = upsetplot.UpSet(\n",
    "    group_data['SNP'].drop(tuple([False]*len(kits))),\n",
    "    sort_by='cardinality',\n",
    "    sort_categories_by=None,\n",
    "    sum_over='Count'\n",
    ")"
   ]
  },
  {
   "cell_type": "code",
   "execution_count": 16,
   "metadata": {},
   "outputs": [],
   "source": [
    "totales_orig_save = upsetplot.UpSet.plot_totals"
   ]
  },
  {
   "cell_type": "code",
   "execution_count": 17,
   "metadata": {},
   "outputs": [],
   "source": [
    "def plot_totals_mar(self, ax, hue):\n",
    "    \"\"\"Plot bars indicating total set size\n",
    "    \"\"\"\n",
    "    orig_ax = ax\n",
    "    ax = self._reorient(ax)\n",
    "    recst = sns.barplot()\n",
    "    rects = ax.barh(np.arange(len(self.totals.index.values)), self.totals,\n",
    "                    .5, color=self._facecolor, align='center')\n",
    "    self._label_sizes(ax, rects, 'left' if self._horizontal else 'top')\n",
    "\n",
    "    max_total = self.totals.max()\n",
    "    if self._horizontal:\n",
    "        orig_ax.set_xlim(max_total, 0)\n",
    "    for x in ['top', 'left', 'right']:\n",
    "        ax.spines[self._reorient(x)].set_visible(False)\n",
    "    ax.yaxis.set_visible(False)\n",
    "    ax.xaxis.grid(True)\n",
    "    ax.yaxis.grid(False)\n",
    "    ax.patch.set_visible(False)\n"
   ]
  },
  {
   "cell_type": "code",
   "execution_count": 18,
   "metadata": {},
   "outputs": [
    {
     "name": "stdout",
     "output_type": "stream",
     "text": [
      "[{'type': 'default', 'id': 'intersections', 'elements': 6}, {'type': 'stacked_bars', 'by': 'Truth', 'sum_over': 'Count', 'colors': None, 'title': None, 'id': 'extra1', 'elements': 6}]\n"
     ]
    },
    {
     "data": {
      "image/png": "[encoded data removed]",
      "text/plain": [
       "<Figure size 432x288 with 1 Axes>"
      ]
     },
     "metadata": {},
     "output_type": "display_data"
    }
   ],
   "source": [
    "up.add_stacked_bars('Truth', sum_over='Count', elements=6)\n",
    "print(up._subset_plots)\n",
    "up._subset_plots.pop(0)\n",
    "f = plt.figure()\n",
    "up.plot_shading(plt.axes())"
   ]
  },
  {
   "cell_type": "code",
   "execution_count": 19,
   "metadata": {},
   "outputs": [
    {
     "data": {
      "text/html": [
       "<div>\n",
       "<style scoped>\n",
       "    .dataframe tbody tr th:only-of-type {\n",
       "        vertical-align: middle;\n",
       "    }\n",
       "\n",
       "    .dataframe tbody tr th {\n",
       "        vertical-align: top;\n",
       "    }\n",
       "\n",
       "    .dataframe thead th {\n",
       "        text-align: right;\n",
       "    }\n",
       "</style>\n",
       "<table border=\"1\" class=\"dataframe\">\n",
       "  <thead>\n",
       "    <tr style=\"text-align: right;\">\n",
       "      <th></th>\n",
       "      <th></th>\n",
       "      <th></th>\n",
       "      <th></th>\n",
       "      <th></th>\n",
       "      <th>Count</th>\n",
       "      <th>Truth</th>\n",
       "    </tr>\n",
       "    <tr>\n",
       "      <th>Nextera</th>\n",
       "      <th>Kapa</th>\n",
       "      <th>Swift2S</th>\n",
       "      <th>NEB</th>\n",
       "      <th>Quanta</th>\n",
       "      <th></th>\n",
       "      <th></th>\n",
       "    </tr>\n",
       "  </thead>\n",
       "  <tbody>\n",
       "    <tr>\n",
       "      <th rowspan=\"16\" valign=\"top\">True</th>\n",
       "      <th rowspan=\"8\" valign=\"top\">True</th>\n",
       "      <th rowspan=\"4\" valign=\"top\">True</th>\n",
       "      <th rowspan=\"2\" valign=\"top\">True</th>\n",
       "      <th>True</th>\n",
       "      <td>3404639</td>\n",
       "      <td>True</td>\n",
       "    </tr>\n",
       "    <tr>\n",
       "      <th>False</th>\n",
       "      <td>27307</td>\n",
       "      <td>True</td>\n",
       "    </tr>\n",
       "    <tr>\n",
       "      <th rowspan=\"2\" valign=\"top\">False</th>\n",
       "      <th>True</th>\n",
       "      <td>31689</td>\n",
       "      <td>True</td>\n",
       "    </tr>\n",
       "    <tr>\n",
       "      <th>False</th>\n",
       "      <td>3249</td>\n",
       "      <td>True</td>\n",
       "    </tr>\n",
       "    <tr>\n",
       "      <th rowspan=\"4\" valign=\"top\">False</th>\n",
       "      <th rowspan=\"2\" valign=\"top\">True</th>\n",
       "      <th>True</th>\n",
       "      <td>27975</td>\n",
       "      <td>True</td>\n",
       "    </tr>\n",
       "    <tr>\n",
       "      <th>False</th>\n",
       "      <td>2480</td>\n",
       "      <td>True</td>\n",
       "    </tr>\n",
       "    <tr>\n",
       "      <th rowspan=\"2\" valign=\"top\">False</th>\n",
       "      <th>True</th>\n",
       "      <td>3764</td>\n",
       "      <td>True</td>\n",
       "    </tr>\n",
       "    <tr>\n",
       "      <th>False</th>\n",
       "      <td>2028</td>\n",
       "      <td>True</td>\n",
       "    </tr>\n",
       "    <tr>\n",
       "      <th rowspan=\"8\" valign=\"top\">False</th>\n",
       "      <th rowspan=\"4\" valign=\"top\">True</th>\n",
       "      <th rowspan=\"2\" valign=\"top\">True</th>\n",
       "      <th>True</th>\n",
       "      <td>29231</td>\n",
       "      <td>True</td>\n",
       "    </tr>\n",
       "    <tr>\n",
       "      <th>False</th>\n",
       "      <td>2539</td>\n",
       "      <td>True</td>\n",
       "    </tr>\n",
       "    <tr>\n",
       "      <th rowspan=\"2\" valign=\"top\">False</th>\n",
       "      <th>True</th>\n",
       "      <td>3982</td>\n",
       "      <td>True</td>\n",
       "    </tr>\n",
       "    <tr>\n",
       "      <th>False</th>\n",
       "      <td>2077</td>\n",
       "      <td>True</td>\n",
       "    </tr>\n",
       "    <tr>\n",
       "      <th rowspan=\"4\" valign=\"top\">False</th>\n",
       "      <th rowspan=\"2\" valign=\"top\">True</th>\n",
       "      <th>True</th>\n",
       "      <td>2911</td>\n",
       "      <td>True</td>\n",
       "    </tr>\n",
       "    <tr>\n",
       "      <th>False</th>\n",
       "      <td>1473</td>\n",
       "      <td>True</td>\n",
       "    </tr>\n",
       "    <tr>\n",
       "      <th rowspan=\"2\" valign=\"top\">False</th>\n",
       "      <th>True</th>\n",
       "      <td>2704</td>\n",
       "      <td>True</td>\n",
       "    </tr>\n",
       "    <tr>\n",
       "      <th>False</th>\n",
       "      <td>4147</td>\n",
       "      <td>True</td>\n",
       "    </tr>\n",
       "    <tr>\n",
       "      <th rowspan=\"16\" valign=\"top\">False</th>\n",
       "      <th rowspan=\"8\" valign=\"top\">True</th>\n",
       "      <th rowspan=\"4\" valign=\"top\">True</th>\n",
       "      <th rowspan=\"2\" valign=\"top\">True</th>\n",
       "      <th>True</th>\n",
       "      <td>30483</td>\n",
       "      <td>True</td>\n",
       "    </tr>\n",
       "    <tr>\n",
       "      <th>False</th>\n",
       "      <td>2102</td>\n",
       "      <td>True</td>\n",
       "    </tr>\n",
       "    <tr>\n",
       "      <th rowspan=\"2\" valign=\"top\">False</th>\n",
       "      <th>True</th>\n",
       "      <td>2377</td>\n",
       "      <td>True</td>\n",
       "    </tr>\n",
       "    <tr>\n",
       "      <th>False</th>\n",
       "      <td>1024</td>\n",
       "      <td>True</td>\n",
       "    </tr>\n",
       "    <tr>\n",
       "      <th rowspan=\"4\" valign=\"top\">False</th>\n",
       "      <th rowspan=\"2\" valign=\"top\">True</th>\n",
       "      <th>True</th>\n",
       "      <td>2094</td>\n",
       "      <td>True</td>\n",
       "    </tr>\n",
       "    <tr>\n",
       "      <th>False</th>\n",
       "      <td>941</td>\n",
       "      <td>True</td>\n",
       "    </tr>\n",
       "    <tr>\n",
       "      <th rowspan=\"2\" valign=\"top\">False</th>\n",
       "      <th>True</th>\n",
       "      <td>1184</td>\n",
       "      <td>True</td>\n",
       "    </tr>\n",
       "    <tr>\n",
       "      <th>False</th>\n",
       "      <td>1734</td>\n",
       "      <td>True</td>\n",
       "    </tr>\n",
       "    <tr>\n",
       "      <th rowspan=\"8\" valign=\"top\">False</th>\n",
       "      <th rowspan=\"4\" valign=\"top\">True</th>\n",
       "      <th rowspan=\"2\" valign=\"top\">True</th>\n",
       "      <th>True</th>\n",
       "      <td>2192</td>\n",
       "      <td>True</td>\n",
       "    </tr>\n",
       "    <tr>\n",
       "      <th>False</th>\n",
       "      <td>1079</td>\n",
       "      <td>True</td>\n",
       "    </tr>\n",
       "    <tr>\n",
       "      <th rowspan=\"2\" valign=\"top\">False</th>\n",
       "      <th>True</th>\n",
       "      <td>1223</td>\n",
       "      <td>True</td>\n",
       "    </tr>\n",
       "    <tr>\n",
       "      <th>False</th>\n",
       "      <td>1882</td>\n",
       "      <td>True</td>\n",
       "    </tr>\n",
       "    <tr>\n",
       "      <th rowspan=\"4\" valign=\"top\">False</th>\n",
       "      <th rowspan=\"2\" valign=\"top\">True</th>\n",
       "      <th>True</th>\n",
       "      <td>1103</td>\n",
       "      <td>True</td>\n",
       "    </tr>\n",
       "    <tr>\n",
       "      <th>False</th>\n",
       "      <td>1568</td>\n",
       "      <td>True</td>\n",
       "    </tr>\n",
       "    <tr>\n",
       "      <th rowspan=\"2\" valign=\"top\">False</th>\n",
       "      <th>True</th>\n",
       "      <td>2157</td>\n",
       "      <td>True</td>\n",
       "    </tr>\n",
       "    <tr>\n",
       "      <th>False</th>\n",
       "      <td>14902</td>\n",
       "      <td>True</td>\n",
       "    </tr>\n",
       "    <tr>\n",
       "      <th rowspan=\"16\" valign=\"top\">True</th>\n",
       "      <th rowspan=\"8\" valign=\"top\">True</th>\n",
       "      <th rowspan=\"4\" valign=\"top\">True</th>\n",
       "      <th rowspan=\"2\" valign=\"top\">True</th>\n",
       "      <th>True</th>\n",
       "      <td>606</td>\n",
       "      <td>False</td>\n",
       "    </tr>\n",
       "    <tr>\n",
       "      <th>False</th>\n",
       "      <td>66</td>\n",
       "      <td>False</td>\n",
       "    </tr>\n",
       "    <tr>\n",
       "      <th rowspan=\"2\" valign=\"top\">False</th>\n",
       "      <th>True</th>\n",
       "      <td>56</td>\n",
       "      <td>False</td>\n",
       "    </tr>\n",
       "    <tr>\n",
       "      <th>False</th>\n",
       "      <td>25</td>\n",
       "      <td>False</td>\n",
       "    </tr>\n",
       "    <tr>\n",
       "      <th rowspan=\"4\" valign=\"top\">False</th>\n",
       "      <th rowspan=\"2\" valign=\"top\">True</th>\n",
       "      <th>True</th>\n",
       "      <td>52</td>\n",
       "      <td>False</td>\n",
       "    </tr>\n",
       "    <tr>\n",
       "      <th>False</th>\n",
       "      <td>20</td>\n",
       "      <td>False</td>\n",
       "    </tr>\n",
       "    <tr>\n",
       "      <th rowspan=\"2\" valign=\"top\">False</th>\n",
       "      <th>True</th>\n",
       "      <td>22</td>\n",
       "      <td>False</td>\n",
       "    </tr>\n",
       "    <tr>\n",
       "      <th>False</th>\n",
       "      <td>9</td>\n",
       "      <td>False</td>\n",
       "    </tr>\n",
       "    <tr>\n",
       "      <th rowspan=\"8\" valign=\"top\">False</th>\n",
       "      <th rowspan=\"4\" valign=\"top\">True</th>\n",
       "      <th rowspan=\"2\" valign=\"top\">True</th>\n",
       "      <th>True</th>\n",
       "      <td>31</td>\n",
       "      <td>False</td>\n",
       "    </tr>\n",
       "    <tr>\n",
       "      <th>False</th>\n",
       "      <td>16</td>\n",
       "      <td>False</td>\n",
       "    </tr>\n",
       "    <tr>\n",
       "      <th rowspan=\"2\" valign=\"top\">False</th>\n",
       "      <th>True</th>\n",
       "      <td>13</td>\n",
       "      <td>False</td>\n",
       "    </tr>\n",
       "    <tr>\n",
       "      <th>False</th>\n",
       "      <td>8</td>\n",
       "      <td>False</td>\n",
       "    </tr>\n",
       "    <tr>\n",
       "      <th rowspan=\"4\" valign=\"top\">False</th>\n",
       "      <th rowspan=\"2\" valign=\"top\">True</th>\n",
       "      <th>True</th>\n",
       "      <td>23</td>\n",
       "      <td>False</td>\n",
       "    </tr>\n",
       "    <tr>\n",
       "      <th>False</th>\n",
       "      <td>11</td>\n",
       "      <td>False</td>\n",
       "    </tr>\n",
       "    <tr>\n",
       "      <th rowspan=\"2\" valign=\"top\">False</th>\n",
       "      <th>True</th>\n",
       "      <td>14</td>\n",
       "      <td>False</td>\n",
       "    </tr>\n",
       "    <tr>\n",
       "      <th>False</th>\n",
       "      <td>28</td>\n",
       "      <td>False</td>\n",
       "    </tr>\n",
       "    <tr>\n",
       "      <th rowspan=\"16\" valign=\"top\">False</th>\n",
       "      <th rowspan=\"8\" valign=\"top\">True</th>\n",
       "      <th rowspan=\"4\" valign=\"top\">True</th>\n",
       "      <th rowspan=\"2\" valign=\"top\">True</th>\n",
       "      <th>True</th>\n",
       "      <td>95</td>\n",
       "      <td>False</td>\n",
       "    </tr>\n",
       "    <tr>\n",
       "      <th>False</th>\n",
       "      <td>38</td>\n",
       "      <td>False</td>\n",
       "    </tr>\n",
       "    <tr>\n",
       "      <th rowspan=\"2\" valign=\"top\">False</th>\n",
       "      <th>True</th>\n",
       "      <td>29</td>\n",
       "      <td>False</td>\n",
       "    </tr>\n",
       "    <tr>\n",
       "      <th>False</th>\n",
       "      <td>22</td>\n",
       "      <td>False</td>\n",
       "    </tr>\n",
       "    <tr>\n",
       "      <th rowspan=\"4\" valign=\"top\">False</th>\n",
       "      <th rowspan=\"2\" valign=\"top\">True</th>\n",
       "      <th>True</th>\n",
       "      <td>31</td>\n",
       "      <td>False</td>\n",
       "    </tr>\n",
       "    <tr>\n",
       "      <th>False</th>\n",
       "      <td>17</td>\n",
       "      <td>False</td>\n",
       "    </tr>\n",
       "    <tr>\n",
       "      <th rowspan=\"2\" valign=\"top\">False</th>\n",
       "      <th>True</th>\n",
       "      <td>18</td>\n",
       "      <td>False</td>\n",
       "    </tr>\n",
       "    <tr>\n",
       "      <th>False</th>\n",
       "      <td>34</td>\n",
       "      <td>False</td>\n",
       "    </tr>\n",
       "    <tr>\n",
       "      <th rowspan=\"8\" valign=\"top\">False</th>\n",
       "      <th rowspan=\"4\" valign=\"top\">True</th>\n",
       "      <th rowspan=\"2\" valign=\"top\">True</th>\n",
       "      <th>True</th>\n",
       "      <td>25</td>\n",
       "      <td>False</td>\n",
       "    </tr>\n",
       "    <tr>\n",
       "      <th>False</th>\n",
       "      <td>22</td>\n",
       "      <td>False</td>\n",
       "    </tr>\n",
       "    <tr>\n",
       "      <th rowspan=\"2\" valign=\"top\">False</th>\n",
       "      <th>True</th>\n",
       "      <td>34</td>\n",
       "      <td>False</td>\n",
       "    </tr>\n",
       "    <tr>\n",
       "      <th>False</th>\n",
       "      <td>43</td>\n",
       "      <td>False</td>\n",
       "    </tr>\n",
       "    <tr>\n",
       "      <th rowspan=\"4\" valign=\"top\">False</th>\n",
       "      <th rowspan=\"2\" valign=\"top\">True</th>\n",
       "      <th>True</th>\n",
       "      <td>17</td>\n",
       "      <td>False</td>\n",
       "    </tr>\n",
       "    <tr>\n",
       "      <th>False</th>\n",
       "      <td>34</td>\n",
       "      <td>False</td>\n",
       "    </tr>\n",
       "    <tr>\n",
       "      <th rowspan=\"2\" valign=\"top\">False</th>\n",
       "      <th>True</th>\n",
       "      <td>41</td>\n",
       "      <td>False</td>\n",
       "    </tr>\n",
       "    <tr>\n",
       "      <th>False</th>\n",
       "      <td>1746833</td>\n",
       "      <td>False</td>\n",
       "    </tr>\n",
       "  </tbody>\n",
       "</table>\n",
       "</div>"
      ],
      "text/plain": [
       "                                      Count  Truth\n",
       "Nextera Kapa  Swift2S NEB   Quanta                \n",
       "True    True  True    True  True    3404639   True\n",
       "                            False     27307   True\n",
       "                      False True      31689   True\n",
       "                            False      3249   True\n",
       "              False   True  True      27975   True\n",
       "                            False      2480   True\n",
       "                      False True       3764   True\n",
       "                            False      2028   True\n",
       "        False True    True  True      29231   True\n",
       "                            False      2539   True\n",
       "                      False True       3982   True\n",
       "                            False      2077   True\n",
       "              False   True  True       2911   True\n",
       "                            False      1473   True\n",
       "                      False True       2704   True\n",
       "                            False      4147   True\n",
       "False   True  True    True  True      30483   True\n",
       "                            False      2102   True\n",
       "                      False True       2377   True\n",
       "                            False      1024   True\n",
       "              False   True  True       2094   True\n",
       "                            False       941   True\n",
       "                      False True       1184   True\n",
       "                            False      1734   True\n",
       "        False True    True  True       2192   True\n",
       "                            False      1079   True\n",
       "                      False True       1223   True\n",
       "                            False      1882   True\n",
       "              False   True  True       1103   True\n",
       "                            False      1568   True\n",
       "                      False True       2157   True\n",
       "                            False     14902   True\n",
       "True    True  True    True  True        606  False\n",
       "                            False        66  False\n",
       "                      False True         56  False\n",
       "                            False        25  False\n",
       "              False   True  True         52  False\n",
       "                            False        20  False\n",
       "                      False True         22  False\n",
       "                            False         9  False\n",
       "        False True    True  True         31  False\n",
       "                            False        16  False\n",
       "                      False True         13  False\n",
       "                            False         8  False\n",
       "              False   True  True         23  False\n",
       "                            False        11  False\n",
       "                      False True         14  False\n",
       "                            False        28  False\n",
       "False   True  True    True  True         95  False\n",
       "                            False        38  False\n",
       "                      False True         29  False\n",
       "                            False        22  False\n",
       "              False   True  True         31  False\n",
       "                            False        17  False\n",
       "                      False True         18  False\n",
       "                            False        34  False\n",
       "        False True    True  True         25  False\n",
       "                            False        22  False\n",
       "                      False True         34  False\n",
       "                            False        43  False\n",
       "              False   True  True         17  False\n",
       "                            False        34  False\n",
       "                      False True         41  False\n",
       "                            False   1746833  False"
      ]
     },
     "metadata": {},
     "output_type": "display_data"
    }
   ],
   "source": [
    "with pd.option_context('display.max_rows', None, 'display.max_columns', None):  # more options can be specified also\n",
    "    display(group_data['SNP'])"
   ]
  },
  {
   "cell_type": "code",
   "execution_count": 20,
   "metadata": {},
   "outputs": [
    {
     "data": {
      "text/plain": [
       "3620240"
      ]
     },
     "execution_count": 20,
     "metadata": {},
     "output_type": "execute_result"
    }
   ],
   "source": [
    "group_combinations[(True,'SNP')].sum()"
   ]
  },
  {
   "cell_type": "markdown",
   "metadata": {},
   "source": [
    "### Normal plot for true/false positives separately"
   ]
  },
  {
   "cell_type": "code",
   "execution_count": 21,
   "metadata": {},
   "outputs": [
    {
     "data": {
      "image/png": "[encoded data removed]",
      "text/plain": [
       "<Figure size 1184x352 with 4 Axes>"
      ]
     },
     "metadata": {
      "needs_background": "light"
     },
     "output_type": "display_data"
    }
   ],
   "source": [
    "up = upsetplot.UpSet(group_combinations[(True,'SNP')], sort_by='degree', sort_categories_by=None, show_percentages=True)\n",
    "frames = up.plot()\n",
    "#frames['intersections'].set_ylim(0, group_combinations[(True, 'SNP')][(False, True, True, True, True)] * 1.1)"
   ]
  },
  {
   "cell_type": "code",
   "execution_count": 22,
   "metadata": {},
   "outputs": [
    {
     "data": {
      "text/plain": [
       "{'matrix': <AxesSubplot:>,\n",
       " 'shading': <AxesSubplot:>,\n",
       " 'totals': <AxesSubplot:>,\n",
       " 'intersections': <AxesSubplot:ylabel='Intersection size'>}"
      ]
     },
     "execution_count": 22,
     "metadata": {},
     "output_type": "execute_result"
    },
    {
     "data": {
      "image/png": "[encoded data removed]",
      "text/plain": [
       "<Figure size 1152x352 with 4 Axes>"
      ]
     },
     "metadata": {
      "needs_background": "light"
     },
     "output_type": "display_data"
    }
   ],
   "source": [
    "upsetplot.plot(group_combinations[(False,'SNP')].drop(tuple([0]*len(kits))), sort_by='degree', sort_categories_by=None)"
   ]
  },
  {
   "cell_type": "code",
   "execution_count": 23,
   "metadata": {},
   "outputs": [
    {
     "data": {
      "text/plain": [
       "{'matrix': <AxesSubplot:>,\n",
       " 'shading': <AxesSubplot:>,\n",
       " 'totals': <AxesSubplot:>,\n",
       " 'intersections': <AxesSubplot:ylabel='Intersection size'>}"
      ]
     },
     "execution_count": 23,
     "metadata": {},
     "output_type": "execute_result"
    },
    {
     "data": {
      "image/png": "[encoded data removed]",
      "text/plain": [
       "<Figure size 1184x352 with 4 Axes>"
      ]
     },
     "metadata": {
      "needs_background": "light"
     },
     "output_type": "display_data"
    }
   ],
   "source": [
    "upsetplot.plot(group_combinations[(True, 'INDEL')], sort_by='degree', sort_categories_by=None, show_percentages=True)"
   ]
  },
  {
   "cell_type": "code",
   "execution_count": 24,
   "metadata": {},
   "outputs": [
    {
     "data": {
      "text/plain": [
       "{'matrix': <AxesSubplot:>,\n",
       " 'shading': <AxesSubplot:>,\n",
       " 'totals': <AxesSubplot:>,\n",
       " 'intersections': <AxesSubplot:ylabel='Intersection size'>}"
      ]
     },
     "execution_count": 24,
     "metadata": {},
     "output_type": "execute_result"
    },
    {
     "data": {
      "image/png": "[encoded data removed]",
      "text/plain": [
       "<Figure size 1152x352 with 4 Axes>"
      ]
     },
     "metadata": {
      "needs_background": "light"
     },
     "output_type": "display_data"
    }
   ],
   "source": [
    "upsetplot.plot(group_combinations[(False, 'INDEL')].drop(tuple([0]*len(kits))), sort_by='degree', sort_categories_by=None, show_percentages=True)"
   ]
  },
  {
   "cell_type": "markdown",
   "metadata": {},
   "source": [
    "## Test / experimenting"
   ]
  },
  {
   "cell_type": "code",
   "execution_count": 25,
   "metadata": {},
   "outputs": [
    {
     "data": {
      "image/png": "[encoded data removed]",
      "text/plain": [
       "<Figure size 352x352 with 4 Axes>"
      ]
     },
     "metadata": {
      "needs_background": "light"
     },
     "output_type": "display_data"
    }
   ],
   "source": [
    "subplots = upsetplot.plot(group_combinations[(True, 'INDEL')].drop(tuple([0]*len(kits))), sort_by='cardinality', sort_categories_by=None, min_degree=4)\n",
    "subplots['intersections'].set_yscale('log')"
   ]
  },
  {
   "cell_type": "code",
   "execution_count": null,
   "metadata": {},
   "outputs": [],
   "source": []
  },
  {
   "cell_type": "code",
   "execution_count": null,
   "metadata": {},
   "outputs": [],
   "source": [
    "intra_kit_consensus"
   ]
  },
  {
   "cell_type": "code",
   "execution_count": 26,
   "metadata": {},
   "outputs": [],
   "source": [
    "kit_numreplicates_trueposcount = [\n",
    "    (kit, num_replicates_called, intra_kit_consensus[kit][num_replicates_called])\n",
    "    for num_replicates_called in [0,1,2,3,4]\n",
    "    for kit in kits\n",
    "]"
   ]
  },
  {
   "cell_type": "code",
   "execution_count": 27,
   "metadata": {},
   "outputs": [],
   "source": [
    "iccdf = pd.DataFrame(data=kit_numreplicates_trueposcount, columns=['Kit', 'NumReplicatesHave', 'NumTpCalls'])"
   ]
  },
  {
   "cell_type": "code",
   "execution_count": 28,
   "metadata": {},
   "outputs": [
    {
     "data": {
      "text/plain": [
       "<AxesSubplot:xlabel='NumReplicatesHave', ylabel='NumTpCalls'>"
      ]
     },
     "execution_count": 28,
     "metadata": {},
     "output_type": "execute_result"
    },
    {
     "data": {
      "image/png": "[encoded data removed]",
      "text/plain": [
       "<Figure size 432x288 with 1 Axes>"
      ]
     },
     "metadata": {
      "needs_background": "light"
     },
     "output_type": "display_data"
    }
   ],
   "source": [
    "sns.barplot(data=iccdf, x='NumReplicatesHave', y='NumTpCalls', hue='Kit')"
   ]
  },
  {
   "cell_type": "markdown",
   "metadata": {},
   "source": [
    "## Export data to csv"
   ]
  },
  {
   "cell_type": "code",
   "execution_count": null,
   "metadata": {},
   "outputs": [],
   "source": [
    "dataframes = []\n",
    "for (truth, typ) in [(True, 'SNP'), (True, 'INDEL'), (False, 'SNP'), (False, 'INDEL')]:\n",
    "    part_df = group_combinations[(truth, typ)].reset_index().rename(columns={0: 'Count'})\n",
    "    part_df['Truth'] = truth\n",
    "    part_df['Type'] = typ\n",
    "    dataframes.append(part_df)\n",
    "full_df = pd.concat(dataframes)\n",
    "# Uncomment this to write / overwrite the file\n",
    "#full_df.to_csv('summary-tables/call-intersection-data.csv', index=False)\n",
    "full_df.head(n=1)"
   ]
  },
  {
   "cell_type": "markdown",
   "metadata": {},
   "source": [
    "# Load exported data"
   ]
  },
  {
   "cell_type": "code",
   "execution_count": null,
   "metadata": {},
   "outputs": [],
   "source": [
    "full_df = pd.read_csv('summary-tables/call-intersection-data-d.csv')\n",
    "group_combinations2 = {}\n",
    "for (truth, typ) in [(True, 'SNP'), (True, 'INDEL'), (False, 'SNP'), (False, 'INDEL')]:\n",
    "    part_df = full_df.loc[(full_df.Type==typ)&(full_df.Truth==truth)].set_index(kits)\n",
    "    group_combinations2[(truth, typ)] = part_df.Count\n",
    "\n",
    "print(group_combinations2[(True, 'SNP')].head(n=1))"
   ]
  },
  {
   "cell_type": "code",
   "execution_count": null,
   "metadata": {},
   "outputs": [],
   "source": [
    "# Uncomment this to load from file \n",
    "#group_combinations = group_combinations2"
   ]
  },
  {
   "cell_type": "markdown",
   "metadata": {},
   "source": [
    "# Testing / Experiment"
   ]
  },
  {
   "cell_type": "code",
   "execution_count": null,
   "metadata": {},
   "outputs": [],
   "source": [
    "løk = pd.DataFrame(\n",
    "    {\n",
    "        #'Kit': ['Nextera', 'NEB', 'Nextera', 'NEB', 'Nextera', 'NEB'],\n",
    "        'Nextera': [True, True, True, False, False, True],\n",
    "        'NEB':   [ False, True, True, False, False, True],\n",
    "        'Type':  ['SNP','SNP','SNP','INDEL','SNP','SNP']\n",
    "    }\n",
    ").set_index(['Nextera', 'NEB'])\n",
    "up = upsetplot.UpSet(løk)\n",
    "up.add_stacked_bars('Type')\n",
    "up.plot()"
   ]
  },
  {
   "cell_type": "code",
   "execution_count": null,
   "metadata": {},
   "outputs": [],
   "source": [
    "plt.subplots(2, 2)"
   ]
  },
  {
   "cell_type": "code",
   "execution_count": null,
   "metadata": {},
   "outputs": [],
   "source": [
    "(fig, (tops, bots)) = plt.subplots(2, 2)\n",
    "up2 = upsetplot.UpSet(løk)\n",
    "up2.plot_matrix(bots[1])\n",
    "up2.add_stacked_bars('Type')"
   ]
  },
  {
   "cell_type": "code",
   "execution_count": null,
   "metadata": {},
   "outputs": [],
   "source": []
  },
  {
   "cell_type": "markdown",
   "metadata": {},
   "source": [
    "# SNP count double check with bcftools"
   ]
  },
  {
   "cell_type": "code",
   "execution_count": null,
   "metadata": {},
   "outputs": [],
   "source": [
    "af_names = list(os.path.basename(p).replace(\".vcf.gz\",\"\") for p in af.Path)\n",
    "print(\" \".join(af_names))"
   ]
  },
  {
   "cell_type": "raw",
   "metadata": {},
   "source": [
    "for p in Kapa-100ng-2 Kapa-100ng-3 Quanta-100ng-4 Nextera-100ng-4 NEB-100ng-4 Swift2S-100ng-4 Kapa-100ng-1 Quanta-100ng-1 NEB-100ng-2 Nextera-100ng-2 Swift2S-100ng-2 NEB-100ng-3 Nextera-100ng-3 Swift2S-100ng-3 Quanta-100ng-3 Kapa-100ng-4 NEB-100ng-1 Quanta-100ng-2 Nextera-100ng-1 Swift2S-100ng-1\n",
    "do \n",
    "    bcftools view -H -v snps -i 'FORMAT/QQ[1]>-5 && FORMAT/BD[1]==\"FP\"'  d50_variant_analysis/${p}_happy/${p}.vcf.gz |wc -l> tmp-snpcounts/fp-${p}.txt &\n",
    "    bcftools view -H -v snps -i 'FORMAT/QQ[1]>-5 && FORMAT/BD[1]==\"TP\"'  d50_variant_analysis/${p}_happy/${p}.vcf.gz |wc -l> tmp-snpcounts/tp-${p}.txt &\n",
    "done"
   ]
  },
  {
   "cell_type": "code",
   "execution_count": null,
   "metadata": {},
   "outputs": [],
   "source": [
    "af['bcftoolsTpCount'] = [int(open(f\"tmp-snpcounts/tp-{n}.txt\").read().strip()) for n in af_names]\n",
    "af['bcftoolsFpCount'] = [int(open(f\"tmp-snpcounts/fp-{n}.txt\").read().strip()) for n in af_names]\n",
    "print(af.groupby(\"Kit\").bcftoolsTpCount.sum())\n",
    "print(af.groupby(\"Kit\").bcftoolsFpCount.sum())\n",
    "print(af.groupby(\"Kit\").apply(lambda row: row.bcftoolsTpCount.sum() / (row.bcftoolsTpCount.sum() + row.bcftoolsFpCount.sum())))"
   ]
  },
  {
   "cell_type": "code",
   "execution_count": null,
   "metadata": {},
   "outputs": [],
   "source": []
  }
 ],
 "metadata": {
  "kernelspec": {
   "display_name": "Python 3",
   "language": "python",
   "name": "python3"
  },
  "language_info": {
   "codemirror_mode": {
    "name": "ipython",
    "version": 3
   },
   "file_extension": ".py",
   "mimetype": "text/x-python",
   "name": "python",
   "nbconvert_exporter": "python",
   "pygments_lexer": "ipython3",
   "version": "3.6.10"
  }
 },
 "nbformat": 4,
 "nbformat_minor": 5
}
