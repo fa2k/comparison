{
 "cells": [
  {
   "cell_type": "markdown",
   "id": "9a76f0c0",
   "metadata": {},
   "source": [
    "# Read all the hap.py vcfs and compute overlaps"
   ]
  },
  {
   "cell_type": "markdown",
   "id": "26701ee0",
   "metadata": {},
   "source": [
    "Needs an environment with pyvcf and other anaconda packages.\n",
    "\n",
    "Because it needs pyvcf, the dependencies dictate that it will have an older version of seaborn and others."
   ]
  },
  {
   "cell_type": "code",
   "execution_count": 1,
   "id": "0a2f5cdd",
   "metadata": {},
   "outputs": [],
   "source": [
    "import vcf\n",
    "import vcf.utils\n",
    "import glob\n",
    "import re\n",
    "import pandas as pd\n",
    "import upsetplot\n",
    "import seaborn as sns\n",
    "import matplotlib.pyplot as plt\n",
    "import os\n",
    "import numpy as np"
   ]
  },
  {
   "cell_type": "markdown",
   "id": "f6db2c22",
   "metadata": {},
   "source": [
    "## Read metadata"
   ]
  },
  {
   "cell_type": "code",
   "execution_count": 2,
   "id": "9bb945e0",
   "metadata": {},
   "outputs": [],
   "source": [
    "paths = glob.glob(\"d50_variant_analysis/*/*vcf.gz\")"
   ]
  },
  {
   "cell_type": "code",
   "execution_count": 3,
   "id": "086ad2f4",
   "metadata": {},
   "outputs": [],
   "source": [
    "names, kits, concs, replicates = zip(*[\n",
    "    re.match(r\".*/(([A-Za-z0-9]+)-(\\d+ng)-(\\d))\\.vcf\\.gz\", path).groups()\n",
    "    for path in paths\n",
    "])"
   ]
  },
  {
   "cell_type": "markdown",
   "id": "deb39683",
   "metadata": {},
   "source": [
    "## Data frame for metadata summary"
   ]
  },
  {
   "cell_type": "code",
   "execution_count": 4,
   "id": "8e7aeb1f",
   "metadata": {},
   "outputs": [],
   "source": [
    "df = pd.DataFrame({'Name': names, 'Kit': kits, 'Conc': concs, 'Replicate': replicates, 'Path': paths})"
   ]
  },
  {
   "cell_type": "code",
   "execution_count": 5,
   "id": "685fc148",
   "metadata": {},
   "outputs": [
    {
     "data": {
      "text/html": [
       "<div>\n",
       "<style scoped>\n",
       "    .dataframe tbody tr th:only-of-type {\n",
       "        vertical-align: middle;\n",
       "    }\n",
       "\n",
       "    .dataframe tbody tr th {\n",
       "        vertical-align: top;\n",
       "    }\n",
       "\n",
       "    .dataframe thead th {\n",
       "        text-align: right;\n",
       "    }\n",
       "</style>\n",
       "<table border=\"1\" class=\"dataframe\">\n",
       "  <thead>\n",
       "    <tr style=\"text-align: right;\">\n",
       "      <th></th>\n",
       "      <th>Name</th>\n",
       "      <th>Kit</th>\n",
       "      <th>Conc</th>\n",
       "      <th>Replicate</th>\n",
       "      <th>Path</th>\n",
       "    </tr>\n",
       "  </thead>\n",
       "  <tbody>\n",
       "    <tr>\n",
       "      <th>0</th>\n",
       "      <td>Kapa-10ng-2</td>\n",
       "      <td>Kapa</td>\n",
       "      <td>10ng</td>\n",
       "      <td>2</td>\n",
       "      <td>d50_variant_analysis/Kapa-10ng-2_happy/Kapa-10...</td>\n",
       "    </tr>\n",
       "    <tr>\n",
       "      <th>1</th>\n",
       "      <td>Kapa-100ng-2</td>\n",
       "      <td>Kapa</td>\n",
       "      <td>100ng</td>\n",
       "      <td>2</td>\n",
       "      <td>d50_variant_analysis/Kapa-100ng-2_happy/Kapa-1...</td>\n",
       "    </tr>\n",
       "    <tr>\n",
       "      <th>2</th>\n",
       "      <td>NEB-10ng-2</td>\n",
       "      <td>NEB</td>\n",
       "      <td>10ng</td>\n",
       "      <td>2</td>\n",
       "      <td>d50_variant_analysis/NEB-10ng-2_happy/NEB-10ng...</td>\n",
       "    </tr>\n",
       "    <tr>\n",
       "      <th>3</th>\n",
       "      <td>Swift2S-10ng-2</td>\n",
       "      <td>Swift2S</td>\n",
       "      <td>10ng</td>\n",
       "      <td>2</td>\n",
       "      <td>d50_variant_analysis/Swift2S-10ng-2_happy/Swif...</td>\n",
       "    </tr>\n",
       "    <tr>\n",
       "      <th>4</th>\n",
       "      <td>Swiftlong-10ng-1</td>\n",
       "      <td>Swiftlong</td>\n",
       "      <td>10ng</td>\n",
       "      <td>1</td>\n",
       "      <td>d50_variant_analysis/Swiftlong-10ng-1_happy/Sw...</td>\n",
       "    </tr>\n",
       "  </tbody>\n",
       "</table>\n",
       "</div>"
      ],
      "text/plain": [
       "               Name        Kit   Conc Replicate  \\\n",
       "0       Kapa-10ng-2       Kapa   10ng         2   \n",
       "1      Kapa-100ng-2       Kapa  100ng         2   \n",
       "2        NEB-10ng-2        NEB   10ng         2   \n",
       "3    Swift2S-10ng-2    Swift2S   10ng         2   \n",
       "4  Swiftlong-10ng-1  Swiftlong   10ng         1   \n",
       "\n",
       "                                                Path  \n",
       "0  d50_variant_analysis/Kapa-10ng-2_happy/Kapa-10...  \n",
       "1  d50_variant_analysis/Kapa-100ng-2_happy/Kapa-1...  \n",
       "2  d50_variant_analysis/NEB-10ng-2_happy/NEB-10ng...  \n",
       "3  d50_variant_analysis/Swift2S-10ng-2_happy/Swif...  \n",
       "4  d50_variant_analysis/Swiftlong-10ng-1_happy/Sw...  "
      ]
     },
     "execution_count": 5,
     "metadata": {},
     "output_type": "execute_result"
    }
   ],
   "source": [
    "df.head()"
   ]
  },
  {
   "cell_type": "markdown",
   "id": "450d883e",
   "metadata": {},
   "source": [
    "### Only analyse 100 ng data"
   ]
  },
  {
   "cell_type": "code",
   "execution_count": 6,
   "id": "017426ca",
   "metadata": {},
   "outputs": [],
   "source": [
    "# af = analysis data frame\n",
    "af = df[(df.Conc=='100ng')&(df.Kit!=\"Swiftlong\")].copy()"
   ]
  },
  {
   "cell_type": "code",
   "execution_count": 7,
   "id": "55ba2a39",
   "metadata": {},
   "outputs": [
    {
     "name": "stdout",
     "output_type": "stream",
     "text": [
      "['Quanta', 'Swift2S', 'Kapa', 'NEB', 'Nextera']\n",
      "['Quanta', 'Swift2S', 'Kapa', 'NEB', 'Nextera']\n"
     ]
    }
   ],
   "source": [
    "kits = list(set(af.Kit))\n",
    "print(kits)\n",
    "print(kits[-10:])"
   ]
  },
  {
   "cell_type": "markdown",
   "id": "37940c03",
   "metadata": {},
   "source": [
    "### Find quality cut-offs for picking N true positives"
   ]
  },
  {
   "cell_type": "code",
   "execution_count": 8,
   "id": "9a8207b9",
   "metadata": {},
   "outputs": [
    {
     "name": "stdout",
     "output_type": "stream",
     "text": [
      "Analysing 4 files for kit Quanta .\n",
      "Kit Quanta  - Processed 5396280 rows.\n",
      "Kit Quanta QQ > -0.859 ( 2600000  variants)\n",
      "Kit Quanta QQ > -0.125 ( 2500000 variants)\n",
      "Analysing 4 files for kit Swift2S .\n",
      "Kit Swift2S  - Processed 5515923 rows.\n",
      "Kit Swift2S QQ > -0.905 ( 2600000  variants)\n",
      "Kit Swift2S QQ > -0.148 ( 2500000 variants)\n",
      "Analysing 4 files for kit Kapa .\n",
      "Kit Kapa  - Processed 5288817 rows.\n",
      "Kit Kapa QQ > -0.966 ( 2600000  variants)\n",
      "Kit Kapa QQ > -0.142 ( 2500000 variants)\n",
      "Analysing 4 files for kit NEB .\n",
      "Kit NEB  - Processed 5504887 rows.\n",
      "Kit NEB QQ > -0.962 ( 2600000  variants)\n",
      "Kit NEB QQ > -0.218 ( 2500000 variants)\n",
      "Analysing 4 files for kit Nextera .\n",
      "Kit Nextera  - Processed 5093068 rows.\n",
      "Kit Nextera QQ > -1.029 ( 2600000  variants)\n",
      "Kit Nextera QQ > 0.001 ( 2500000 variants)\n"
     ]
    }
   ],
   "source": [
    "# Nextera @ QQ>-5: 11269522\n",
    "N = 2_600_000\n",
    "N2 = 2_500_000\n",
    "nbatch = 10000\n",
    "q_cuts = []\n",
    "q_n2 = []\n",
    "i=0\n",
    "for kit in kits:\n",
    "    #break # Skip this loop -- computed values for normalisation mode \"d\" given below\n",
    "    readers = [vcf.Reader(filename=path) for path in af[af.Kit==kit].Path]\n",
    "    print(\"Analysing\", len(readers), \"files for kit\", kit, \".\")\n",
    "    qvals = np.array([])\n",
    "    ibatch = 0\n",
    "    n_rows = 0\n",
    "    batch = np.zeros(nbatch)\n",
    "    for variants in vcf.utils.walk_together(*readers):\n",
    "        n_rows += 1\n",
    "        if any(var.samples[0].data.BVT == 'SNP' for var in variants if var):\n",
    "            replicates_qvals = sorted([var.samples[1].data.QQ for var in variants\n",
    "                     if var and var.samples[1].data.BD=='TP'])\n",
    "            if len(replicates_qvals) > 2:\n",
    "                batch[ibatch] = replicates_qvals[-3]\n",
    "                ibatch += 1\n",
    "                if ibatch == nbatch:\n",
    "                    ii = np.searchsorted(qvals, batch)\n",
    "                    qvals = np.insert(qvals, ii, batch)[-(N+1):]\n",
    "                    ibatch = 0\n",
    "    ii = np.searchsorted(qvals, batch[0:ibatch])\n",
    "    qvals = np.insert(qvals, ii, batch[0:ibatch])[-(N+1):]\n",
    "    print('Kit', kit, ' - Processed', n_rows, 'rows.')\n",
    "    print('Kit', kit, 'QQ >', qvals[0], \"(\", len(qvals)-1, \" variants)\")\n",
    "    q_cuts.append(qvals[0])\n",
    "    if len(qvals) > N2+1:\n",
    "        print('Kit', kit, 'QQ >', qvals[-(N2+1)], \"(\", N2, \"variants)\")\n",
    "        q_n2.append(qvals[-(N2+1)])"
   ]
  },
  {
   "cell_type": "raw",
   "id": "3f8557d1",
   "metadata": {},
   "source": [
    "Output saved here for use later:\n",
    "Kit Kapa QQ > -16.118 ( 3081069  variants)\n",
    "Kit Kapa QQ > -1.6 ( 3000000 variants)\n",
    "Kit NEB QQ > -16.118 ( 3105526  variants)\n",
    "Kit NEB QQ > -1.595 ( 3000000 variants)\n",
    "Kit Swift2S QQ > -16.118 ( 3081313  variants)\n",
    "Kit Swift2S QQ > -1.603 ( 3000000 variants)\n",
    "Kit Nextera QQ > -16.118 ( 3024558  variants)\n",
    "Kit Nextera QQ > -2.308 ( 3000000 variants)\n",
    "Kit Quanta QQ > -16.118 ( 3080175  variants)\n",
    "Kit Quanta QQ > -1.998 ( 3000000 variants)"
   ]
  },
  {
   "cell_type": "code",
   "execution_count": 9,
   "id": "7cb955ab",
   "metadata": {},
   "outputs": [],
   "source": [
    "#qq_cuts_dict = {}\n",
    "#qq_cuts_dict['Kapa'] = -1.6\n",
    "#qq_cuts_dict['NEB'] = -1.595\n",
    "#qq_cuts_dict['Swift2S'] = -1.603\n",
    "#qq_cuts_dict['Nextera'] = -2.308\n",
    "#qq_cuts_dict['Quanta'] = -1.998\n",
    "qq_cuts_dict = dict(zip(kits, q_cuts))"
   ]
  },
  {
   "cell_type": "markdown",
   "id": "4e7a83a5",
   "metadata": {},
   "source": [
    "## Make a place to hold the counts\n",
    "\n",
    "`group_combinations`\n",
    "\n",
    "| Truth | Type  | Value |\n",
    "|-------|-------|-------|\n",
    "| True  | SNP   | Series counts |\n",
    "| False | SNP   | Series counts |\n",
    "| True  | INDEL | Series counts |\n",
    "| False | INDEL | Series counts |\n",
    "\n",
    "Series counts are series containing the counts of each combination of callers. The indexes are MultiIndexes with one level for each kit, with value True if the variant is called, False otherwise."
   ]
  },
  {
   "cell_type": "code",
   "execution_count": 10,
   "id": "192a0bce",
   "metadata": {},
   "outputs": [],
   "source": [
    "group_counts_idx = pd.MultiIndex.from_product([[True,False] for _ in kits], names=kits)\n",
    "types = ['SNP', 'INDEL'] # May need to refactor if we're to separate indel types"
   ]
  },
  {
   "cell_type": "code",
   "execution_count": 11,
   "id": "28538b70",
   "metadata": {},
   "outputs": [
    {
     "data": {
      "text/plain": [
       "['Quanta', 'Swift2S', 'Kapa', 'NEB', 'Nextera']"
      ]
     },
     "execution_count": 11,
     "metadata": {},
     "output_type": "execute_result"
    }
   ],
   "source": [
    "kits"
   ]
  },
  {
   "cell_type": "markdown",
   "id": "e12820f8",
   "metadata": {},
   "source": [
    "## VCF Reading loop"
   ]
  },
  {
   "cell_type": "code",
   "execution_count": null,
   "id": "f23514c3",
   "metadata": {},
   "outputs": [
    {
     "name": "stdout",
     "output_type": "stream",
     "text": [
      "['Kapa', 'Kapa', 'Quanta', 'Nextera', 'NEB', 'Swift2S', 'Kapa', 'Quanta', 'NEB', 'Nextera', 'Swift2S', 'NEB', 'Nextera', 'Swift2S', 'Quanta', 'Kapa', 'NEB', 'Quanta', 'Nextera', 'Swift2S']\n",
      "kapa variants TP found 38763\n",
      "11900000 variants remaining...\n",
      "kapa variants TP found 83819\n",
      "11800000 variants remaining...\n",
      "kapa variants TP found 124611\n",
      "11700000 variants remaining...\n",
      "kapa variants TP found 144283\n",
      "11600000 variants remaining...\n",
      "kapa variants TP found 190299\n",
      "11500000 variants remaining...\n",
      "kapa variants TP found 236025\n",
      "11400000 variants remaining...\n",
      "kapa variants TP found 281912\n",
      "11300000 variants remaining...\n",
      "kapa variants TP found 316672\n",
      "11200000 variants remaining...\n",
      "kapa variants TP found 359957\n",
      "11100000 variants remaining...\n",
      "kapa variants TP found 407518\n",
      "11000000 variants remaining...\n",
      "kapa variants TP found 454925\n",
      "10900000 variants remaining...\n",
      "kapa variants TP found 496592\n",
      "10800000 variants remaining...\n"
     ]
    }
   ],
   "source": [
    "kits_readers = [(row.Kit, vcf.Reader(filename=row.Path)) for _, row in af.iterrows()]\n",
    "kits_in_order, readers = zip(*kits_readers)\n",
    "\n",
    "print(list(kits_in_order))\n",
    "\n",
    "abort = 12000000\n",
    "#abort = 200000000\n",
    "\n",
    "group_combinations = {\n",
    "    (truth, typ): pd.Series(index=group_counts_idx, dtype='uint32')\n",
    "    for typ in types\n",
    "    for truth in [True, False]\n",
    "    }\n",
    "intra_kit_consensus = {kitname: [0, 0, 0, 0, 0] for kitname in kits}\n",
    "\n",
    "tp_counters = [0] * len(readers)\n",
    "n_kap_ctr = 0\n",
    "for variants in vcf.utils.walk_together(*readers):\n",
    "    if abort == 0:\n",
    "        break\n",
    "    else:\n",
    "        abort -= 1\n",
    "        if abort % 100000 == 0:\n",
    "            print(\"kapa variants TP found\", n_kap_ctr)\n",
    "            print(abort, \"variants remaining...\")\n",
    "            \n",
    "    is_true = (variants[0] and variants[0].samples[0].data.BD in ['TP', 'FN']) == True\n",
    "    \n",
    "    if not is_true:\n",
    "        for var in variants:\n",
    "            if var and var.samples[0].data.BD == 'TP':\n",
    "                print(\"WTFingF?\", var.CHROM, var.POS)\n",
    "                raise WTF\n",
    "    \n",
    "    typ = next(iter(\n",
    "        vcall.samples[isam].data.BVT\n",
    "        for vcall in variants\n",
    "        for isam in [0,1]\n",
    "        if vcall and vcall.samples[isam].data.BVT != 'NOCALL'\n",
    "    ))\n",
    "    \n",
    "    var_group_counts = [0] * len(kits)\n",
    "    for vcall, kit in zip(variants, kits_in_order):\n",
    "        if vcall:\n",
    "#            if vcall.samples[1].data.BD == 'TP' and vcall.samples[1].data.QQ > qq_cuts_dict[kit]:\n",
    "            if vcall.samples[1].data.BD == 'TP' and vcall.samples[1].data.QQ > -5:\n",
    "                var_group_counts[kits.index(kit)] += 1\n",
    "    \n",
    "    if is_true:\n",
    "        for i, kit in enumerate(kits):\n",
    "            intra_kit_consensus[kit][var_group_counts[i]] += 1\n",
    "            \n",
    "    combinations_index = tuple(x > 2 for x in var_group_counts)\n",
    "    if is_true and combinations_index[0]: n_kap_ctr+=1\n",
    "    \n",
    "    group_combinations[(is_true, typ)][combinations_index] += 1\n"
   ]
  },
  {
   "cell_type": "markdown",
   "id": "e903b756",
   "metadata": {},
   "source": [
    "### Total counts"
   ]
  },
  {
   "cell_type": "code",
   "execution_count": null,
   "id": "19dff502",
   "metadata": {},
   "outputs": [],
   "source": [
    "for typ in ['SNP', 'INDEL']:\n",
    "    truecalls = group_combinations[(True, typ)]\n",
    "    for kit in kits:\n",
    "        print(f\"kit {kit:9}  - Total true {typ} :\", truecalls[truecalls.index.get_level_values(kit)].sum())"
   ]
  },
  {
   "cell_type": "markdown",
   "id": "1a079e46",
   "metadata": {},
   "source": [
    "### Experimental colouring by true/false"
   ]
  },
  {
   "cell_type": "code",
   "execution_count": null,
   "id": "44c4bde7",
   "metadata": {},
   "outputs": [],
   "source": [
    "# Make TP/FP in single data frame\n",
    "group_data = {}\n",
    "for typ in ['SNP', 'INDEL']:\n",
    "    group_data[typ] = pd.concat([\n",
    "        pd.DataFrame({'Count': group_combinations[(truth, 'SNP')]}).assign(Truth=truth)\n",
    "        for truth in [True, False]\n",
    "    ])"
   ]
  },
  {
   "cell_type": "code",
   "execution_count": null,
   "id": "120dc19f",
   "metadata": {},
   "outputs": [],
   "source": [
    "#upsetplot.plot(group_combinations.drop(tuple([0]*len(kits))).drop(tuple([1]*len(kits))), sort_by='cardinality')\n",
    "up = upsetplot.UpSet(\n",
    "    group_data['SNP'].drop(tuple([False]*len(kits))),\n",
    "    sort_by='cardinality',\n",
    "    sort_categories_by=None,\n",
    "    sum_over='Count'\n",
    ")"
   ]
  },
  {
   "cell_type": "code",
   "execution_count": null,
   "id": "9b4b6fa3",
   "metadata": {},
   "outputs": [],
   "source": [
    "totales_orig_save = upsetplot.UpSet.plot_totals"
   ]
  },
  {
   "cell_type": "code",
   "execution_count": null,
   "id": "c0276b76",
   "metadata": {},
   "outputs": [],
   "source": [
    "def plot_totals_mar(self, ax, hue):\n",
    "    \"\"\"Plot bars indicating total set size\n",
    "    \"\"\"\n",
    "    orig_ax = ax\n",
    "    ax = self._reorient(ax)\n",
    "    recst = sns.barplot()\n",
    "    rects = ax.barh(np.arange(len(self.totals.index.values)), self.totals,\n",
    "                    .5, color=self._facecolor, align='center')\n",
    "    self._label_sizes(ax, rects, 'left' if self._horizontal else 'top')\n",
    "\n",
    "    max_total = self.totals.max()\n",
    "    if self._horizontal:\n",
    "        orig_ax.set_xlim(max_total, 0)\n",
    "    for x in ['top', 'left', 'right']:\n",
    "        ax.spines[self._reorient(x)].set_visible(False)\n",
    "    ax.yaxis.set_visible(False)\n",
    "    ax.xaxis.grid(True)\n",
    "    ax.yaxis.grid(False)\n",
    "    ax.patch.set_visible(False)\n"
   ]
  },
  {
   "cell_type": "code",
   "execution_count": null,
   "id": "e8ae73aa",
   "metadata": {},
   "outputs": [],
   "source": [
    "up.add_stacked_bars('Truth', sum_over='Count', elements=6)\n",
    "print(up._subset_plots)\n",
    "up._subset_plots.pop(0)\n",
    "f = plt.figure()\n",
    "up.plot_shading(plt.axes())"
   ]
  },
  {
   "cell_type": "code",
   "execution_count": null,
   "id": "34827c6d",
   "metadata": {},
   "outputs": [],
   "source": [
    "with pd.option_context('display.max_rows', None, 'display.max_columns', None):  # more options can be specified also\n",
    "    display(group_data['SNP'])"
   ]
  },
  {
   "cell_type": "code",
   "execution_count": null,
   "id": "682ff7d4",
   "metadata": {},
   "outputs": [],
   "source": [
    "group_combinations[(True,'SNP')].sum()"
   ]
  },
  {
   "cell_type": "markdown",
   "id": "b8474a29",
   "metadata": {},
   "source": [
    "### Normal plot for true/false positives separately"
   ]
  },
  {
   "cell_type": "code",
   "execution_count": null,
   "id": "d449a9fd",
   "metadata": {},
   "outputs": [],
   "source": [
    "up = upsetplot.UpSet(group_combinations[(True,'SNP')], sort_by='degree', sort_categories_by=None, show_percentages=True)\n",
    "frames = up.plot()\n",
    "#frames['intersections'].set_ylim(0, group_combinations[(True, 'SNP')][(False, True, True, True, True)] * 1.1)"
   ]
  },
  {
   "cell_type": "code",
   "execution_count": null,
   "id": "8603c103",
   "metadata": {},
   "outputs": [],
   "source": [
    "upsetplot.plot(group_combinations[(False,'SNP')].drop(tuple([0]*len(kits))), sort_by='degree', sort_categories_by=None)"
   ]
  },
  {
   "cell_type": "code",
   "execution_count": null,
   "id": "07dda148",
   "metadata": {},
   "outputs": [],
   "source": [
    "upsetplot.plot(group_combinations[(True, 'INDEL')], sort_by='degree', sort_categories_by=None, show_percentages=True)"
   ]
  },
  {
   "cell_type": "code",
   "execution_count": null,
   "id": "88b9112b",
   "metadata": {},
   "outputs": [],
   "source": [
    "upsetplot.plot(group_combinations[(False, 'INDEL')].drop(tuple([0]*len(kits))), sort_by='degree', sort_categories_by=None, show_percentages=True)"
   ]
  },
  {
   "cell_type": "markdown",
   "id": "c12bd6d0",
   "metadata": {},
   "source": [
    "## Test / experimenting"
   ]
  },
  {
   "cell_type": "code",
   "execution_count": null,
   "id": "7dd09c8d",
   "metadata": {},
   "outputs": [],
   "source": [
    "subplots = upsetplot.plot(group_combinations[(True, 'INDEL')].drop(tuple([0]*len(kits))), sort_by='cardinality', sort_categories_by=None, min_degree=4)\n",
    "subplots['intersections'].set_yscale('log')"
   ]
  },
  {
   "cell_type": "code",
   "execution_count": null,
   "id": "7f5dd011",
   "metadata": {},
   "outputs": [],
   "source": []
  },
  {
   "cell_type": "code",
   "execution_count": null,
   "id": "a481da88",
   "metadata": {},
   "outputs": [],
   "source": [
    "intra_kit_consensus"
   ]
  },
  {
   "cell_type": "code",
   "execution_count": null,
   "id": "ae17b767",
   "metadata": {},
   "outputs": [],
   "source": [
    "kit_numreplicates_trueposcount = [\n",
    "    (kit, num_replicates_called, intra_kit_consensus[kit][num_replicates_called])\n",
    "    for num_replicates_called in [0,1,2,3,4]\n",
    "    for kit in kits\n",
    "]"
   ]
  },
  {
   "cell_type": "code",
   "execution_count": null,
   "id": "58eea02f",
   "metadata": {},
   "outputs": [],
   "source": [
    "iccdf = pd.DataFrame(data=kit_numreplicates_trueposcount, columns=['Kit', 'NumReplicatesHave', 'NumTpCalls'])"
   ]
  },
  {
   "cell_type": "code",
   "execution_count": null,
   "id": "ed5d6bdb",
   "metadata": {},
   "outputs": [],
   "source": [
    "sns.barplot(data=iccdf, x='NumReplicatesHave', y='NumTpCalls', hue='Kit')"
   ]
  },
  {
   "cell_type": "markdown",
   "id": "21cd5a72",
   "metadata": {},
   "source": [
    "## Export data to csv"
   ]
  },
  {
   "cell_type": "code",
   "execution_count": null,
   "id": "6addcbb8",
   "metadata": {},
   "outputs": [],
   "source": [
    "dataframes = []\n",
    "for (truth, typ) in [(True, 'SNP'), (True, 'INDEL'), (False, 'SNP'), (False, 'INDEL')]:\n",
    "    part_df = group_combinations[(truth, typ)].reset_index().rename(columns={0: 'Count'})\n",
    "    part_df['Truth'] = truth\n",
    "    part_df['Type'] = typ\n",
    "    dataframes.append(part_df)\n",
    "full_df = pd.concat(dataframes)\n",
    "# Uncomment this to write / overwrite the file\n",
    "#full_df.to_csv('summary-tables/call-intersection-data.csv', index=False)\n",
    "full_df.head(n=1)"
   ]
  },
  {
   "cell_type": "markdown",
   "id": "13087459",
   "metadata": {},
   "source": [
    "# Load exported data"
   ]
  },
  {
   "cell_type": "code",
   "execution_count": null,
   "id": "658a772a",
   "metadata": {},
   "outputs": [],
   "source": [
    "full_df = pd.read_csv('summary-tables/call-intersection-data-d.csv')\n",
    "group_combinations2 = {}\n",
    "for (truth, typ) in [(True, 'SNP'), (True, 'INDEL'), (False, 'SNP'), (False, 'INDEL')]:\n",
    "    part_df = full_df.loc[(full_df.Type==typ)&(full_df.Truth==truth)].set_index(kits)\n",
    "    group_combinations2[(truth, typ)] = part_df.Count\n",
    "\n",
    "print(group_combinations2[(True, 'SNP')].head(n=1))"
   ]
  },
  {
   "cell_type": "code",
   "execution_count": null,
   "id": "4e17153a",
   "metadata": {},
   "outputs": [],
   "source": [
    "# Uncomment this to load from file \n",
    "#group_combinations = group_combinations2"
   ]
  },
  {
   "cell_type": "markdown",
   "id": "0f0f49d3",
   "metadata": {},
   "source": [
    "# Testing / Experiment"
   ]
  },
  {
   "cell_type": "code",
   "execution_count": null,
   "id": "3bb710ba",
   "metadata": {},
   "outputs": [],
   "source": [
    "løk = pd.DataFrame(\n",
    "    {\n",
    "        #'Kit': ['Nextera', 'NEB', 'Nextera', 'NEB', 'Nextera', 'NEB'],\n",
    "        'Nextera': [True, True, True, False, False, True],\n",
    "        'NEB':   [ False, True, True, False, False, True],\n",
    "        'Type':  ['SNP','SNP','SNP','INDEL','SNP','SNP']\n",
    "    }\n",
    ").set_index(['Nextera', 'NEB'])\n",
    "up = upsetplot.UpSet(løk)\n",
    "up.add_stacked_bars('Type')\n",
    "up.plot()"
   ]
  },
  {
   "cell_type": "code",
   "execution_count": null,
   "id": "f0e2e30f",
   "metadata": {},
   "outputs": [],
   "source": [
    "plt.subplots(2, 2)"
   ]
  },
  {
   "cell_type": "code",
   "execution_count": null,
   "id": "c830f2ab",
   "metadata": {},
   "outputs": [],
   "source": [
    "(fig, (tops, bots)) = plt.subplots(2, 2)\n",
    "up2 = upsetplot.UpSet(løk)\n",
    "up2.plot_matrix(bots[1])\n",
    "up2.add_stacked_bars('Type')"
   ]
  },
  {
   "cell_type": "code",
   "execution_count": null,
   "id": "a803a470",
   "metadata": {},
   "outputs": [],
   "source": []
  },
  {
   "cell_type": "markdown",
   "id": "803be1a1",
   "metadata": {},
   "source": [
    "# SNP count double check with bcftools"
   ]
  },
  {
   "cell_type": "code",
   "execution_count": null,
   "id": "b2f4199f",
   "metadata": {},
   "outputs": [],
   "source": [
    "af_names = list(os.path.basename(p).replace(\".vcf.gz\",\"\") for p in af.Path)\n",
    "print(\" \".join(af_names))"
   ]
  },
  {
   "cell_type": "raw",
   "id": "ad5a3a50",
   "metadata": {},
   "source": [
    "for p in Kapa-100ng-2 Kapa-100ng-3 Quanta-100ng-4 Nextera-100ng-4 NEB-100ng-4 Swift2S-100ng-4 Kapa-100ng-1 Quanta-100ng-1 NEB-100ng-2 Nextera-100ng-2 Swift2S-100ng-2 NEB-100ng-3 Nextera-100ng-3 Swift2S-100ng-3 Quanta-100ng-3 Kapa-100ng-4 NEB-100ng-1 Quanta-100ng-2 Nextera-100ng-1 Swift2S-100ng-1\n",
    "do \n",
    "    bcftools view -H -v snps -i 'FORMAT/QQ[1]>-5 && FORMAT/BD[1]==\"FP\"'  d50_variant_analysis/${p}_happy/${p}.vcf.gz |wc -l> tmp-snpcounts/fp-${p}.txt &\n",
    "    bcftools view -H -v snps -i 'FORMAT/QQ[1]>-5 && FORMAT/BD[1]==\"TP\"'  d50_variant_analysis/${p}_happy/${p}.vcf.gz |wc -l> tmp-snpcounts/tp-${p}.txt &\n",
    "done"
   ]
  },
  {
   "cell_type": "code",
   "execution_count": null,
   "id": "6dddfa3c",
   "metadata": {},
   "outputs": [],
   "source": [
    "af['bcftoolsTpCount'] = [int(open(f\"tmp-snpcounts/tp-{n}.txt\").read().strip()) for n in af_names]\n",
    "af['bcftoolsFpCount'] = [int(open(f\"tmp-snpcounts/fp-{n}.txt\").read().strip()) for n in af_names]\n",
    "print(af.groupby(\"Kit\").bcftoolsTpCount.sum())\n",
    "print(af.groupby(\"Kit\").bcftoolsFpCount.sum())\n",
    "print(af.groupby(\"Kit\").apply(lambda row: row.bcftoolsTpCount.sum() / (row.bcftoolsTpCount.sum() + row.bcftoolsFpCount.sum())))"
   ]
  },
  {
   "cell_type": "code",
   "execution_count": null,
   "id": "10cbe968",
   "metadata": {},
   "outputs": [],
   "source": []
  }
 ],
 "metadata": {
  "kernelspec": {
   "display_name": "Python 3 (ipykernel)",
   "language": "python",
   "name": "python3"
  },
  "language_info": {
   "codemirror_mode": {
    "name": "ipython",
    "version": 3
   },
   "file_extension": ".py",
   "mimetype": "text/x-python",
   "name": "python",
   "nbconvert_exporter": "python",
   "pygments_lexer": "ipython3",
   "version": "3.7.12"
  }
 },
 "nbformat": 4,
 "nbformat_minor": 5
}
