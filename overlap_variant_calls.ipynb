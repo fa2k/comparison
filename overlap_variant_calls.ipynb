{
 "cells": [
  {
   "cell_type": "markdown",
   "metadata": {},
   "source": [
    "# Read all the hap.py vcfs and compute overlaps"
   ]
  },
  {
   "cell_type": "markdown",
   "metadata": {},
   "source": [
    "Needs an environment with pyvcf and other anaconda packages.\n",
    "\n",
    "Because it needs pyvcf, the dependencies dictate that it will have an older version of seaborn and others."
   ]
  },
  {
   "cell_type": "code",
   "execution_count": 8,
   "metadata": {},
   "outputs": [],
   "source": [
    "import vcf\n",
    "import vcf.utils\n",
    "import glob\n",
    "import re\n",
    "import pandas as pd\n",
    "import upsetplot\n",
    "import seaborn as sns\n",
    "import matplotlib.pyplot as plt\n",
    "import os\n",
    "import numpy as np"
   ]
  },
  {
   "cell_type": "markdown",
   "metadata": {},
   "source": [
    "## Read metadata"
   ]
  },
  {
   "cell_type": "code",
   "execution_count": 9,
   "metadata": {},
   "outputs": [],
   "source": [
    "paths = glob.glob(\"d50_variant_analysis/*/*vcf.gz\")"
   ]
  },
  {
   "cell_type": "code",
   "execution_count": 10,
   "metadata": {},
   "outputs": [],
   "source": [
    "names, kits, concs, replicates = zip(*[\n",
    "    re.match(r\".*/(([A-Za-z0-9]+)-(\\d+ng)-(\\d))\\.vcf\\.gz\", path).groups()\n",
    "    for path in paths\n",
    "])"
   ]
  },
  {
   "cell_type": "markdown",
   "metadata": {},
   "source": [
    "## Data frame for metadata summary"
   ]
  },
  {
   "cell_type": "code",
   "execution_count": 11,
   "metadata": {},
   "outputs": [],
   "source": [
    "df = pd.DataFrame({'Name': names, 'Kit': kits, 'Conc': concs, 'Replicate': replicates, 'Path': paths})"
   ]
  },
  {
   "cell_type": "code",
   "execution_count": 12,
   "metadata": {},
   "outputs": [
    {
     "data": {
      "text/html": [
       "<div>\n",
       "<style scoped>\n",
       "    .dataframe tbody tr th:only-of-type {\n",
       "        vertical-align: middle;\n",
       "    }\n",
       "\n",
       "    .dataframe tbody tr th {\n",
       "        vertical-align: top;\n",
       "    }\n",
       "\n",
       "    .dataframe thead th {\n",
       "        text-align: right;\n",
       "    }\n",
       "</style>\n",
       "<table border=\"1\" class=\"dataframe\">\n",
       "  <thead>\n",
       "    <tr style=\"text-align: right;\">\n",
       "      <th></th>\n",
       "      <th>Name</th>\n",
       "      <th>Kit</th>\n",
       "      <th>Conc</th>\n",
       "      <th>Replicate</th>\n",
       "      <th>Path</th>\n",
       "    </tr>\n",
       "  </thead>\n",
       "  <tbody>\n",
       "    <tr>\n",
       "      <th>0</th>\n",
       "      <td>NEB-10ng-1</td>\n",
       "      <td>NEB</td>\n",
       "      <td>10ng</td>\n",
       "      <td>1</td>\n",
       "      <td>d50_variant_analysis/NEB-10ng-1_happy/NEB-10ng...</td>\n",
       "    </tr>\n",
       "    <tr>\n",
       "      <th>1</th>\n",
       "      <td>NEB-10ng-3</td>\n",
       "      <td>NEB</td>\n",
       "      <td>10ng</td>\n",
       "      <td>3</td>\n",
       "      <td>d50_variant_analysis/NEB-10ng-3_happy/NEB-10ng...</td>\n",
       "    </tr>\n",
       "    <tr>\n",
       "      <th>2</th>\n",
       "      <td>Quanta-100ng-2</td>\n",
       "      <td>Quanta</td>\n",
       "      <td>100ng</td>\n",
       "      <td>2</td>\n",
       "      <td>d50_variant_analysis/Quanta-100ng-2_happy/Quan...</td>\n",
       "    </tr>\n",
       "    <tr>\n",
       "      <th>3</th>\n",
       "      <td>Swift2S-100ng-4</td>\n",
       "      <td>Swift2S</td>\n",
       "      <td>100ng</td>\n",
       "      <td>4</td>\n",
       "      <td>d50_variant_analysis/Swift2S-100ng-4_happy/Swi...</td>\n",
       "    </tr>\n",
       "    <tr>\n",
       "      <th>4</th>\n",
       "      <td>Nextera-10ng-3</td>\n",
       "      <td>Nextera</td>\n",
       "      <td>10ng</td>\n",
       "      <td>3</td>\n",
       "      <td>d50_variant_analysis/Nextera-10ng-3_happy/Next...</td>\n",
       "    </tr>\n",
       "  </tbody>\n",
       "</table>\n",
       "</div>"
      ],
      "text/plain": [
       "              Name      Kit   Conc Replicate  \\\n",
       "0       NEB-10ng-1      NEB   10ng         1   \n",
       "1       NEB-10ng-3      NEB   10ng         3   \n",
       "2   Quanta-100ng-2   Quanta  100ng         2   \n",
       "3  Swift2S-100ng-4  Swift2S  100ng         4   \n",
       "4   Nextera-10ng-3  Nextera   10ng         3   \n",
       "\n",
       "                                                Path  \n",
       "0  d50_variant_analysis/NEB-10ng-1_happy/NEB-10ng...  \n",
       "1  d50_variant_analysis/NEB-10ng-3_happy/NEB-10ng...  \n",
       "2  d50_variant_analysis/Quanta-100ng-2_happy/Quan...  \n",
       "3  d50_variant_analysis/Swift2S-100ng-4_happy/Swi...  \n",
       "4  d50_variant_analysis/Nextera-10ng-3_happy/Next...  "
      ]
     },
     "execution_count": 12,
     "metadata": {},
     "output_type": "execute_result"
    }
   ],
   "source": [
    "df.head()"
   ]
  },
  {
   "cell_type": "markdown",
   "metadata": {},
   "source": [
    "### Only analyse 100 ng data"
   ]
  },
  {
   "cell_type": "code",
   "execution_count": 13,
   "metadata": {},
   "outputs": [],
   "source": [
    "# af = analysis data frame\n",
    "af = df[(df.Conc=='100ng')&(df.Kit!=\"Swiftlong\")].copy()"
   ]
  },
  {
   "cell_type": "code",
   "execution_count": 14,
   "metadata": {},
   "outputs": [
    {
     "name": "stdout",
     "output_type": "stream",
     "text": [
      "['NEB', 'Swift2S', 'Quanta', 'Nextera', 'Kapa']\n",
      "['NEB', 'Swift2S', 'Quanta', 'Nextera', 'Kapa']\n"
     ]
    }
   ],
   "source": [
    "kits = list(set(af.Kit))\n",
    "print(kits)\n",
    "print(kits[-10:])"
   ]
  },
  {
   "cell_type": "markdown",
   "metadata": {},
   "source": [
    "### Find quality cut-offs for picking N true positives"
   ]
  },
  {
   "cell_type": "code",
   "execution_count": 16,
   "metadata": {},
   "outputs": [
    {
     "name": "stdout",
     "output_type": "stream",
     "text": [
      "Analysing 4 files for kit NEB .\n"
     ]
    },
    {
     "ename": "KeyboardInterrupt",
     "evalue": "",
     "output_type": "error",
     "traceback": [
      "\u001b[0;31m---------------------------------------------------------------------------\u001b[0m",
      "\u001b[0;31mKeyboardInterrupt\u001b[0m                         Traceback (most recent call last)",
      "\u001b[0;32m<ipython-input-16-aa2a9d06aa61>\u001b[0m in \u001b[0;36m<module>\u001b[0;34m\u001b[0m\n\u001b[1;32m     14\u001b[0m     \u001b[0mn_rows\u001b[0m \u001b[0;34m=\u001b[0m \u001b[0;36m0\u001b[0m\u001b[0;34m\u001b[0m\u001b[0;34m\u001b[0m\u001b[0m\n\u001b[1;32m     15\u001b[0m     \u001b[0mbatch\u001b[0m \u001b[0;34m=\u001b[0m \u001b[0mnp\u001b[0m\u001b[0;34m.\u001b[0m\u001b[0mzeros\u001b[0m\u001b[0;34m(\u001b[0m\u001b[0mnbatch\u001b[0m\u001b[0;34m)\u001b[0m\u001b[0;34m\u001b[0m\u001b[0;34m\u001b[0m\u001b[0m\n\u001b[0;32m---> 16\u001b[0;31m     \u001b[0;32mfor\u001b[0m \u001b[0mvariants\u001b[0m \u001b[0;32min\u001b[0m \u001b[0mvcf\u001b[0m\u001b[0;34m.\u001b[0m\u001b[0mutils\u001b[0m\u001b[0;34m.\u001b[0m\u001b[0mwalk_together\u001b[0m\u001b[0;34m(\u001b[0m\u001b[0;34m*\u001b[0m\u001b[0mreaders\u001b[0m\u001b[0;34m)\u001b[0m\u001b[0;34m:\u001b[0m\u001b[0;34m\u001b[0m\u001b[0;34m\u001b[0m\u001b[0m\n\u001b[0m\u001b[1;32m     17\u001b[0m         \u001b[0mn_rows\u001b[0m \u001b[0;34m+=\u001b[0m \u001b[0;36m1\u001b[0m\u001b[0;34m\u001b[0m\u001b[0;34m\u001b[0m\u001b[0m\n\u001b[1;32m     18\u001b[0m         \u001b[0;32mif\u001b[0m \u001b[0many\u001b[0m\u001b[0;34m(\u001b[0m\u001b[0mvar\u001b[0m\u001b[0;34m.\u001b[0m\u001b[0msamples\u001b[0m\u001b[0;34m[\u001b[0m\u001b[0;36m0\u001b[0m\u001b[0;34m]\u001b[0m\u001b[0;34m.\u001b[0m\u001b[0mdata\u001b[0m\u001b[0;34m.\u001b[0m\u001b[0mBVT\u001b[0m \u001b[0;34m==\u001b[0m \u001b[0;34m'SNP'\u001b[0m \u001b[0;32mfor\u001b[0m \u001b[0mvar\u001b[0m \u001b[0;32min\u001b[0m \u001b[0mvariants\u001b[0m \u001b[0;32mif\u001b[0m \u001b[0mvar\u001b[0m\u001b[0;34m)\u001b[0m\u001b[0;34m:\u001b[0m\u001b[0;34m\u001b[0m\u001b[0;34m\u001b[0m\u001b[0m\n",
      "\u001b[0;32m~/opt/miniconda3/envs/vcfenv2/lib/python3.6/site-packages/vcf/utils.py\u001b[0m in \u001b[0;36mwalk_together\u001b[0;34m(*readers, **kwargs)\u001b[0m\n\u001b[1;32m     50\u001b[0m         \u001b[0;32mfor\u001b[0m \u001b[0mi\u001b[0m \u001b[0;32min\u001b[0m \u001b[0mmin_k_idxs\u001b[0m\u001b[0;34m:\u001b[0m\u001b[0;34m\u001b[0m\u001b[0;34m\u001b[0m\u001b[0m\n\u001b[1;32m     51\u001b[0m             \u001b[0;32mtry\u001b[0m\u001b[0;34m:\u001b[0m\u001b[0;34m\u001b[0m\u001b[0;34m\u001b[0m\u001b[0m\n\u001b[0;32m---> 52\u001b[0;31m                 \u001b[0mnexts\u001b[0m\u001b[0;34m[\u001b[0m\u001b[0mi\u001b[0m\u001b[0;34m]\u001b[0m \u001b[0;34m=\u001b[0m \u001b[0mnext\u001b[0m\u001b[0;34m(\u001b[0m\u001b[0mreaders\u001b[0m\u001b[0;34m[\u001b[0m\u001b[0mi\u001b[0m\u001b[0;34m]\u001b[0m\u001b[0;34m)\u001b[0m\u001b[0;34m\u001b[0m\u001b[0;34m\u001b[0m\u001b[0m\n\u001b[0m\u001b[1;32m     53\u001b[0m             \u001b[0;32mexcept\u001b[0m \u001b[0mStopIteration\u001b[0m\u001b[0;34m:\u001b[0m\u001b[0;34m\u001b[0m\u001b[0;34m\u001b[0m\u001b[0m\n\u001b[1;32m     54\u001b[0m                 \u001b[0mnexts\u001b[0m\u001b[0;34m[\u001b[0m\u001b[0mi\u001b[0m\u001b[0;34m]\u001b[0m \u001b[0;34m=\u001b[0m \u001b[0;32mNone\u001b[0m\u001b[0;34m\u001b[0m\u001b[0;34m\u001b[0m\u001b[0m\n",
      "\u001b[0;32m~/opt/miniconda3/envs/vcfenv2/lib/python3.6/site-packages/vcf/parser.py\u001b[0m in \u001b[0;36m__next__\u001b[0;34m(self)\u001b[0m\n\u001b[1;32m    584\u001b[0m \u001b[0;34m\u001b[0m\u001b[0m\n\u001b[1;32m    585\u001b[0m         \u001b[0;32mif\u001b[0m \u001b[0mfmt\u001b[0m \u001b[0;32mis\u001b[0m \u001b[0;32mnot\u001b[0m \u001b[0;32mNone\u001b[0m\u001b[0;34m:\u001b[0m\u001b[0;34m\u001b[0m\u001b[0;34m\u001b[0m\u001b[0m\n\u001b[0;32m--> 586\u001b[0;31m             \u001b[0msamples\u001b[0m \u001b[0;34m=\u001b[0m \u001b[0mself\u001b[0m\u001b[0;34m.\u001b[0m\u001b[0m_parse_samples\u001b[0m\u001b[0;34m(\u001b[0m\u001b[0mrow\u001b[0m\u001b[0;34m[\u001b[0m\u001b[0;36m9\u001b[0m\u001b[0;34m:\u001b[0m\u001b[0;34m]\u001b[0m\u001b[0;34m,\u001b[0m \u001b[0mfmt\u001b[0m\u001b[0;34m,\u001b[0m \u001b[0mrecord\u001b[0m\u001b[0;34m)\u001b[0m\u001b[0;34m\u001b[0m\u001b[0;34m\u001b[0m\u001b[0m\n\u001b[0m\u001b[1;32m    587\u001b[0m             \u001b[0mrecord\u001b[0m\u001b[0;34m.\u001b[0m\u001b[0msamples\u001b[0m \u001b[0;34m=\u001b[0m \u001b[0msamples\u001b[0m\u001b[0;34m\u001b[0m\u001b[0;34m\u001b[0m\u001b[0m\n\u001b[1;32m    588\u001b[0m \u001b[0;34m\u001b[0m\u001b[0m\n",
      "\u001b[0;32m~/opt/miniconda3/envs/vcfenv2/lib/python3.6/site-packages/vcf/parser.py\u001b[0m in \u001b[0;36m_parse_samples\u001b[0;34m(self, samples, samp_fmt, site)\u001b[0m\n\u001b[1;32m    471\u001b[0m                     \u001b[0;32mcontinue\u001b[0m\u001b[0;34m\u001b[0m\u001b[0;34m\u001b[0m\u001b[0m\n\u001b[1;32m    472\u001b[0m \u001b[0;34m\u001b[0m\u001b[0m\n\u001b[0;32m--> 473\u001b[0;31m                 \u001b[0mentry_num\u001b[0m \u001b[0;34m=\u001b[0m \u001b[0msamp_fmt\u001b[0m\u001b[0;34m.\u001b[0m\u001b[0m_nums\u001b[0m\u001b[0;34m[\u001b[0m\u001b[0mi\u001b[0m\u001b[0;34m]\u001b[0m\u001b[0;34m\u001b[0m\u001b[0;34m\u001b[0m\u001b[0m\n\u001b[0m\u001b[1;32m    474\u001b[0m                 \u001b[0mentry_type\u001b[0m \u001b[0;34m=\u001b[0m \u001b[0msamp_fmt\u001b[0m\u001b[0;34m.\u001b[0m\u001b[0m_types\u001b[0m\u001b[0;34m[\u001b[0m\u001b[0mi\u001b[0m\u001b[0;34m]\u001b[0m\u001b[0;34m\u001b[0m\u001b[0;34m\u001b[0m\u001b[0m\n\u001b[1;32m    475\u001b[0m \u001b[0;34m\u001b[0m\u001b[0m\n",
      "\u001b[0;31mKeyboardInterrupt\u001b[0m: "
     ]
    }
   ],
   "source": [
    "# Nextera @ QQ>-5: 11269522\n",
    "N = 4_000_000\n",
    "N2 = 3_000_000\n",
    "nbatch = 10000\n",
    "q_cuts = []\n",
    "q_n2 = []\n",
    "i=0\n",
    "for kit in kits:\n",
    "    #break # Skip this loop -- computed values for normalisation mode \"d\" given below\n",
    "    readers = [vcf.Reader(filename=path) for path in af[af.Kit==kit].Path]\n",
    "    print(\"Analysing\", len(readers), \"files for kit\", kit, \".\")\n",
    "    qvals = np.array([])\n",
    "    ibatch = 0\n",
    "    n_rows = 0\n",
    "    batch = np.zeros(nbatch)\n",
    "    for variants in vcf.utils.walk_together(*readers):\n",
    "        n_rows += 1\n",
    "        if any(var.samples[0].data.BVT == 'SNP' for var in variants if var):\n",
    "            replicates_qvals = sorted([var.samples[1].data.QQ for var in variants\n",
    "                     if var and var.samples[1].data.BD=='TP'])\n",
    "            if len(replicates_qvals) > 2:\n",
    "                batch[ibatch] = replicates_qvals[-3]\n",
    "                ibatch += 1\n",
    "                if ibatch == nbatch:\n",
    "                    ii = np.searchsorted(qvals, batch)\n",
    "                    qvals = np.insert(qvals, ii, batch)[-(N+1):]\n",
    "                    ibatch = 0\n",
    "    ii = np.searchsorted(qvals, batch[0:ibatch])\n",
    "    qvals = np.insert(qvals, ii, batch[0:ibatch])[-(N+1):]\n",
    "    print('Kit', kit, ' - Processed', n_rows, 'rows.')\n",
    "    print('Kit', kit, 'QQ >', qvals[0], \"(\", len(qvals)-1, \" variants)\")\n",
    "    q_cuts.append(qvals[0])\n",
    "    if len(qvals) > N2+1:\n",
    "        print('Kit', kit, 'QQ >', qvals[-(N2+1)], \"(\", N2, \"variants)\")\n",
    "        q_n2.append(qvals[-(N2+1)])"
   ]
  },
  {
   "cell_type": "raw",
   "metadata": {},
   "source": [
    "Output saved here for use later:\n",
    "Kit Kapa QQ > -16.118 ( 3081069  variants)\n",
    "Kit Kapa QQ > -1.6 ( 3000000 variants)\n",
    "Kit NEB QQ > -16.118 ( 3105526  variants)\n",
    "Kit NEB QQ > -1.595 ( 3000000 variants)\n",
    "Kit Swift2S QQ > -16.118 ( 3081313  variants)\n",
    "Kit Swift2S QQ > -1.603 ( 3000000 variants)\n",
    "Kit Nextera QQ > -16.118 ( 3024558  variants)\n",
    "Kit Nextera QQ > -2.308 ( 3000000 variants)\n",
    "Kit Quanta QQ > -16.118 ( 3080175  variants)\n",
    "Kit Quanta QQ > -1.998 ( 3000000 variants)"
   ]
  },
  {
   "cell_type": "code",
   "execution_count": 9,
   "metadata": {},
   "outputs": [],
   "source": [
    "qq_cuts_dict = {}\n",
    "qq_cuts_dict['Kapa'] = -1.6\n",
    "qq_cuts_dict['NEB'] = -1.595\n",
    "qq_cuts_dict['Swift2S'] = -1.603\n",
    "qq_cuts_dict['Nextera'] = -2.308\n",
    "qq_cuts_dict['Quanta'] = -1.998"
   ]
  },
  {
   "cell_type": "markdown",
   "metadata": {},
   "source": [
    "## Make a place to hold the counts\n",
    "\n",
    "`group_combinations`\n",
    "\n",
    "| Truth | Type  | Value |\n",
    "|-------|-------|-------|\n",
    "| True  | SNP   | Series counts |\n",
    "| False | SNP   | Series counts |\n",
    "| True  | INDEL | Series counts |\n",
    "| False | INDEL | Series counts |\n",
    "\n",
    "Series counts are series containing the counts of each combination of callers. The indexes are MultiIndexes with one level for each kit, with value True if the variant is called, False otherwise."
   ]
  },
  {
   "cell_type": "code",
   "execution_count": 10,
   "metadata": {},
   "outputs": [],
   "source": [
    "group_counts_idx = pd.MultiIndex.from_product([[True,False] for _ in kits], names=kits)\n",
    "types = ['SNP', 'INDEL'] # May need to refactor if we're to separate indel types"
   ]
  },
  {
   "cell_type": "code",
   "execution_count": 11,
   "metadata": {},
   "outputs": [
    {
     "data": {
      "text/plain": [
       "['Swift2S', 'Nextera', 'NEB', 'Quanta', 'Kapa']"
      ]
     },
     "execution_count": 11,
     "metadata": {},
     "output_type": "execute_result"
    }
   ],
   "source": [
    "kits"
   ]
  },
  {
   "cell_type": "markdown",
   "metadata": {},
   "source": [
    "## VCF Reading loop"
   ]
  },
  {
   "cell_type": "code",
   "execution_count": 12,
   "metadata": {},
   "outputs": [
    {
     "name": "stdout",
     "output_type": "stream",
     "text": [
      "['Quanta', 'Swift2S', 'Swift2S', 'Quanta', 'Quanta', 'Quanta', 'Swift2S', 'Swift2S', 'Kapa', 'Nextera', 'NEB', 'Kapa', 'Nextera', 'NEB', 'Nextera', 'NEB', 'Kapa', 'NEB', 'Kapa', 'Nextera']\n",
      "kapa variants TP found 38981\n",
      "11900000 variants remaining...\n",
      "kapa variants TP found 84175\n",
      "11800000 variants remaining...\n",
      "kapa variants TP found 125033\n",
      "11700000 variants remaining...\n",
      "kapa variants TP found 144640\n",
      "11600000 variants remaining...\n",
      "kapa variants TP found 190962\n",
      "11500000 variants remaining...\n",
      "kapa variants TP found 236566\n",
      "11400000 variants remaining...\n",
      "kapa variants TP found 282495\n",
      "11300000 variants remaining...\n",
      "kapa variants TP found 317108\n",
      "11200000 variants remaining...\n",
      "kapa variants TP found 360368\n",
      "11100000 variants remaining...\n",
      "kapa variants TP found 407983\n",
      "11000000 variants remaining...\n",
      "kapa variants TP found 455311\n",
      "10900000 variants remaining...\n",
      "kapa variants TP found 496917\n",
      "10800000 variants remaining...\n",
      "kapa variants TP found 544842\n",
      "10700000 variants remaining...\n",
      "kapa variants TP found 590381\n",
      "10600000 variants remaining...\n",
      "kapa variants TP found 632017\n",
      "10500000 variants remaining...\n",
      "kapa variants TP found 674532\n",
      "10400000 variants remaining...\n",
      "kapa variants TP found 709739\n",
      "10300000 variants remaining...\n",
      "kapa variants TP found 758304\n",
      "10200000 variants remaining...\n",
      "kapa variants TP found 807624\n",
      "10100000 variants remaining...\n",
      "kapa variants TP found 850937\n",
      "10000000 variants remaining...\n",
      "kapa variants TP found 896188\n",
      "9900000 variants remaining...\n",
      "kapa variants TP found 933700\n",
      "9800000 variants remaining...\n",
      "kapa variants TP found 979867\n",
      "9700000 variants remaining...\n",
      "kapa variants TP found 1024356\n",
      "9600000 variants remaining...\n",
      "kapa variants TP found 1057069\n",
      "9500000 variants remaining...\n",
      "kapa variants TP found 1103286\n",
      "9400000 variants remaining...\n",
      "kapa variants TP found 1133494\n",
      "9300000 variants remaining...\n",
      "kapa variants TP found 1176651\n",
      "9200000 variants remaining...\n",
      "kapa variants TP found 1219404\n",
      "9100000 variants remaining...\n",
      "kapa variants TP found 1268306\n",
      "9000000 variants remaining...\n",
      "kapa variants TP found 1315963\n",
      "8900000 variants remaining...\n",
      "kapa variants TP found 1349091\n",
      "8800000 variants remaining...\n",
      "kapa variants TP found 1392889\n",
      "8700000 variants remaining...\n",
      "kapa variants TP found 1440710\n",
      "8600000 variants remaining...\n",
      "kapa variants TP found 1487149\n",
      "8500000 variants remaining...\n",
      "kapa variants TP found 1525644\n",
      "8400000 variants remaining...\n",
      "kapa variants TP found 1562026\n",
      "8300000 variants remaining...\n",
      "kapa variants TP found 1596231\n",
      "8200000 variants remaining...\n",
      "kapa variants TP found 1624657\n",
      "8100000 variants remaining...\n",
      "kapa variants TP found 1656343\n",
      "8000000 variants remaining...\n",
      "kapa variants TP found 1683348\n",
      "7900000 variants remaining...\n",
      "kapa variants TP found 1728265\n",
      "7800000 variants remaining...\n",
      "kapa variants TP found 1772955\n",
      "7700000 variants remaining...\n",
      "kapa variants TP found 1811289\n",
      "7600000 variants remaining...\n",
      "kapa variants TP found 1855106\n",
      "7500000 variants remaining...\n",
      "kapa variants TP found 1900056\n",
      "7400000 variants remaining...\n",
      "kapa variants TP found 1944547\n",
      "7300000 variants remaining...\n",
      "kapa variants TP found 1984719\n",
      "7200000 variants remaining...\n",
      "kapa variants TP found 2032544\n",
      "7100000 variants remaining...\n",
      "kapa variants TP found 2079991\n",
      "7000000 variants remaining...\n",
      "kapa variants TP found 2130417\n",
      "6900000 variants remaining...\n",
      "kapa variants TP found 2177082\n",
      "6800000 variants remaining...\n",
      "kapa variants TP found 2218241\n",
      "6700000 variants remaining...\n",
      "kapa variants TP found 2263008\n",
      "6600000 variants remaining...\n",
      "kapa variants TP found 2307592\n",
      "6500000 variants remaining...\n",
      "kapa variants TP found 2352204\n",
      "6400000 variants remaining...\n",
      "kapa variants TP found 2395036\n",
      "6300000 variants remaining...\n",
      "kapa variants TP found 2440326\n",
      "6200000 variants remaining...\n",
      "kapa variants TP found 2486006\n",
      "6100000 variants remaining...\n",
      "kapa variants TP found 2531236\n",
      "6000000 variants remaining...\n",
      "kapa variants TP found 2578303\n",
      "5900000 variants remaining...\n",
      "kapa variants TP found 2615568\n",
      "5800000 variants remaining...\n",
      "kapa variants TP found 2657636\n",
      "5700000 variants remaining...\n",
      "kapa variants TP found 2699384\n",
      "5600000 variants remaining...\n",
      "kapa variants TP found 2747655\n",
      "5500000 variants remaining...\n",
      "kapa variants TP found 2792083\n",
      "5400000 variants remaining...\n",
      "kapa variants TP found 2836744\n",
      "5300000 variants remaining...\n",
      "kapa variants TP found 2887964\n",
      "5200000 variants remaining...\n",
      "kapa variants TP found 2915396\n",
      "5100000 variants remaining...\n",
      "kapa variants TP found 2960289\n",
      "5000000 variants remaining...\n",
      "kapa variants TP found 2994290\n",
      "4900000 variants remaining...\n",
      "kapa variants TP found 3028337\n",
      "4800000 variants remaining...\n",
      "kapa variants TP found 3066173\n",
      "4700000 variants remaining...\n"
     ]
    }
   ],
   "source": [
    "kits_readers = [(row.Kit, vcf.Reader(filename=row.Path)) for _, row in af.iterrows()]\n",
    "kits_in_order, readers = zip(*kits_readers)\n",
    "\n",
    "print(list(kits_in_order))\n",
    "\n",
    "abort = 12000000\n",
    "#abort = 200000000\n",
    "\n",
    "group_combinations = {\n",
    "    (truth, typ): pd.Series(index=group_counts_idx, dtype='uint32')\n",
    "    for typ in types\n",
    "    for truth in [True, False]\n",
    "    }\n",
    "intra_kit_consensus = {kitname: [0, 0, 0, 0, 0] for kitname in kits}\n",
    "\n",
    "tp_counters = [0] * len(readers)\n",
    "n_kap_ctr = 0\n",
    "for variants in vcf.utils.walk_together(*readers):\n",
    "    if abort == 0:\n",
    "        break\n",
    "    else:\n",
    "        abort -= 1\n",
    "        if abort % 100000 == 0:\n",
    "            print(\"kapa variants TP found\", n_kap_ctr)\n",
    "            print(abort, \"variants remaining...\")\n",
    "            \n",
    "    is_true = (variants[0] and variants[0].samples[0].data.BD in ['TP', 'FN']) == True\n",
    "    \n",
    "    if not is_true:\n",
    "        for var in variants:\n",
    "            if var and var.samples[0].data.BD == 'TP':\n",
    "                print(\"WTFingF?\", var.CHROM, var.POS)\n",
    "                raise WTF\n",
    "    \n",
    "    typ = next(iter(\n",
    "        vcall.samples[isam].data.BVT\n",
    "        for vcall in variants\n",
    "        for isam in [0,1]\n",
    "        if vcall and vcall.samples[isam].data.BVT != 'NOCALL'\n",
    "    ))\n",
    "    \n",
    "    var_group_counts = [0] * len(kits)\n",
    "    for vcall, kit in zip(variants, kits_in_order):\n",
    "        if vcall:\n",
    "#            if vcall.samples[1].data.BD == 'TP' and vcall.samples[1].data.QQ > qq_cuts_dict[kit]:\n",
    "            if vcall.samples[1].data.BD == 'TP' and vcall.samples[1].data.QQ > -5:\n",
    "                var_group_counts[kits.index(kit)] += 1\n",
    "    \n",
    "    if is_true:\n",
    "        for i, kit in enumerate(kits):\n",
    "            intra_kit_consensus[kit][var_group_counts[i]] += 1\n",
    "            \n",
    "    combinations_index = tuple(x > 2 for x in var_group_counts)\n",
    "    if is_true and combinations_index[0]: n_kap_ctr+=1\n",
    "    \n",
    "    group_combinations[(is_true, typ)][combinations_index] += 1\n"
   ]
  },
  {
   "cell_type": "markdown",
   "metadata": {},
   "source": [
    "### Total counts"
   ]
  },
  {
   "cell_type": "code",
   "execution_count": 18,
   "metadata": {},
   "outputs": [
    {
     "name": "stdout",
     "output_type": "stream",
     "text": [
      "kit Swift2S    - Total true SNP : 2727549\n",
      "kit Nextera    - Total true SNP : 2699814\n",
      "kit NEB        - Total true SNP : 2739201\n",
      "kit Quanta     - Total true SNP : 2721661\n",
      "kit Kapa       - Total true SNP : 2714794\n",
      "kit Swift2S    - Total true INDEL : 346279\n",
      "kit Nextera    - Total true INDEL : 319710\n",
      "kit NEB        - Total true INDEL : 356478\n",
      "kit Quanta     - Total true INDEL : 351014\n",
      "kit Kapa       - Total true INDEL : 358350\n"
     ]
    }
   ],
   "source": [
    "for typ in ['SNP', 'INDEL']:\n",
    "    truecalls = group_combinations[(True, typ)]\n",
    "    for kit in kits:\n",
    "        print(f\"kit {kit:9}  - Total true {typ} :\", truecalls[truecalls.index.get_level_values(kit)].sum())"
   ]
  },
  {
   "cell_type": "markdown",
   "metadata": {},
   "source": [
    "### Experimental colouring by true/false"
   ]
  },
  {
   "cell_type": "code",
   "execution_count": null,
   "metadata": {},
   "outputs": [],
   "source": [
    "# Make TP/FP in single data frame\n",
    "group_data = {}\n",
    "for typ in ['SNP', 'INDEL']:\n",
    "    group_data[typ] = pd.concat([\n",
    "        pd.DataFrame({'Count': group_combinations[(truth, 'SNP')]}).assign(Truth=truth)\n",
    "        for truth in [True, False]\n",
    "    ])"
   ]
  },
  {
   "cell_type": "code",
   "execution_count": null,
   "metadata": {},
   "outputs": [],
   "source": [
    "#upsetplot.plot(group_combinations.drop(tuple([0]*len(kits))).drop(tuple([1]*len(kits))), sort_by='cardinality')\n",
    "up = upsetplot.UpSet(\n",
    "    group_data['SNP'].drop(tuple([False]*len(kits))),\n",
    "    sort_by='cardinality',\n",
    "    sort_categories_by=None,\n",
    "    sum_over='Count'\n",
    ")"
   ]
  },
  {
   "cell_type": "code",
   "execution_count": null,
   "metadata": {},
   "outputs": [],
   "source": [
    "totales_orig_save = upsetplot.UpSet.plot_totals"
   ]
  },
  {
   "cell_type": "code",
   "execution_count": null,
   "metadata": {},
   "outputs": [],
   "source": [
    "def plot_totals_mar(self, ax, hue):\n",
    "    \"\"\"Plot bars indicating total set size\n",
    "    \"\"\"\n",
    "    orig_ax = ax\n",
    "    ax = self._reorient(ax)\n",
    "    recst = sns.barplot()\n",
    "    rects = ax.barh(np.arange(len(self.totals.index.values)), self.totals,\n",
    "                    .5, color=self._facecolor, align='center')\n",
    "    self._label_sizes(ax, rects, 'left' if self._horizontal else 'top')\n",
    "\n",
    "    max_total = self.totals.max()\n",
    "    if self._horizontal:\n",
    "        orig_ax.set_xlim(max_total, 0)\n",
    "    for x in ['top', 'left', 'right']:\n",
    "        ax.spines[self._reorient(x)].set_visible(False)\n",
    "    ax.yaxis.set_visible(False)\n",
    "    ax.xaxis.grid(True)\n",
    "    ax.yaxis.grid(False)\n",
    "    ax.patch.set_visible(False)\n"
   ]
  },
  {
   "cell_type": "code",
   "execution_count": null,
   "metadata": {},
   "outputs": [],
   "source": [
    "up.add_stacked_bars('Truth', sum_over='Count', elements=6)\n",
    "print(up._subset_plots)\n",
    "up._subset_plots.pop(0)\n",
    "f = plt.figure()\n",
    "up.plot_shading(plt.axes())"
   ]
  },
  {
   "cell_type": "code",
   "execution_count": null,
   "metadata": {},
   "outputs": [],
   "source": [
    "with pd.option_context('display.max_rows', None, 'display.max_columns', None):  # more options can be specified also\n",
    "    display(group_data['SNP'])"
   ]
  },
  {
   "cell_type": "code",
   "execution_count": null,
   "metadata": {},
   "outputs": [],
   "source": [
    "group_combinations[(True,'SNP')].sum()"
   ]
  },
  {
   "cell_type": "markdown",
   "metadata": {},
   "source": [
    "### Normal plot for true/false positives separately"
   ]
  },
  {
   "cell_type": "code",
   "execution_count": 26,
   "metadata": {},
   "outputs": [
    {
     "data": {
      "image/png": "[encoded data removed]",
      "text/plain": [
       "<Figure size 1184x352 with 4 Axes>"
      ]
     },
     "metadata": {
      "needs_background": "light"
     },
     "output_type": "display_data"
    }
   ],
   "source": [
    "up = upsetplot.UpSet(group_combinations[(True,'SNP')], sort_by='degree', sort_categories_by=None, show_percentages=True)\n",
    "frames = up.plot()\n",
    "#frames['intersections'].set_ylim(0, group_combinations[(True, 'SNP')][(False, True, True, True, True)] * 1.1)"
   ]
  },
  {
   "cell_type": "code",
   "execution_count": 27,
   "metadata": {},
   "outputs": [
    {
     "data": {
      "text/plain": [
       "{'matrix': <matplotlib.axes._subplots.AxesSubplot at 0x7fb526fe5da0>,\n",
       " 'shading': <matplotlib.axes._subplots.AxesSubplot at 0x7fb525a92518>,\n",
       " 'totals': <matplotlib.axes._subplots.AxesSubplot at 0x7fb527051208>,\n",
       " 'intersections': <matplotlib.axes._subplots.AxesSubplot at 0x7fb527090b00>}"
      ]
     },
     "execution_count": 27,
     "metadata": {},
     "output_type": "execute_result"
    },
    {
     "data": {
      "image/png": "[encoded data removed]",
      "text/plain": [
       "<Figure size 1152x352 with 4 Axes>"
      ]
     },
     "metadata": {
      "needs_background": "light"
     },
     "output_type": "display_data"
    }
   ],
   "source": [
    "upsetplot.plot(group_combinations[(False,'SNP')].drop(tuple([0]*len(kits))), sort_by='degree', sort_categories_by=None)"
   ]
  },
  {
   "cell_type": "code",
   "execution_count": 25,
   "metadata": {},
   "outputs": [
    {
     "data": {
      "text/plain": [
       "{'matrix': <matplotlib.axes._subplots.AxesSubplot at 0x7fb525bffac8>,\n",
       " 'shading': <matplotlib.axes._subplots.AxesSubplot at 0x7fb5261f2ac8>,\n",
       " 'totals': <matplotlib.axes._subplots.AxesSubplot at 0x7fb526853a58>,\n",
       " 'intersections': <matplotlib.axes._subplots.AxesSubplot at 0x7fb5268aafd0>}"
      ]
     },
     "execution_count": 25,
     "metadata": {},
     "output_type": "execute_result"
    },
    {
     "data": {
      "image/png": "[encoded data removed]",
      "text/plain": [
       "<Figure size 1184x352 with 4 Axes>"
      ]
     },
     "metadata": {
      "needs_background": "light"
     },
     "output_type": "display_data"
    }
   ],
   "source": [
    "upsetplot.plot(group_combinations[(True, 'INDEL')], sort_by='degree', sort_categories_by=None, show_percentages=True)"
   ]
  },
  {
   "cell_type": "code",
   "execution_count": 24,
   "metadata": {},
   "outputs": [
    {
     "data": {
      "text/plain": [
       "{'matrix': <matplotlib.axes._subplots.AxesSubplot at 0x7fb525c16550>,\n",
       " 'shading': <matplotlib.axes._subplots.AxesSubplot at 0x7fb525c230b8>,\n",
       " 'totals': <matplotlib.axes._subplots.AxesSubplot at 0x7fb5259bf240>,\n",
       " 'intersections': <matplotlib.axes._subplots.AxesSubplot at 0x7fb5261dfdd8>}"
      ]
     },
     "execution_count": 24,
     "metadata": {},
     "output_type": "execute_result"
    },
    {
     "data": {
      "image/png": "[encoded data removed]",
      "text/plain": [
       "<Figure size 1152x352 with 4 Axes>"
      ]
     },
     "metadata": {
      "needs_background": "light"
     },
     "output_type": "display_data"
    }
   ],
   "source": [
    "upsetplot.plot(group_combinations[(False, 'INDEL')].drop(tuple([0]*len(kits))), sort_by='degree', sort_categories_by=None, show_percentages=True)"
   ]
  },
  {
   "cell_type": "markdown",
   "metadata": {},
   "source": [
    "## Test / experimenting"
   ]
  },
  {
   "cell_type": "code",
   "execution_count": null,
   "metadata": {},
   "outputs": [],
   "source": [
    "subplots = upsetplot.plot(group_combinations[(True, 'INDEL')].drop(tuple([0]*len(kits))), sort_by='cardinality', sort_categories_by=None, min_degree=4)\n",
    "subplots['intersections'].set_yscale('log')"
   ]
  },
  {
   "cell_type": "code",
   "execution_count": null,
   "metadata": {},
   "outputs": [],
   "source": []
  },
  {
   "cell_type": "code",
   "execution_count": null,
   "metadata": {},
   "outputs": [],
   "source": [
    "intra_kit_consensus"
   ]
  },
  {
   "cell_type": "code",
   "execution_count": null,
   "metadata": {},
   "outputs": [],
   "source": [
    "kit_numreplicates_trueposcount = [\n",
    "    (kit, num_replicates_called, intra_kit_consensus[kit][num_replicates_called])\n",
    "    for num_replicates_called in [0,1,2,3,4]\n",
    "    for kit in kits\n",
    "]"
   ]
  },
  {
   "cell_type": "code",
   "execution_count": null,
   "metadata": {},
   "outputs": [],
   "source": [
    "iccdf = pd.DataFrame(data=kit_numreplicates_trueposcount, columns=['Kit', 'NumReplicatesHave', 'NumTpCalls'])"
   ]
  },
  {
   "cell_type": "code",
   "execution_count": null,
   "metadata": {},
   "outputs": [],
   "source": [
    "sns.barplot(data=iccdf, x='NumReplicatesHave', y='NumTpCalls', hue='Kit')"
   ]
  },
  {
   "cell_type": "markdown",
   "metadata": {},
   "source": [
    "## Export data to csv"
   ]
  },
  {
   "cell_type": "code",
   "execution_count": 20,
   "metadata": {},
   "outputs": [
    {
     "data": {
      "text/html": [
       "<div>\n",
       "<style scoped>\n",
       "    .dataframe tbody tr th:only-of-type {\n",
       "        vertical-align: middle;\n",
       "    }\n",
       "\n",
       "    .dataframe tbody tr th {\n",
       "        vertical-align: top;\n",
       "    }\n",
       "\n",
       "    .dataframe thead th {\n",
       "        text-align: right;\n",
       "    }\n",
       "</style>\n",
       "<table border=\"1\" class=\"dataframe\">\n",
       "  <thead>\n",
       "    <tr style=\"text-align: right;\">\n",
       "      <th></th>\n",
       "      <th>Swift2S</th>\n",
       "      <th>Nextera</th>\n",
       "      <th>NEB</th>\n",
       "      <th>Quanta</th>\n",
       "      <th>Kapa</th>\n",
       "      <th>Count</th>\n",
       "      <th>Truth</th>\n",
       "      <th>Type</th>\n",
       "    </tr>\n",
       "  </thead>\n",
       "  <tbody>\n",
       "    <tr>\n",
       "      <th>0</th>\n",
       "      <td>True</td>\n",
       "      <td>True</td>\n",
       "      <td>True</td>\n",
       "      <td>True</td>\n",
       "      <td>True</td>\n",
       "      <td>1580858</td>\n",
       "      <td>True</td>\n",
       "      <td>SNP</td>\n",
       "    </tr>\n",
       "  </tbody>\n",
       "</table>\n",
       "</div>"
      ],
      "text/plain": [
       "   Swift2S  Nextera   NEB  Quanta  Kapa    Count  Truth Type\n",
       "0     True     True  True    True  True  1580858   True  SNP"
      ]
     },
     "execution_count": 20,
     "metadata": {},
     "output_type": "execute_result"
    }
   ],
   "source": [
    "dataframes = []\n",
    "for (truth, typ) in [(True, 'SNP'), (True, 'INDEL'), (False, 'SNP'), (False, 'INDEL')]:\n",
    "    part_df = group_combinations[(truth, typ)].reset_index().rename(columns={0: 'Count'})\n",
    "    part_df['Truth'] = truth\n",
    "    part_df['Type'] = typ\n",
    "    dataframes.append(part_df)\n",
    "full_df = pd.concat(dataframes)\n",
    "# Uncomment this to write / overwrite the file\n",
    "#full_df.to_csv('overlap-variant-data.csv', index=False)\n",
    "full_df.head(n=1)"
   ]
  },
  {
   "cell_type": "markdown",
   "metadata": {},
   "source": [
    "# Load exported data"
   ]
  },
  {
   "cell_type": "code",
   "execution_count": null,
   "metadata": {},
   "outputs": [],
   "source": [
    "full_df = pd.read_csv('overlap-data-all-d.csv')\n",
    "group_combinations2 = {}\n",
    "for (truth, typ) in [(True, 'SNP'), (True, 'INDEL'), (False, 'SNP'), (False, 'INDEL')]:\n",
    "    part_df = full_df.loc[(full_df.Type==typ)&(full_df.Truth==truth)].set_index(kits)\n",
    "    group_combinations2[(truth, typ)] = part_df.Count\n",
    "\n",
    "print(group_combinations2[(True, 'SNP')].head(n=1))"
   ]
  },
  {
   "cell_type": "code",
   "execution_count": null,
   "metadata": {},
   "outputs": [],
   "source": [
    "# Uncomment this to load from file \n",
    "#group_combinations = group_combinations2"
   ]
  },
  {
   "cell_type": "markdown",
   "metadata": {},
   "source": [
    "# Testing / Experiment"
   ]
  },
  {
   "cell_type": "code",
   "execution_count": null,
   "metadata": {},
   "outputs": [],
   "source": [
    "løk = pd.DataFrame(\n",
    "    {\n",
    "        #'Kit': ['Nextera', 'NEB', 'Nextera', 'NEB', 'Nextera', 'NEB'],\n",
    "        'Nextera': [True, True, True, False, False, True],\n",
    "        'NEB':   [ False, True, True, False, False, True],\n",
    "        'Type':  ['SNP','SNP','SNP','INDEL','SNP','SNP']\n",
    "    }\n",
    ").set_index(['Nextera', 'NEB'])\n",
    "up = upsetplot.UpSet(løk)\n",
    "up.add_stacked_bars('Type')\n",
    "up.plot()"
   ]
  },
  {
   "cell_type": "code",
   "execution_count": null,
   "metadata": {},
   "outputs": [],
   "source": [
    "plt.subplots(2, 2)"
   ]
  },
  {
   "cell_type": "code",
   "execution_count": null,
   "metadata": {},
   "outputs": [],
   "source": [
    "(fig, (tops, bots)) = plt.subplots(2, 2)\n",
    "up2 = upsetplot.UpSet(løk)\n",
    "up2.plot_matrix(bots[1])\n",
    "up2.add_stacked_bars('Type')"
   ]
  },
  {
   "cell_type": "code",
   "execution_count": null,
   "metadata": {},
   "outputs": [],
   "source": []
  },
  {
   "cell_type": "markdown",
   "metadata": {},
   "source": [
    "# SNP count double check with bcftools"
   ]
  },
  {
   "cell_type": "code",
   "execution_count": null,
   "metadata": {},
   "outputs": [],
   "source": [
    "af_names = list(os.path.basename(p).replace(\".vcf.gz\",\"\") for p in af.Path)\n",
    "print(\" \".join(af_names))"
   ]
  },
  {
   "cell_type": "raw",
   "metadata": {},
   "source": [
    "for p in Kapa-100ng-2 Kapa-100ng-3 Quanta-100ng-4 Nextera-100ng-4 NEB-100ng-4 Swift2S-100ng-4 Kapa-100ng-1 Quanta-100ng-1 NEB-100ng-2 Nextera-100ng-2 Swift2S-100ng-2 NEB-100ng-3 Nextera-100ng-3 Swift2S-100ng-3 Quanta-100ng-3 Kapa-100ng-4 NEB-100ng-1 Quanta-100ng-2 Nextera-100ng-1 Swift2S-100ng-1\n",
    "do \n",
    "    bcftools view -H -v snps -i 'FORMAT/QQ[1]>-5 && FORMAT/BD[1]==\"FP\"'  d50_variant_analysis/${p}_happy/${p}.vcf.gz |wc -l> tmp-snpcounts/fp-${p}.txt &\n",
    "    bcftools view -H -v snps -i 'FORMAT/QQ[1]>-5 && FORMAT/BD[1]==\"TP\"'  d50_variant_analysis/${p}_happy/${p}.vcf.gz |wc -l> tmp-snpcounts/tp-${p}.txt &\n",
    "done"
   ]
  },
  {
   "cell_type": "code",
   "execution_count": null,
   "metadata": {},
   "outputs": [],
   "source": [
    "af['bcftoolsTpCount'] = [int(open(f\"tmp-snpcounts/tp-{n}.txt\").read().strip()) for n in af_names]\n",
    "af['bcftoolsFpCount'] = [int(open(f\"tmp-snpcounts/fp-{n}.txt\").read().strip()) for n in af_names]\n",
    "print(af.groupby(\"Kit\").bcftoolsTpCount.sum())\n",
    "print(af.groupby(\"Kit\").bcftoolsFpCount.sum())\n",
    "print(af.groupby(\"Kit\").apply(lambda row: row.bcftoolsTpCount.sum() / (row.bcftoolsTpCount.sum() + row.bcftoolsFpCount.sum())))"
   ]
  },
  {
   "cell_type": "code",
   "execution_count": null,
   "metadata": {},
   "outputs": [],
   "source": []
  }
 ],
 "metadata": {
  "kernelspec": {
   "display_name": "Python 3",
   "language": "python",
   "name": "python3"
  },
  "language_info": {
   "codemirror_mode": {
    "name": "ipython",
    "version": 3
   },
   "file_extension": ".py",
   "mimetype": "text/x-python",
   "name": "python",
   "nbconvert_exporter": "python",
   "pygments_lexer": "ipython3",
   "version": "3.6.10"
  }
 },
 "nbformat": 4,
 "nbformat_minor": 5
}
