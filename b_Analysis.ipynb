{
 "cells": [
  {
   "cell_type": "code",
   "execution_count": 12,
   "metadata": {},
   "outputs": [],
   "source": [
    "import pandas as pd\n",
    "import seaborn as sns\n",
    "import matplotlib.pyplot as plt\n",
    "import numpy as np\n",
    "from glob import glob\n",
    "import re\n",
    "import os\n",
    "%matplotlib inline"
   ]
  },
  {
   "cell_type": "code",
   "execution_count": 13,
   "metadata": {},
   "outputs": [],
   "source": [
    "INCLUDE_SWIFT_LONG_LIBS = False\n",
    "WORKFLOW_BRANCH = \"c\""
   ]
  },
  {
   "cell_type": "markdown",
   "metadata": {},
   "source": [
    "# Analysis plots for alternative workflow branch\n",
    "\n",
    "The \"b\" workflow includes a re-processing of the data with downsampling based on coverage instead of read count.\n",
    "\n",
    "This notebook recreates many plots that are produced in other notebooks for the main workflow (downsample based on read count).\n",
    "\n",
    "The code is copy/pasted from the original notebooks, then condensed to produce only the most important plots, and adjusted for alternative file naming.\n",
    "\n",
    "The `savefig` function in this notebook writes a figure with file name prefix `b_`."
   ]
  },
  {
   "cell_type": "markdown",
   "metadata": {},
   "source": [
    "# General plots, from Main_analysis notebook"
   ]
  },
  {
   "cell_type": "code",
   "execution_count": 17,
   "metadata": {},
   "outputs": [
    {
     "name": "stdout",
     "output_type": "stream",
     "text": [
      "Sample count 48\n",
      "Number of entries:  40\n"
     ]
    }
   ],
   "source": [
    "def load_picard(path):\n",
    "    with open(path) as f:\n",
    "        mode = None\n",
    "        metrics_header = None\n",
    "        metrics_data = {}\n",
    "        histogram_series = []\n",
    "        histogram_data = []\n",
    "        for l in f:\n",
    "            line = l.rstrip(\"\\r\\n\")\n",
    "            if mode == 'metrics':\n",
    "                metrics_header = line.split()\n",
    "                mode = 'metrics2'\n",
    "            elif mode == 'metrics2':\n",
    "                if line != \"\":\n",
    "                    metrics_data = dict(zip(metrics_header, line.split()))\n",
    "                else:\n",
    "                    mode = None\n",
    "            elif mode == 'histogram':\n",
    "                histogram_series = line.split()\n",
    "                histogram_data = [list() for _ in histogram_series]\n",
    "                mode = 'histogram2'\n",
    "            elif mode == 'histogram2':\n",
    "                if line != \"\":\n",
    "                    for i, value in enumerate(line.split()):\n",
    "                        histogram_data[i].append(value)\n",
    "                else:\n",
    "                    mode = None\n",
    "            elif line.startswith(\"## METRICS CLASS\"):\n",
    "                mode = 'metrics'\n",
    "            elif line.startswith(\"## HISTOGRAM\"):\n",
    "                mode = 'histogram'\n",
    "        if histogram_series:\n",
    "            #metrics_data['histograms'] = dict(zip(histogram_series, histogram_data))\n",
    "            for name, data in zip(histogram_series, histogram_data):\n",
    "                metrics_data[name] = [float(x) for x in data]\n",
    "    return metrics_data\n",
    "samples = []\n",
    "for bam in glob(\"{}30_downsample/*_DS_MD.AlignmentSummaryMetrics.txt\".format(WORKFLOW_BRANCH)):\n",
    "    basepath = re.sub(r\"_MD\\.AlignmentSummaryMetrics\\.txt$\", \"\", bam)\n",
    "    data = {}\n",
    "    try:\n",
    "        for metrics in ['_MD.AlignmentSummaryMetrics', '_MD.InsertSizeMetrics',\n",
    "                        '.MarkDuplicatesMetrics', '_MD.WgsMetrics']:\n",
    "            new_data = load_picard(\"{}{}.txt\".format(basepath, metrics))\n",
    "            if any(k in data for k in new_data):\n",
    "                print(\"Duplicate key {} found in {}\".format(k, metrics))\n",
    "            data.update(new_data)\n",
    "    except FileNotFoundError as e:\n",
    "        print(\"File {} not found, skipping this sample.\".format(e.filename))\n",
    "        continue\n",
    "    samples.append(data)\n",
    "\n",
    "print(\"Sample count\", len(samples))\n",
    "inital_read_counts = []\n",
    "for alignment_txt in glob(\"20_piccard/*.AlignmentSummaryMetrics.txt\"):\n",
    "    library = re.match(r\"([^/]+)\\.AlignmentSummaryMetrics.txt\", os.path.basename(alignment_txt)).group(1)\n",
    "    new_data = load_picard(alignment_txt)\n",
    "    inital_read_counts.append({'LIBRARY': library, 'INITIAL_READS': int(new_data['TOTAL_READS']),\n",
    "                                    'INITIAL_READS_PER_END': int(new_data['TOTAL_READS']) / 2,\n",
    "                                    'INITIAL_READS_ALIGNED': int(new_data['PF_READS_ALIGNED']),\n",
    "                                    'INITIAL_READS_ALIGNED_PER_END': int(new_data['PF_READS_ALIGNED']) / 2})\n",
    "    \n",
    "main_df = pd.DataFrame(samples).reindex().apply(pd.to_numeric, axis=0, errors='ignore')\n",
    "in_reads_df = pd.DataFrame(inital_read_counts)\n",
    "\n",
    "df = pd.merge(\n",
    "        main_df, \n",
    "        in_reads_df,  \n",
    "        on='LIBRARY')\n",
    "df['Kit'] = pd.Categorical(df.LIBRARY.str.split(\"-\").str.get(0))\n",
    "df['Conc'] = pd.Categorical(df.LIBRARY.str.split(\"-\").str.get(1), categories=['10ng', '100ng'])\n",
    "if not INCLUDE_SWIFT_LONG_LIBS:\n",
    "    df = df.loc[df.Kit != \"Swiftlong\"]\n",
    "    df.Kit = df.Kit.cat.set_categories(['Kapa', 'NEB', 'Nextera', 'Quanta', 'Swift2S'])\n",
    "else:\n",
    "    df.Kit = df.Kit.cat.set_categories(['Kapa', 'NEB', 'Nextera', 'Quanta', 'Swift2S', 'Swiftlong'])\n",
    "    df_100 = df.loc[df.Conc == \"100ng\"]\n",
    "df.head(n=1)\n",
    "print(\"Number of entries: \", len(df))\n",
    "\n",
    "\n",
    "\n",
    "def savefig(name, main=True):\n",
    "    for fmt in ['pdf', 'png']:\n",
    "        if main:\n",
    "            if INCLUDE_SWIFT_LONG_LIBS:\n",
    "                plt.savefig(f'plots-main-withLong/{WORKFLOW_BRANCH}_{name}.{fmt}')\n",
    "            else:\n",
    "                plt.savefig(f'plots-main/{WORKFLOW_BRANCH}_{name}.{fmt}')\n",
    "        else:\n",
    "            if INCLUDE_SWIFT_LONG_LIBS:\n",
    "                plt.savefig(f'plots-suppl-withLong/{WORKFLOW_BRANCH}_{name}.{fmt}')\n",
    "            else:\n",
    "                plt.savefig(f'plots-suppl/{WORKFLOW_BRANCH}_{name}.{fmt}')"
   ]
  },
  {
   "cell_type": "markdown",
   "metadata": {},
   "source": [
    "# Quality of downsampling\n",
    "\n",
    "Depending on `WORKFLOW_BRANCH`, either the reads per end or the coverage should be close to the same for all libraries."
   ]
  },
  {
   "cell_type": "code",
   "execution_count": 18,
   "metadata": {},
   "outputs": [
    {
     "data": {
      "text/plain": [
       "Text(0.5, 1.0, 'Downsampled reads')"
      ]
     },
     "execution_count": 18,
     "metadata": {},
     "output_type": "execute_result"
    },
    {
     "data": {
      "image/png": "[encoded data removed]",
      "text/plain": [
       "<Figure size 432x288 with 1 Axes>"
      ]
     },
     "metadata": {
      "needs_background": "light"
     },
     "output_type": "display_data"
    }
   ],
   "source": [
    "df['TOTAL_READS_PER_END'] = df['TOTAL_READS'] / 2\n",
    "sns.boxplot(data=df, x='Kit', y='TOTAL_READS_PER_END', hue='Conc')\n",
    "plt.title('Downsampled reads')"
   ]
  },
  {
   "cell_type": "code",
   "execution_count": 20,
   "metadata": {},
   "outputs": [
    {
     "data": {
      "image/png": "[encoded data removed]",
      "text/plain": [
       "<Figure size 432x288 with 1 Axes>"
      ]
     },
     "metadata": {
      "needs_background": "light"
     },
     "output_type": "display_data"
    }
   ],
   "source": [
    "sns.boxplot(data=df, x=\"Kit\", y=\"MEAN_COVERAGE\",v hue=\"Conc\")\n",
    "plt.ylabel('Mean coverage')\n",
    "savefig(\"mean_coverage\")"
   ]
  },
  {
   "cell_type": "code",
   "execution_count": 21,
   "metadata": {},
   "outputs": [
    {
     "data": {
      "text/plain": [
       "<matplotlib.axes._subplots.AxesSubplot at 0x1a196abad0>"
      ]
     },
     "execution_count": 21,
     "metadata": {},
     "output_type": "execute_result"
    },
    {
     "data": {
      "image/png": "[encoded data removed]",
      "text/plain": [
       "<Figure size 432x288 with 1 Axes>"
      ]
     },
     "metadata": {
      "needs_background": "light"
     },
     "output_type": "display_data"
    }
   ],
   "source": [
    "df['rel_coverage'] = df.MEAN_COVERAGE / df.MEAN_COVERAGE.mean()\n",
    "sns.boxplot(data=df, x=\"Kit\", y=\"rel_coverage\", hue=\"Conc\")"
   ]
  },
  {
   "cell_type": "markdown",
   "metadata": {},
   "source": [
    "## Percentage aligning to the human genome"
   ]
  },
  {
   "cell_type": "code",
   "execution_count": null,
   "metadata": {},
   "outputs": [],
   "source": [
    "df['PCT_HQ_PF_READS_ALIGNED'] = df.PF_HQ_ALIGNED_READS / df.TOTAL_READS\n",
    "sns.boxplot(data=df, x='Kit', y='PCT_HQ_PF_READS_ALIGNED', hue='Conc')\n",
    "plt.title('Reads aligned to human genome (MAPQ>=20)')\n",
    "plt.ylabel(\"Fraction of reads\")\n",
    "plt.xlabel(\"\")\n",
    "savefig(\"aligned_reads_human\")"
   ]
  },
  {
   "cell_type": "code",
   "execution_count": null,
   "metadata": {},
   "outputs": [],
   "source": []
  },
  {
   "cell_type": "markdown",
   "metadata": {},
   "source": [
    "# Coverage, from Deeptoos_coverage_analysis"
   ]
  },
  {
   "cell_type": "code",
   "execution_count": null,
   "metadata": {},
   "outputs": [],
   "source": [
    "for conc in [\"10ng\", \"100ng\"]:\n",
    "    print(conc)\n",
    "    cov_matrix = pd.read_csv(\"{}50_deeptools_summary/coverage_{}.txt\".format(WORKFLOW_BRANCH, conc), skiprows=1, sep='\\t')\n",
    "    cov_matrix.columns = [\n",
    "        c.replace(\"'\", \"\").replace(\"_DS_MD.bam\", \"\")\n",
    "        for c in cov_matrix.columns\n",
    "    ]\n",
    "    if not INCLUDE_SWIFT_LONG_LIBS:\n",
    "        cov_matrix = cov_matrix[[c for c in cov_matrix.columns if not c.startswith(\"Swiftlong\")]]\n",
    "    columns = cov_matrix.columns[3:]\n",
    "    counts_matrix = cov_matrix.iloc[:, 3:].apply(pd.value_counts)\n",
    "\n",
    "    counts_long = counts_matrix.reset_index().rename({'index': 'Coverage'}, axis=1).melt(id_vars=['Coverage'], value_name=\"NumReads\")\n",
    "    counts_long['Kit'] = counts_long.variable.str.split(\"-\").str.get(0)\n",
    "    counts_long['Replicate'] = counts_long.variable.str.split(\"-\").str.get(2)\n",
    "    #counts_long = counts_long.groupby(['Kit', 'Replicate']).apply(reverse_cum_sum)\n",
    "    counts_medium = counts_long[counts_long.Coverage < 20]\n",
    "    plt.figure()\n",
    "    sns.lineplot(x='Coverage', y='NumReads', hue='Kit', data=counts_medium)\n",
    "    plt.ylabel(\"Number of reads\")\n",
    "    savefig(\"coverage_deeptools_{}\".format(conc))\n",
    "    plt.show()"
   ]
  },
  {
   "cell_type": "markdown",
   "metadata": {},
   "source": [
    "# Insert sizes, from same NB"
   ]
  },
  {
   "cell_type": "code",
   "execution_count": null,
   "metadata": {},
   "outputs": [],
   "source": [
    "# Pretty if n_boot ~ 3000, ugly but fast if around 50\n",
    "n_boot = 3333"
   ]
  },
  {
   "cell_type": "code",
   "execution_count": null,
   "metadata": {},
   "outputs": [],
   "source": [
    "insertSizeDatas = [pd.read_csv(\n",
    "                        \"{}50_deeptools_summary/insertSize_{}.txt\".format(WORKFLOW_BRANCH, conc),\n",
    "                        sep=\"\\t\", skiprows=1\n",
    "                        ).assign(Conc=conc)\n",
    "                   for conc in [\"10ng\", \"100ng\"]]\n",
    "\n",
    "insertSizeData = pd.concat(insertSizeDatas)\n",
    "insertSizeData[['Kit', 'Replicate']] = insertSizeData.Sample.str.extract(r\"([a-zA-Z0-9]+)-100?ng-([1234])\")\n",
    "if not INCLUDE_SWIFT_LONG_LIBS:\n",
    "    insertSizeData = insertSizeData[insertSizeData.Kit != 'Swiftlong']\n",
    "shorterInsertSize = insertSizeData[insertSizeData.Size < 800]\n",
    "for conc in [\"10ng\", \"100ng\"]:\n",
    "    print(conc)\n",
    "    plt.figure(figsize=(10,10))\n",
    "    sns.lineplot(x=\"Size\", y=\"Occurrences\", hue=\"Kit\", data=shorterInsertSize[shorterInsertSize.Conc == conc], n_boot=n_boot)\n",
    "    savefig(\"insert_size_deeptools_{}\".format(conc))\n",
    "    plt.show()"
   ]
  },
  {
   "cell_type": "markdown",
   "metadata": {},
   "source": [
    "# GC content not recomputed\n",
    "\n",
    "It requires Qualimap. Not done for this workflow branch, see the main workflow, which downsamples based on number of reads. Notebook Deeptools_coverage_analysis."
   ]
  },
  {
   "cell_type": "code",
   "execution_count": null,
   "metadata": {},
   "outputs": [],
   "source": [
    "#gc_content_files = glob(os.path.join(\"30_downsample\", \"qualimap\", \"*-aa_DS\", \"raw_data_qualimapReport\", \"mapped_reads_gc-content_distribution.txt\"))\n",
    "#gc_data = pd.concat(map(lambda x: pd.read_csv(x, sep=\"\\t\").assign(File=x), gc_content_files))\n",
    "#gc_data.head(n=1)\n",
    "#sample_file_name = lambda path: os.path.basename(os.path.dirname(os.path.dirname(path)))\n",
    "#gc_data['Kit'] = pd.Categorical(gc_data.File.apply(lambda x: sample_file_name(x).split(\"-\")[0]))\n",
    "#gc_data['Conc'] = pd.Categorical(gc_data.File.apply(lambda x: sample_file_name(x).split(\"-\")[1]))\n",
    "#gc_data['Replicate'] = pd.Categorical(gc_data.File.apply(lambda x: sample_file_name(x).split(\"-\")[2]))\n",
    "#gc_data.head(n=1)\n",
    "#for conc in [\"10ng\", \"100ng\"]:\n",
    "#    sns.lineplot(data=gc_data[\n",
    "#                            (gc_data.Conc == conc) & \n",
    "#                            (gc_data[\"#GC Content (%)\"] > 10) & \n",
    "#                            (gc_data[\"#GC Content (%)\"] < 80)\n",
    "#                            ], \n",
    "#                 x=\"#GC Content (%)\", y=\"Sample\", hue=\"Kit\")\n",
    "#    plt.xlabel(\"GC content (%)\")\n",
    "#    plt.ylabel(\"Fraction of mapped reads\")\n",
    "#    savefig(\"gc_content_{}\".format(conc))\n",
    "#    print(conc)\n",
    "#    plt.show()"
   ]
  },
  {
   "cell_type": "markdown",
   "metadata": {},
   "source": [
    "# Variant calling plots -- from NB variant_calling"
   ]
  },
  {
   "cell_type": "code",
   "execution_count": null,
   "metadata": {},
   "outputs": [],
   "source": [
    "files = glob(f\"{WORKFLOW_BRANCH}50_variant_analysis/*/*.roc.all.csv.gz\")\n",
    "dataframes = []\n",
    "for file in files:\n",
    "    m = re.search(r\"([^/]+)-(100?ng)-(\\d)\\.\", file)\n",
    "    kit, conc, rep = m.groups()\n",
    "    if not INCLUDE_SWIFT_LONG_LIBS and kit == \"Swiftlong\":\n",
    "        continue\n",
    "    data = pd.read_csv(file)\n",
    "    data = data[(data.Filter==\"ALL\") & (data['QQ.Field'] == \"CNN_2D\") \n",
    "                  & (data['QQ'] != '*') & (data.Subset == \"*\") & (data.Subtype == \"*\")]\n",
    "    cols = [\"METRIC.Recall\", \"METRIC.Precision\", \"QQ\"]\n",
    "    data = data[cols].apply(pd.to_numeric, axis=1).assign(Type=data.Type)\n",
    "    data = data[data['METRIC.Recall'] > 0.01]\n",
    "    data['Kit'] = kit\n",
    "    data['Conc'] = conc\n",
    "    data['Replicate'] = rep\n",
    "    dataframes.append(data)\n",
    "data = pd.concat(dataframes).reset_index(drop=True)\n",
    "data['Kit'] = pd.Categorical(data.Kit)\n",
    "data['Conc'] = pd.Categorical(data.Conc, categories=['10ng', '100ng'])\n",
    "data['F1_score'] = 2*(data['METRIC.Recall'] * data['METRIC.Precision']) / (data['METRIC.Recall'] + data['METRIC.Precision'])"
   ]
  },
  {
   "cell_type": "code",
   "execution_count": null,
   "metadata": {},
   "outputs": [],
   "source": [
    "def get_min_qq_row_for_replicate(group_df):\n",
    "    return group_df.loc[group_df.QQ.idxmin()]\n",
    "\n",
    "def get_mean_over_replicates(l):\n",
    "    return l.groupby(\"Replicate\").apply(get_min_qq_row_for_replicate).mean()\n",
    "\n",
    "quality_thres_mean = data[data.QQ > -5].groupby([\"Type\", \"Kit\", \"Conc\"]).apply(\n",
    "            get_mean_over_replicates\n",
    "        )\n",
    "summary = quality_thres_mean[[\"METRIC.Recall\", \"METRIC.Precision\", \"QQ\", \"F1_score\"]]\n",
    "summary.to_csv(\"result-tables/b_vc-performance-summary.txt\")\n",
    "summary"
   ]
  },
  {
   "cell_type": "code",
   "execution_count": null,
   "metadata": {},
   "outputs": [],
   "source": [
    "def get_replicates(l):\n",
    "    return l.groupby(\"Replicate\", as_index=False).apply(get_min_qq_row_for_replicate)\n",
    "\n",
    "box_data = data[data.QQ > -5].groupby([\"Type\", \"Kit\", \"Conc\"], as_index=False).apply(get_replicates)\n",
    "\n",
    "plt.figure()\n",
    "sns.boxplot(data=box_data[box_data.Type == \"SNP\"], x=\"Kit\", y=\"F1_score\", hue=\"Conc\")\n",
    "savefig(\"vc_snv_qthresh_mean_f1\")\n",
    "plt.figure()\n",
    "sns.boxplot(data=box_data[box_data.Type == \"INDEL\"], x=\"Kit\", y=\"F1_score\", hue=\"Conc\")\n",
    "savefig(\"vc_indel_qthresh_mean_f1\")"
   ]
  },
  {
   "cell_type": "code",
   "execution_count": null,
   "metadata": {},
   "outputs": [],
   "source": [
    "# Primary code in development, and series definition\n",
    "newrecall = pd.Index(np.linspace(0, 1, num=201))\n",
    "def resample(groupdata):\n",
    "    dedup = groupdata.drop_duplicates('METRIC.Recall')\n",
    "    # Create series with all recall values as index, both original ones and ones at fixed interval\n",
    "    precision_values = dedup.set_index('METRIC.Recall')['METRIC.Precision'].reindex(\n",
    "        pd.Index(dedup['METRIC.Recall']).union(newrecall)\n",
    "    )\n",
    "    # Resulting series contains recall as index and precision as values, and only the new\n",
    "    # recall values, not the original values. (See above cell for newrecall)\n",
    "    precision_series = precision_values.interpolate(method='values').loc[newrecall]\n",
    "    # Blank all values after the last known data point (default is to set these to the last\n",
    "    # sensitivity value)\n",
    "    max_data_precision = dedup['METRIC.Recall'].max()\n",
    "    precision_series[precision_series.index > max_data_precision] = np.nan\n",
    "    precision_series.index.name = 'METRIC.Recall'\n",
    "    # Data frame to return:\n",
    "    return precision_series.to_frame()\n",
    "resampled_df1 = data.groupby([\"Type\", \"Conc\", \"Kit\", \"Replicate\"]).apply(resample)\n",
    "resampled_df = resampled_df1.groupby(level=['Type', 'Conc', 'Kit', 'METRIC.Recall']).apply( # Note: not \"Replicate\" lvl\n",
    "        # The second clause in the ternary returns a dataframe with all NaNs\n",
    "        lambda d: d if not d['METRIC.Precision'].hasnans else pd.DataFrame().reindex_like(d)\n",
    ")"
   ]
  },
  {
   "cell_type": "code",
   "execution_count": null,
   "metadata": {},
   "outputs": [],
   "source": [
    "for conc in [\"10ng\", \"100ng\"]:\n",
    "    plt.figure(figsize=(10,10))\n",
    "    g = sns.lineplot(y=\"METRIC.Precision\", x=\"METRIC.Recall\", hue=\"Kit\",\n",
    "                     n_boot=n_boot,\n",
    "                     data=resampled_df.loc[('SNP', conc)].reset_index())\n",
    "    plt.ylim(0.9, 1.0)\n",
    "    plt.xlim(0.0, 0.95)\n",
    "    plt.ylabel(\"Precision\")\n",
    "    plt.xlabel(\"Recall\")\n",
    "    plt.title(\"SNV (conc = {})\".format(conc))\n",
    "    savefig(\"snv_rs_{}\".format(conc))\n",
    "    plt.show()"
   ]
  },
  {
   "cell_type": "code",
   "execution_count": null,
   "metadata": {},
   "outputs": [],
   "source": [
    "for conc in [\"10ng\", \"100ng\"]:\n",
    "    plt.figure(figsize=(10,10))\n",
    "    g = sns.lineplot(y=\"METRIC.Precision\", x=\"METRIC.Recall\", hue=\"Kit\",\n",
    "                     n_boot=n_boot, data=resampled_df.loc[('INDEL', conc)].reset_index())\n",
    "    plt.ylim(0.55, 1.0)\n",
    "    plt.xlim(0.0, 0.75)\n",
    "    plt.ylabel(\"Precision\")\n",
    "    plt.xlabel(\"Recall\")\n",
    "    plt.title(\"INDEL (conc = {})\".format(conc))\n",
    "    savefig(\"indel_rs_{}\".format(conc))\n",
    "    plt.show()"
   ]
  }
 ],
 "metadata": {
  "kernelspec": {
   "display_name": "Python 3",
   "language": "python",
   "name": "python3"
  },
  "language_info": {
   "codemirror_mode": {
    "name": "ipython",
    "version": 3
   },
   "file_extension": ".py",
   "mimetype": "text/x-python",
   "name": "python",
   "nbconvert_exporter": "python",
   "pygments_lexer": "ipython3",
   "version": "3.7.4"
  }
 },
 "nbformat": 4,
 "nbformat_minor": 2
}
