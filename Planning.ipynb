{
 "cells": [
  {
   "cell_type": "markdown",
   "metadata": {},
   "source": [
    "# TO DO / Done"
   ]
  },
  {
   "cell_type": "markdown",
   "metadata": {},
   "source": [
    "Complete:\n",
    "\n",
    " * Zoom insert size Nextera Flex -- oscillatory shape \n",
    "\n",
    " * Insert size plot: \n",
    "   * Small fragment fraction table\n",
    "   * Avreage size, median\n",
    "   * Reproducibility of size between replicates\n",
    "   * Scale: million reads\n",
    "   * Plot for greater than 35 bases (exclude peak at 20)\n",
    " \n",
    " * Q30 range 0 - 100   \n",
    "   \n",
    " * \n",
    "   \n",
    "Incomplete:\n",
    "\n",
    " * Non-ExAmp duplicates\n",
    "   * Quanta what's up\n",
    "   * Scale % [x]\n",
    "   * Determine if duplicates are caused by non-random restriction enzyme\n",
    "   \n",
    " * Mapping quality\n",
    "   * Description\n",
    "   \n",
    " * Kapa\n",
    "   * Bad aligned %, why is it worse\n",
    "   \n",
    " * Arabidopsis in same plot as human"
   ]
  },
  {
   "cell_type": "markdown",
   "metadata": {},
   "source": [
    "## Questions\n",
    "\n",
    "  * There was a question\n",
    "  "
   ]
  },
  {
   "cell_type": "code",
   "execution_count": null,
   "metadata": {},
   "outputs": [],
   "source": []
  }
 ],
 "metadata": {
  "kernelspec": {
   "display_name": "Python 3",
   "language": "python",
   "name": "python3"
  },
  "language_info": {
   "codemirror_mode": {
    "name": "ipython",
    "version": 3
   },
   "file_extension": ".py",
   "mimetype": "text/x-python",
   "name": "python",
   "nbconvert_exporter": "python",
   "pygments_lexer": "ipython3",
   "version": "3.7.3"
  }
 },
 "nbformat": 4,
 "nbformat_minor": 2
}
